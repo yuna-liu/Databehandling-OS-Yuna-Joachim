{
 "cells": [
  {
   "cell_type": "markdown",
   "metadata": {},
   "source": [
    "# Projekt OS\n",
    "\n",
    "## Uppgift 0 - Uppvärmning\n"
   ]
  },
  {
   "cell_type": "code",
   "execution_count": 1,
   "metadata": {},
   "outputs": [],
   "source": [
    "import numpy as np\n",
    "import pandas as pd\n",
    "import matplotlib.pyplot as plt\n",
    "import seaborn as sns\n",
    "import plotly_express as px\n",
    "import plotly.graph_objects as go\n",
    "from datetime import datetime\n",
    "from load_data import ShowMeData"
   ]
  },
  {
   "cell_type": "code",
   "execution_count": 2,
   "metadata": {},
   "outputs": [],
   "source": [
    "df = ShowMeData(\"athlete_events.csv\")\n"
   ]
  },
  {
   "cell_type": "code",
   "execution_count": 3,
   "metadata": {},
   "outputs": [
    {
     "data": {
      "text/html": [
       "<div>\n",
       "<style scoped>\n",
       "    .dataframe tbody tr th:only-of-type {\n",
       "        vertical-align: middle;\n",
       "    }\n",
       "\n",
       "    .dataframe tbody tr th {\n",
       "        vertical-align: top;\n",
       "    }\n",
       "\n",
       "    .dataframe thead th {\n",
       "        text-align: right;\n",
       "    }\n",
       "</style>\n",
       "<table border=\"1\" class=\"dataframe\">\n",
       "  <thead>\n",
       "    <tr style=\"text-align: right;\">\n",
       "      <th></th>\n",
       "      <th>ID</th>\n",
       "      <th>Name</th>\n",
       "      <th>Sex</th>\n",
       "      <th>Age</th>\n",
       "      <th>Height</th>\n",
       "      <th>Weight</th>\n",
       "      <th>Team</th>\n",
       "      <th>NOC</th>\n",
       "      <th>Games</th>\n",
       "      <th>Year</th>\n",
       "      <th>Season</th>\n",
       "      <th>City</th>\n",
       "      <th>Sport</th>\n",
       "      <th>Event</th>\n",
       "      <th>Medal</th>\n",
       "    </tr>\n",
       "  </thead>\n",
       "  <tbody>\n",
       "    <tr>\n",
       "      <th>0</th>\n",
       "      <td>1</td>\n",
       "      <td>A Dijiang</td>\n",
       "      <td>M</td>\n",
       "      <td>24.0</td>\n",
       "      <td>180.0</td>\n",
       "      <td>80.0</td>\n",
       "      <td>China</td>\n",
       "      <td>CHN</td>\n",
       "      <td>1992 Summer</td>\n",
       "      <td>1992</td>\n",
       "      <td>Summer</td>\n",
       "      <td>Barcelona</td>\n",
       "      <td>Basketball</td>\n",
       "      <td>Basketball Men's Basketball</td>\n",
       "      <td>NaN</td>\n",
       "    </tr>\n",
       "    <tr>\n",
       "      <th>1</th>\n",
       "      <td>2</td>\n",
       "      <td>A Lamusi</td>\n",
       "      <td>M</td>\n",
       "      <td>23.0</td>\n",
       "      <td>170.0</td>\n",
       "      <td>60.0</td>\n",
       "      <td>China</td>\n",
       "      <td>CHN</td>\n",
       "      <td>2012 Summer</td>\n",
       "      <td>2012</td>\n",
       "      <td>Summer</td>\n",
       "      <td>London</td>\n",
       "      <td>Judo</td>\n",
       "      <td>Judo Men's Extra-Lightweight</td>\n",
       "      <td>NaN</td>\n",
       "    </tr>\n",
       "    <tr>\n",
       "      <th>2</th>\n",
       "      <td>3</td>\n",
       "      <td>Gunnar Nielsen Aaby</td>\n",
       "      <td>M</td>\n",
       "      <td>24.0</td>\n",
       "      <td>NaN</td>\n",
       "      <td>NaN</td>\n",
       "      <td>Denmark</td>\n",
       "      <td>DEN</td>\n",
       "      <td>1920 Summer</td>\n",
       "      <td>1920</td>\n",
       "      <td>Summer</td>\n",
       "      <td>Antwerpen</td>\n",
       "      <td>Football</td>\n",
       "      <td>Football Men's Football</td>\n",
       "      <td>NaN</td>\n",
       "    </tr>\n",
       "    <tr>\n",
       "      <th>3</th>\n",
       "      <td>4</td>\n",
       "      <td>Edgar Lindenau Aabye</td>\n",
       "      <td>M</td>\n",
       "      <td>34.0</td>\n",
       "      <td>NaN</td>\n",
       "      <td>NaN</td>\n",
       "      <td>Denmark/Sweden</td>\n",
       "      <td>DEN</td>\n",
       "      <td>1900 Summer</td>\n",
       "      <td>1900</td>\n",
       "      <td>Summer</td>\n",
       "      <td>Paris</td>\n",
       "      <td>Tug-Of-War</td>\n",
       "      <td>Tug-Of-War Men's Tug-Of-War</td>\n",
       "      <td>Gold</td>\n",
       "    </tr>\n",
       "    <tr>\n",
       "      <th>4</th>\n",
       "      <td>5</td>\n",
       "      <td>Christine Jacoba Aaftink</td>\n",
       "      <td>F</td>\n",
       "      <td>21.0</td>\n",
       "      <td>185.0</td>\n",
       "      <td>82.0</td>\n",
       "      <td>Netherlands</td>\n",
       "      <td>NED</td>\n",
       "      <td>1988 Winter</td>\n",
       "      <td>1988</td>\n",
       "      <td>Winter</td>\n",
       "      <td>Calgary</td>\n",
       "      <td>Speed Skating</td>\n",
       "      <td>Speed Skating Women's 500 metres</td>\n",
       "      <td>NaN</td>\n",
       "    </tr>\n",
       "  </tbody>\n",
       "</table>\n",
       "</div>"
      ],
      "text/plain": [
       "   ID                      Name Sex   Age  Height  Weight            Team  \\\n",
       "0   1                 A Dijiang   M  24.0   180.0    80.0           China   \n",
       "1   2                  A Lamusi   M  23.0   170.0    60.0           China   \n",
       "2   3       Gunnar Nielsen Aaby   M  24.0     NaN     NaN         Denmark   \n",
       "3   4      Edgar Lindenau Aabye   M  34.0     NaN     NaN  Denmark/Sweden   \n",
       "4   5  Christine Jacoba Aaftink   F  21.0   185.0    82.0     Netherlands   \n",
       "\n",
       "   NOC        Games  Year  Season       City          Sport  \\\n",
       "0  CHN  1992 Summer  1992  Summer  Barcelona     Basketball   \n",
       "1  CHN  2012 Summer  2012  Summer     London           Judo   \n",
       "2  DEN  1920 Summer  1920  Summer  Antwerpen       Football   \n",
       "3  DEN  1900 Summer  1900  Summer      Paris     Tug-Of-War   \n",
       "4  NED  1988 Winter  1988  Winter    Calgary  Speed Skating   \n",
       "\n",
       "                              Event Medal  \n",
       "0       Basketball Men's Basketball   NaN  \n",
       "1      Judo Men's Extra-Lightweight   NaN  \n",
       "2           Football Men's Football   NaN  \n",
       "3       Tug-Of-War Men's Tug-Of-War  Gold  \n",
       "4  Speed Skating Women's 500 metres   NaN  "
      ]
     },
     "execution_count": 3,
     "metadata": {},
     "output_type": "execute_result"
    }
   ],
   "source": [
    "athlete_events = df.parse_data()\n",
    "athlete_events.head()"
   ]
  },
  {
   "cell_type": "code",
   "execution_count": 6,
   "metadata": {},
   "outputs": [
    {
     "name": "stdout",
     "output_type": "stream",
     "text": [
      "<class 'pandas.core.frame.DataFrame'>\n",
      "RangeIndex: 271116 entries, 0 to 271115\n",
      "Data columns (total 15 columns):\n",
      " #   Column  Non-Null Count   Dtype  \n",
      "---  ------  --------------   -----  \n",
      " 0   ID      271116 non-null  int64  \n",
      " 1   Name    271116 non-null  object \n",
      " 2   Sex     271116 non-null  object \n",
      " 3   Age     261642 non-null  float64\n",
      " 4   Height  210945 non-null  float64\n",
      " 5   Weight  208241 non-null  float64\n",
      " 6   Team    271116 non-null  object \n",
      " 7   NOC     271116 non-null  object \n",
      " 8   Games   271116 non-null  object \n",
      " 9   Year    271116 non-null  int64  \n",
      " 10  Season  271116 non-null  object \n",
      " 11  City    271116 non-null  object \n",
      " 12  Sport   271116 non-null  object \n",
      " 13  Event   271116 non-null  object \n",
      " 14  Medal   39783 non-null   object \n",
      "dtypes: float64(3), int64(2), object(10)\n",
      "memory usage: 31.0+ MB\n"
     ]
    },
    {
     "data": {
      "text/plain": [
       "\"\\n        Dataframe info:\\nNone\\n\\n        Name: athlete_events.csv\\n\\n        Sheet name: None\\n\\n        Data head():\\n   ID                      Name Sex   Age  Height  Weight            Team  \\\\\\n0   1                 A Dijiang   M  24.0   180.0    80.0           China   \\n1   2                  A Lamusi   M  23.0   170.0    60.0           China   \\n2   3       Gunnar Nielsen Aaby   M  24.0     NaN     NaN         Denmark   \\n3   4      Edgar Lindenau Aabye   M  34.0     NaN     NaN  Denmark/Sweden   \\n4   5  Christine Jacoba Aaftink   F  21.0   185.0    82.0     Netherlands   \\n\\n   NOC        Games  Year  Season       City          Sport  \\\\\\n0  CHN  1992 Summer  1992  Summer  Barcelona     Basketball   \\n1  CHN  2012 Summer  2012  Summer     London           Judo   \\n2  DEN  1920 Summer  1920  Summer  Antwerpen       Football   \\n3  DEN  1900 Summer  1900  Summer      Paris     Tug-Of-War   \\n4  NED  1988 Winter  1988  Winter    Calgary  Speed Skating   \\n\\n                              Event Medal  \\n0       Basketball Men's Basketball   NaN  \\n1      Judo Men's Extra-Lightweight   NaN  \\n2           Football Men's Football   NaN  \\n3       Tug-Of-War Men's Tug-Of-War  Gold  \\n4  Speed Skating Women's 500 metres   NaN  \\n\\n        Shape: (271116, 15)\\n\\n        Index: RangeIndex(start=0, stop=271116, step=1)\\n\\n        Columns: Index(['ID', 'Name', 'Sex', 'Age', 'Height', 'Weight', 'Team', 'NOC', 'Games',\\n       'Year', 'Season', 'City', 'Sport', 'Event', 'Medal'],\\n      dtype='object')\\n\\n        Variables types:\\nID          int64\\nName       object\\nSex        object\\nAge       float64\\nHeight    float64\\nWeight    float64\\nTeam       object\\nNOC        object\\nGames      object\\nYear        int64\\nSeason     object\\nCity       object\\nSport      object\\nEvent      object\\nMedal      object\\ndtype: object\\n      \\n        Dataframe description:\\n                  ID            Age         Height         Weight  \\\\\\ncount  271116.000000  261642.000000  210945.000000  208241.000000   \\nmean    68248.954396      25.556898     175.338970      70.702393   \\nstd     39022.286345       6.393561      10.518462      14.348020   \\nmin         1.000000      10.000000     127.000000      25.000000   \\n25%     34643.000000      21.000000     168.000000      60.000000   \\n50%     68205.000000      24.000000     175.000000      70.000000   \\n75%    102097.250000      28.000000     183.000000      79.000000   \\nmax    135571.000000      97.000000     226.000000     214.000000   \\n\\n                Year  \\ncount  271116.000000  \\nmean     1978.378480  \\nstd        29.877632  \\nmin      1896.000000  \\n25%      1960.000000  \\n50%      1988.000000  \\n75%      2002.000000  \\nmax      2016.000000  \\n\\n        Summary of missing values:\\nID             0\\nName           0\\nSex            0\\nAge         9474\\nHeight     60171\\nWeight     62875\\nTeam           0\\nNOC            0\\nGames          0\\nYear           0\\nSeason         0\\nCity           0\\nSport          0\\nEvent          0\\nMedal     231333\\ndtype: int64\\n\\n        Total number of missing values:\\n363853\\n        \\n        The percentage of missing values in each column:\\nID        0.000000\\nName      0.000000\\nSex       0.000000\\nAge       0.034944\\nHeight    0.221938\\nWeight    0.231912\\nTeam      0.000000\\nNOC       0.000000\\nGames     0.000000\\nYear      0.000000\\nSeason    0.000000\\nCity      0.000000\\nSport     0.000000\\nEvent     0.000000\\nMedal     0.853262\\ndtype: float64  \\n        \\n        The variables that present null values the most:\\nMedal     0.853262\\nWeight    0.231912\\nHeight    0.221938\\nAge       0.034944\\nID        0.000000\\ndtype: float64\\n\\n        \\n        \""
      ]
     },
     "execution_count": 6,
     "metadata": {},
     "output_type": "execute_result"
    }
   ],
   "source": [
    "df.show_info()"
   ]
  }
 ],
 "metadata": {
  "interpreter": {
   "hash": "2971b745844267d7cb4483e5f20d838014d69d8df52b415790673c9e258dc44a"
  },
  "kernelspec": {
   "display_name": "Python 3.9.6 64-bit",
   "language": "python",
   "name": "python3"
  },
  "language_info": {
   "codemirror_mode": {
    "name": "ipython",
    "version": 3
   },
   "file_extension": ".py",
   "mimetype": "text/x-python",
   "name": "python",
   "nbconvert_exporter": "python",
   "pygments_lexer": "ipython3",
   "version": "3.9.6"
  },
  "orig_nbformat": 4
 },
 "nbformat": 4,
 "nbformat_minor": 2
}
