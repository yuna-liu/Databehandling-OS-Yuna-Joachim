{
 "cells": [
  {
   "cell_type": "markdown",
   "metadata": {},
   "source": [
    "Temporary jupyter notebook file to look at the data in canada.csv"
   ]
  },
  {
   "cell_type": "code",
   "execution_count": 27,
   "metadata": {},
   "outputs": [
    {
     "name": "stdout",
     "output_type": "stream",
     "text": [
      "['Unnamed: 0', 'ID', 'Name', 'HashName', 'Sex', 'Age', 'Height', 'Weight', 'Team', 'NOC', 'Games', 'Year', 'Season', 'City', 'Event', 'Medal']\n"
     ]
    }
   ],
   "source": [
    "# Setup\n",
    "import pandas as pd\n",
    "import plotly_express as px\n",
    "\n",
    "# Load data\n",
    "canada_origdata = pd.read_csv(\"data/canada.csv\").drop(\n",
    "    [\"region\",\"notes\", \"_merge\"], axis=\"columns\"\n",
    ")\n",
    "\n",
    "# List of columns\n",
    "# ['Unnamed: 0', 'ID', 'Name', 'HashName', 'Sex', 'Age', 'Height',\n",
    "#       'Weight', 'Team', 'NOC', 'Games', 'Year', 'Season', 'City', 'Sport',\n",
    "#       'Event', 'Medal', 'region', 'notes', '_merge']\n",
    "\n",
    "columnnames = [column for column in canada_origdata.columns if column != \"Sport\"]\n",
    "\n",
    "print(columnnames)"
   ]
  },
  {
   "cell_type": "code",
   "execution_count": null,
   "metadata": {},
   "outputs": [],
   "source": [
    "# Useful functions to be added to functionsfile or class file later\n",
    "\n",
    "def extract_top_attribute(df_orig, column_name, new_column):\n",
    "    \"\"\"\n",
    "    Input:\n",
    "        df_orig: DataFrame\n",
    "        column_name: column to get top values of\n",
    "        new_column: new column name with points\n",
    "    Returns:\n",
    "        df_best: new DataFrame\n",
    "    \"\"\"\n",
    "    \n",
    "    # TODO: some more comments\n",
    "    df_best = df_orig.dropna(axis=\"rows\")\n",
    "\n",
    "    # TODO: this list of columns to drop doesn't work\n",
    "    df_best = df_best.groupby(column_name).sum().drop(\n",
    "        [column for column in df_best.columns if column != column_name],\n",
    "        axis=\"columns\"\n",
    "    ).sort_values(new_column, ascending=False)\n",
    "    \n",
    "    return df_best\n"
   ]
  },
  {
   "cell_type": "code",
   "execution_count": 29,
   "metadata": {},
   "outputs": [
    {
     "name": "stdout",
     "output_type": "stream",
     "text": [
      "                           Number medals\n",
      "Sport                                   \n",
      "Ice Hockey                           281\n",
      "Rowing                               141\n",
      "Swimming                              89\n",
      "Athletics                             82\n",
      "Short Track Speed Skating             70\n",
      "Curling                               48\n",
      "Speed Skating                         39\n",
      "Football                              36\n",
      "Figure Skating                        33\n",
      "Synchronized Swimming                 26\n"
     ]
    },
    {
     "name": "stderr",
     "output_type": "stream",
     "text": [
      "/tmp/ipykernel_7856/2341210218.py:5: SettingWithCopyWarning:\n",
      "\n",
      "\n",
      "A value is trying to be set on a copy of a slice from a DataFrame.\n",
      "Try using .loc[row_indexer,col_indexer] = value instead\n",
      "\n",
      "See the caveats in the documentation: https://pandas.pydata.org/pandas-docs/stable/user_guide/indexing.html#returning-a-view-versus-a-copy\n",
      "\n"
     ]
    }
   ],
   "source": [
    "# Extract only rows without NaN\n",
    "canada_bestsports = canada_origdata.dropna(axis=\"rows\")\n",
    "\n",
    "# Add a medal counter\n",
    "canada_bestsports[\"Number medals\"] = 1\n",
    "\n",
    "# groupby sports, summation to get number of medals\n",
    "# Drop all redundant columns \"Unnamed: 0\", \"ID\", \"Age\", \"Height\", \"Weight\", \"Year\"\n",
    "# Sort by number of medals\n",
    "# [column for column in canada_bestsports.columns if column != \"Sport\" and type(column)==str],\n",
    "\n",
    "canada_bestsports = canada_bestsports.groupby(\"Sport\").sum().drop(\n",
    "    [\"Unnamed: 0\", \"ID\", \"Age\", \"Height\", \"Weight\", \"Year\"],\n",
    "    axis=\"columns\"\n",
    ").sort_values(\"Number medals\", ascending=False)\n",
    "\n",
    "print(canada_bestsports.head(10))\n",
    "\n",
    "fig = px.bar(canada_bestsports, y=\"Number medals\")\n",
    "fig.show()\n"
   ]
  },
  {
   "cell_type": "code",
   "execution_count": null,
   "metadata": {},
   "outputs": [],
   "source": []
  }
 ],
 "metadata": {
  "interpreter": {
   "hash": "0b2c78a4d77904d973925cf32c4ec68bfb62a7720d8d63883515aae9fa218caa"
  },
  "kernelspec": {
   "display_name": "Python 3.8.10 64-bit ('Databehandling-OS-Yuna-Joachim-uzpQAkNr': pipenv)",
   "language": "python",
   "name": "python3"
  },
  "language_info": {
   "codemirror_mode": {
    "name": "ipython",
    "version": 3
   },
   "file_extension": ".py",
   "mimetype": "text/x-python",
   "name": "python",
   "nbconvert_exporter": "python",
   "pygments_lexer": "ipython3",
   "version": "3.9.5"
  },
  "orig_nbformat": 4
 },
 "nbformat": 4,
 "nbformat_minor": 2
}
