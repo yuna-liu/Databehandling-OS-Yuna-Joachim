{
 "cells": [
  {
   "cell_type": "markdown",
   "metadata": {},
   "source": [
    "Temporary jupyter notebook file to look at the data in canada.csv"
   ]
  },
  {
   "cell_type": "code",
   "execution_count": 14,
   "metadata": {},
   "outputs": [
    {
     "data": {
      "text/plain": [
       "array([1996, 2000, 1976, 2008, 1984, 1952, 2012, 2016, 2006, 2010, 1972,\n",
       "       1936, 1928, 1960, 2014, 1964, 1992, 1988, 2002, 2004, 1904, 1980,\n",
       "       1998, 1908, 1968, 1906, 1932, 1924, 1956, 1948, 1994, 1912, 1920,\n",
       "       1900])"
      ]
     },
     "execution_count": 14,
     "metadata": {},
     "output_type": "execute_result"
    }
   ],
   "source": [
    "# Setup\n",
    "import pandas as pd\n",
    "\n",
    "canada_origdata = pd.read_csv(\"data/canada.csv\").drop(\n",
    "    [\"region\",\"notes\", \"_merge\"], axis=\"columns\"\n",
    ")\n",
    "\n",
    "# ['Unnamed: 0', 'ID', 'Name', 'HashName', 'Sex', 'Age', 'Height',\n",
    "#       'Weight', 'Team', 'NOC', 'Games', 'Year', 'Season', 'City', 'Sport',\n",
    "#       'Event', 'Medal', 'region', 'notes', '_merge']\n",
    "\n",
    "canada_origdata[\"Year\"].unique()"
   ]
  },
  {
   "cell_type": "code",
   "execution_count": null,
   "metadata": {},
   "outputs": [],
   "source": []
  }
 ],
 "metadata": {
  "interpreter": {
   "hash": "0b2c78a4d77904d973925cf32c4ec68bfb62a7720d8d63883515aae9fa218caa"
  },
  "kernelspec": {
   "display_name": "Python 3.8.10 64-bit ('Databehandling-OS-Yuna-Joachim-uzpQAkNr': pipenv)",
   "language": "python",
   "name": "python3"
  },
  "language_info": {
   "codemirror_mode": {
    "name": "ipython",
    "version": 3
   },
   "file_extension": ".py",
   "mimetype": "text/x-python",
   "name": "python",
   "nbconvert_exporter": "python",
   "pygments_lexer": "ipython3",
   "version": "3.9.5"
  },
  "orig_nbformat": 4
 },
 "nbformat": 4,
 "nbformat_minor": 2
}
