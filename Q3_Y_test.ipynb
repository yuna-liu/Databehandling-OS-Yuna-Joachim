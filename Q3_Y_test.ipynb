{
 "cells": [
  {
   "cell_type": "code",
   "execution_count": 4,
   "metadata": {},
   "outputs": [],
   "source": [
    "import pandas as pd\n",
    "\n",
    "import dash\n",
    "from dash import dcc, html\n",
    "from dash.dependencies import Output, Input\n",
    "import dash_bootstrap_components as dbc\n",
    "\n",
    "import plotly_express as px\n",
    "import plotly.graph_objects as go\n",
    "\n",
    "import analyze_functions as af\n",
    "\n",
    "# Import data\n",
    "athlete_regions = pd.read_csv(\"data/athlete_regions.csv\")\n",
    "noc_iso = pd.read_csv(\"data/noc_iso.csv\")\n",
    "noc_iso = noc_iso.iloc[:, 1:]\n",
    "\n",
    "# Radio options\n",
    "medal_list = \"Gold Silver Bronze Total\".split()\n",
    "medal_options = [{'label': medal, 'value': medal} for medal in medal_list]"
   ]
  },
  {
   "cell_type": "code",
   "execution_count": 25,
   "metadata": {},
   "outputs": [
    {
     "data": {
      "text/html": [
       "<div>\n",
       "<style scoped>\n",
       "    .dataframe tbody tr th:only-of-type {\n",
       "        vertical-align: middle;\n",
       "    }\n",
       "\n",
       "    .dataframe tbody tr th {\n",
       "        vertical-align: top;\n",
       "    }\n",
       "\n",
       "    .dataframe thead th {\n",
       "        text-align: right;\n",
       "    }\n",
       "</style>\n",
       "<table border=\"1\" class=\"dataframe\">\n",
       "  <thead>\n",
       "    <tr style=\"text-align: right;\">\n",
       "      <th>Medal</th>\n",
       "      <th>NOC</th>\n",
       "      <th>Year</th>\n",
       "      <th>Bronze</th>\n",
       "      <th>Gold</th>\n",
       "      <th>Silver</th>\n",
       "      <th>Total</th>\n",
       "    </tr>\n",
       "  </thead>\n",
       "  <tbody>\n",
       "    <tr>\n",
       "      <th>0</th>\n",
       "      <td>URS</td>\n",
       "      <td>1980</td>\n",
       "      <td>133</td>\n",
       "      <td>205</td>\n",
       "      <td>158</td>\n",
       "      <td>496</td>\n",
       "    </tr>\n",
       "    <tr>\n",
       "      <th>1</th>\n",
       "      <td>USA</td>\n",
       "      <td>1904</td>\n",
       "      <td>125</td>\n",
       "      <td>128</td>\n",
       "      <td>141</td>\n",
       "      <td>394</td>\n",
       "    </tr>\n",
       "    <tr>\n",
       "      <th>2</th>\n",
       "      <td>GBR</td>\n",
       "      <td>1908</td>\n",
       "      <td>90</td>\n",
       "      <td>147</td>\n",
       "      <td>131</td>\n",
       "      <td>368</td>\n",
       "    </tr>\n",
       "    <tr>\n",
       "      <th>3</th>\n",
       "      <td>URS</td>\n",
       "      <td>1988</td>\n",
       "      <td>111</td>\n",
       "      <td>174</td>\n",
       "      <td>81</td>\n",
       "      <td>366</td>\n",
       "    </tr>\n",
       "    <tr>\n",
       "      <th>4</th>\n",
       "      <td>USA</td>\n",
       "      <td>1984</td>\n",
       "      <td>50</td>\n",
       "      <td>190</td>\n",
       "      <td>121</td>\n",
       "      <td>361</td>\n",
       "    </tr>\n",
       "  </tbody>\n",
       "</table>\n",
       "</div>"
      ],
      "text/plain": [
       "Medal  NOC  Year  Bronze  Gold  Silver  Total\n",
       "0      URS  1980     133   205     158    496\n",
       "1      USA  1904     125   128     141    394\n",
       "2      GBR  1908      90   147     131    368\n",
       "3      URS  1988     111   174      81    366\n",
       "4      USA  1984      50   190     121    361"
      ]
     },
     "execution_count": 25,
     "metadata": {},
     "output_type": "execute_result"
    }
   ],
   "source": [
    "df = af.count_medals(athlete_regions, \"NOC\", \"Year\").reset_index()\n",
    "df.head()"
   ]
  },
  {
   "cell_type": "code",
   "execution_count": 27,
   "metadata": {},
   "outputs": [
    {
     "data": {
      "application/vnd.plotly.v1+json": {
       "config": {
        "plotlyServerURL": "https://plot.ly"
       },
       "data": [
        {
         "coloraxis": "coloraxis",
         "geo": "geo",
         "hovertemplate": "<b>%{hovertext}</b><br><br>Year=1980<br>NOC=%{location}<br>Total=%{z}<extra></extra>",
         "hovertext": [
          496,
          303,
          91,
          68,
          63,
          57,
          52,
          50,
          48,
          43,
          40,
          30,
          30,
          24,
          21,
          20,
          16,
          15,
          15,
          13,
          13,
          11,
          10,
          10,
          9,
          8,
          8,
          5,
          5,
          4,
          4,
          4,
          3,
          3,
          2,
          2,
          1,
          1,
          1,
          1,
          1,
          1
         ],
         "locations": [
          "URS",
          "GDR",
          "BUL",
          "ROU",
          "HUN",
          "YUG",
          "TCH",
          "POL",
          "GBR",
          "SWE",
          "ITA",
          "USA",
          "FRA",
          "ESP",
          "FIN",
          "CUB",
          "IND",
          "ZIM",
          "NOR",
          "AUT",
          "AUS",
          "SUI",
          "NED",
          "MEX",
          "BRA",
          "DEN",
          "FRG",
          "GRE",
          "PRK",
          "LIE",
          "ETH",
          "MGL",
          "JAM",
          "IRL",
          "TAN",
          "CAN",
          "UGA",
          "VEN",
          "BEL",
          "JPN",
          "LIB",
          "GUY"
         ],
         "name": "",
         "type": "choropleth",
         "z": [
          496,
          303,
          91,
          68,
          63,
          57,
          52,
          50,
          48,
          43,
          40,
          30,
          30,
          24,
          21,
          20,
          16,
          15,
          15,
          13,
          13,
          11,
          10,
          10,
          9,
          8,
          8,
          5,
          5,
          4,
          4,
          4,
          3,
          3,
          2,
          2,
          1,
          1,
          1,
          1,
          1,
          1
         ]
        }
       ],
       "frames": [
        {
         "data": [
          {
           "coloraxis": "coloraxis",
           "geo": "geo",
           "hovertemplate": "<b>%{hovertext}</b><br><br>Year=1980<br>NOC=%{location}<br>Total=%{z}<extra></extra>",
           "hovertext": [
            496,
            303,
            91,
            68,
            63,
            57,
            52,
            50,
            48,
            43,
            40,
            30,
            30,
            24,
            21,
            20,
            16,
            15,
            15,
            13,
            13,
            11,
            10,
            10,
            9,
            8,
            8,
            5,
            5,
            4,
            4,
            4,
            3,
            3,
            2,
            2,
            1,
            1,
            1,
            1,
            1,
            1
           ],
           "locations": [
            "URS",
            "GDR",
            "BUL",
            "ROU",
            "HUN",
            "YUG",
            "TCH",
            "POL",
            "GBR",
            "SWE",
            "ITA",
            "USA",
            "FRA",
            "ESP",
            "FIN",
            "CUB",
            "IND",
            "ZIM",
            "NOR",
            "AUT",
            "AUS",
            "SUI",
            "NED",
            "MEX",
            "BRA",
            "DEN",
            "FRG",
            "GRE",
            "PRK",
            "LIE",
            "ETH",
            "MGL",
            "JAM",
            "IRL",
            "TAN",
            "CAN",
            "UGA",
            "VEN",
            "BEL",
            "JPN",
            "LIB",
            "GUY"
           ],
           "name": "",
           "type": "choropleth",
           "z": [
            496,
            303,
            91,
            68,
            63,
            57,
            52,
            50,
            48,
            43,
            40,
            30,
            30,
            24,
            21,
            20,
            16,
            15,
            15,
            13,
            13,
            11,
            10,
            10,
            9,
            8,
            8,
            5,
            5,
            4,
            4,
            4,
            3,
            3,
            2,
            2,
            1,
            1,
            1,
            1,
            1,
            1
           ]
          }
         ],
         "name": "1980"
        },
        {
         "data": [
          {
           "coloraxis": "coloraxis",
           "geo": "geo",
           "hovertemplate": "<b>%{hovertext}</b><br><br>Year=1904<br>NOC=%{location}<br>Total=%{z}<extra></extra>",
           "hovertext": [
            394,
            48,
            16,
            5,
            4,
            4,
            4,
            3,
            2,
            2,
            2,
            2
           ],
           "locations": [
            "USA",
            "CAN",
            "GER",
            "CUB",
            "AUS",
            "HUN",
            "AUT",
            "SUI",
            "FRA",
            "GBR",
            "GRE",
            "NOR"
           ],
           "name": "",
           "type": "choropleth",
           "z": [
            394,
            48,
            16,
            5,
            4,
            4,
            4,
            3,
            2,
            2,
            2,
            2
           ]
          }
         ],
         "name": "1904"
        },
        {
         "data": [
          {
           "coloraxis": "coloraxis",
           "geo": "geo",
           "hovertemplate": "<b>%{hovertext}</b><br><br>Year=1908<br>NOC=%{location}<br>Total=%{z}<extra></extra>",
           "hovertext": [
            368,
            84,
            65,
            52,
            42,
            40,
            33,
            30,
            21,
            20,
            19,
            17,
            16,
            8,
            6,
            4,
            3,
            2,
            1
           ],
           "locations": [
            "GBR",
            "SWE",
            "USA",
            "CAN",
            "NOR",
            "FRA",
            "BEL",
            "FIN",
            "GER",
            "HUN",
            "ANZ",
            "DEN",
            "NED",
            "ITA",
            "BOH",
            "GRE",
            "RUS",
            "RSA",
            "AUT"
           ],
           "name": "",
           "type": "choropleth",
           "z": [
            368,
            84,
            65,
            52,
            42,
            40,
            33,
            30,
            21,
            20,
            19,
            17,
            16,
            8,
            6,
            4,
            3,
            2,
            1
           ]
          }
         ],
         "name": "1908"
        },
        {
         "data": [
          {
           "coloraxis": "coloraxis",
           "geo": "geo",
           "hovertemplate": "<b>%{hovertext}</b><br><br>Year=1988<br>NOC=%{location}<br>Total=%{z}<extra></extra>",
           "hovertext": [
            366,
            214,
            213,
            129,
            77,
            69,
            58,
            54,
            52,
            52,
            46,
            44,
            41,
            38,
            37,
            35,
            33,
            31,
            29,
            28,
            24,
            23,
            21,
            21,
            16,
            13,
            13,
            12,
            9,
            7,
            7,
            5,
            3,
            3,
            2,
            2,
            2,
            1,
            1,
            1,
            1,
            1,
            1,
            1,
            1,
            1,
            1,
            1,
            1,
            1,
            1,
            1,
            1
           ],
           "locations": [
            "URS",
            "USA",
            "GDR",
            "FRG",
            "KOR",
            "YUG",
            "ROU",
            "GBR",
            "CHN",
            "NED",
            "SWE",
            "HUN",
            "BUL",
            "FIN",
            "ITA",
            "AUS",
            "NOR",
            "FRA",
            "CAN",
            "SUI",
            "NZL",
            "BRA",
            "JPN",
            "POL",
            "TCH",
            "AUT",
            "ARG",
            "PER",
            "KEN",
            "DEN",
            "JAM",
            "ESP",
            "INA",
            "MAR",
            "TUR",
            "MEX",
            "BEL",
            "AHO",
            "CHI",
            "PAK",
            "PHI",
            "POR",
            "MGL",
            "LIE",
            "ISV",
            "THA",
            "SUR",
            "CRC",
            "COL",
            "DJI",
            "IRI",
            "SEN",
            "GRE"
           ],
           "name": "",
           "type": "choropleth",
           "z": [
            366,
            214,
            213,
            129,
            77,
            69,
            58,
            54,
            52,
            52,
            46,
            44,
            41,
            38,
            37,
            35,
            33,
            31,
            29,
            28,
            24,
            23,
            21,
            21,
            16,
            13,
            13,
            12,
            9,
            7,
            7,
            5,
            3,
            3,
            2,
            2,
            2,
            1,
            1,
            1,
            1,
            1,
            1,
            1,
            1,
            1,
            1,
            1,
            1,
            1,
            1,
            1,
            1
           ]
          }
         ],
         "name": "1988"
        },
        {
         "data": [
          {
           "coloraxis": "coloraxis",
           "geo": "geo",
           "hovertemplate": "<b>%{hovertext}</b><br><br>Year=1984<br>NOC=%{location}<br>Total=%{z}<extra></extra>",
           "hovertext": [
            361,
            166,
            106,
            91,
            88,
            74,
            73,
            70,
            65,
            64,
            56,
            52,
            50,
            41,
            41,
            36,
            33,
            31,
            28,
            23,
            21,
            19,
            19,
            16,
            13,
            7,
            6,
            5,
            5,
            4,
            3,
            3,
            3,
            3,
            2,
            2,
            2,
            2,
            2,
            1,
            1,
            1,
            1,
            1,
            1,
            1,
            1,
            1,
            1,
            1,
            1
           ],
           "locations": [
            "USA",
            "FRG",
            "ROU",
            "CAN",
            "YUG",
            "CHN",
            "GBR",
            "FRA",
            "ITA",
            "SWE",
            "URS",
            "AUS",
            "JPN",
            "NED",
            "KOR",
            "BRA",
            "GDR",
            "FIN",
            "TCH",
            "NZL",
            "SUI",
            "NOR",
            "ESP",
            "PAK",
            "DEN",
            "JAM",
            "MEX",
            "NGR",
            "BEL",
            "AUT",
            "KEN",
            "TUR",
            "POR",
            "VEN",
            "GRE",
            "LIE",
            "MAR",
            "ALG",
            "PUR",
            "CIV",
            "CMR",
            "ZAM",
            "TPE",
            "PER",
            "EGY",
            "DOM",
            "THA",
            "COL",
            "SYR",
            "IRL",
            "ISL"
           ],
           "name": "",
           "type": "choropleth",
           "z": [
            361,
            166,
            106,
            91,
            88,
            74,
            73,
            70,
            65,
            64,
            56,
            52,
            50,
            41,
            41,
            36,
            33,
            31,
            28,
            23,
            21,
            19,
            19,
            16,
            13,
            7,
            6,
            5,
            5,
            4,
            3,
            3,
            3,
            3,
            2,
            2,
            2,
            2,
            2,
            1,
            1,
            1,
            1,
            1,
            1,
            1,
            1,
            1,
            1,
            1,
            1
           ]
          }
         ],
         "name": "1984"
        },
        {
         "data": [
          {
           "coloraxis": "coloraxis",
           "geo": "geo",
           "hovertemplate": "<b>%{hovertext}</b><br><br>Year=1976<br>NOC=%{location}<br>Total=%{z}<extra></extra>",
           "hovertext": [
            342,
            227,
            175,
            110,
            73,
            55,
            55,
            41,
            39,
            35,
            34,
            33,
            26,
            25,
            24,
            23,
            22,
            21,
            20,
            19,
            19,
            17,
            16,
            16,
            12,
            9,
            8,
            8,
            6,
            3,
            2,
            2,
            2,
            2,
            2,
            2,
            1,
            1,
            1,
            1,
            1,
            1
           ],
           "locations": [
            "URS",
            "GDR",
            "USA",
            "FRG",
            "POL",
            "ROU",
            "HUN",
            "JPN",
            "BUL",
            "ITA",
            "TCH",
            "GBR",
            "CAN",
            "NZL",
            "CUB",
            "AUS",
            "FIN",
            "FRA",
            "NED",
            "SUI",
            "YUG",
            "KOR",
            "PAK",
            "NOR",
            "SWE",
            "BEL",
            "DEN",
            "AUT",
            "ESP",
            "BRA",
            "IRI",
            "LIE",
            "MEX",
            "PRK",
            "JAM",
            "POR",
            "TTO",
            "BER",
            "VEN",
            "PUR",
            "MGL",
            "THA"
           ],
           "name": "",
           "type": "choropleth",
           "z": [
            342,
            227,
            175,
            110,
            73,
            55,
            55,
            41,
            39,
            35,
            34,
            33,
            26,
            25,
            24,
            23,
            22,
            21,
            20,
            19,
            19,
            17,
            16,
            16,
            12,
            9,
            8,
            8,
            6,
            3,
            2,
            2,
            2,
            2,
            2,
            2,
            1,
            1,
            1,
            1,
            1,
            1
           ]
          }
         ],
         "name": "1976"
        },
        {
         "data": [
          {
           "coloraxis": "coloraxis",
           "geo": "geo",
           "hovertemplate": "<b>%{hovertext}</b><br><br>Year=2008<br>NOC=%{location}<br>Total=%{z}<extra></extra>",
           "hovertext": [
            317,
            184,
            149,
            142,
            99,
            81,
            78,
            78,
            77,
            70,
            61,
            51,
            51,
            47,
            42,
            35,
            31,
            29,
            27,
            23,
            22,
            22,
            20,
            19,
            15,
            15,
            15,
            14,
            14,
            13,
            11,
            10,
            7,
            7,
            7,
            7,
            7,
            7,
            7,
            7,
            6,
            6,
            6,
            6,
            6,
            5,
            5,
            5,
            5,
            5,
            5,
            4,
            4,
            4,
            4,
            4,
            3,
            3,
            3,
            3,
            3,
            3,
            2,
            2,
            2,
            2,
            2,
            2,
            2,
            2,
            1,
            1,
            1,
            1,
            1,
            1,
            1,
            1,
            1,
            1,
            1,
            1,
            1,
            1,
            1,
            1
           ],
           "locations": [
            "USA",
            "CHN",
            "AUS",
            "RUS",
            "GER",
            "GBR",
            "KOR",
            "BRA",
            "FRA",
            "ESP",
            "NED",
            "JPN",
            "ARG",
            "CUB",
            "ITA",
            "CAN",
            "UKR",
            "BLR",
            "HUN",
            "NGR",
            "ROU",
            "NOR",
            "POL",
            "DEN",
            "NZL",
            "SRB",
            "KEN",
            "JAM",
            "ISL",
            "KAZ",
            "SUI",
            "SVK",
            "BAH",
            "TUR",
            "AZE",
            "INA",
            "ETH",
            "SWE",
            "CZE",
            "GRE",
            "GEO",
            "TTO",
            "UZB",
            "ARM",
            "PRK",
            "FIN",
            "CRO",
            "BEL",
            "BUL",
            "LTU",
            "SLO",
            "THA",
            "TPE",
            "ZIM",
            "MGL",
            "MEX",
            "AUT",
            "IRL",
            "SGP",
            "IND",
            "EST",
            "LAT",
            "TJK",
            "COL",
            "DOM",
            "IRI",
            "KGZ",
            "ALG",
            "MAR",
            "POR",
            "CHI",
            "CMR",
            "TOG",
            "TUN",
            "VIE",
            "VEN",
            "PAN",
            "MRI",
            "MAS",
            "MDA",
            "ECU",
            "EGY",
            "ISR",
            "RSA",
            "SUD",
            "AFG"
           ],
           "name": "",
           "type": "choropleth",
           "z": [
            317,
            184,
            149,
            142,
            99,
            81,
            78,
            78,
            77,
            70,
            61,
            51,
            51,
            47,
            42,
            35,
            31,
            29,
            27,
            23,
            22,
            22,
            20,
            19,
            15,
            15,
            15,
            14,
            14,
            13,
            11,
            10,
            7,
            7,
            7,
            7,
            7,
            7,
            7,
            7,
            6,
            6,
            6,
            6,
            6,
            5,
            5,
            5,
            5,
            5,
            5,
            4,
            4,
            4,
            4,
            4,
            3,
            3,
            3,
            3,
            3,
            3,
            2,
            2,
            2,
            2,
            2,
            2,
            2,
            2,
            1,
            1,
            1,
            1,
            1,
            1,
            1,
            1,
            1,
            1,
            1,
            1,
            1,
            1,
            1,
            1
           ]
          }
         ],
         "name": "2008"
        },
        {
         "data": [
          {
           "coloraxis": "coloraxis",
           "geo": "geo",
           "hovertemplate": "<b>%{hovertext}</b><br><br>Year=1992<br>NOC=%{location}<br>Total=%{z}<extra></extra>",
           "hovertext": [
            279,
            238,
            236,
            85,
            80,
            70,
            69,
            69,
            66,
            59,
            57,
            56,
            53,
            50,
            47,
            46,
            45,
            42,
            37,
            35,
            35,
            20,
            20,
            20,
            17,
            16,
            16,
            15,
            14,
            14,
            13,
            11,
            11,
            8,
            8,
            6,
            6,
            6,
            4,
            3,
            3,
            3,
            3,
            3,
            3,
            3,
            3,
            2,
            2,
            2,
            2,
            2,
            2,
            2,
            2,
            2,
            1,
            1,
            1,
            1,
            1,
            1,
            1,
            1,
            1
           ],
           "locations": [
            "EUN",
            "USA",
            "GER",
            "CHN",
            "CAN",
            "ESP",
            "FRA",
            "CUB",
            "ITA",
            "JPN",
            "AUS",
            "KOR",
            "ROU",
            "GBR",
            "NOR",
            "POL",
            "HUN",
            "SWE",
            "NED",
            "AUT",
            "TCH",
            "GHA",
            "TPE",
            "FIN",
            "BUL",
            "NZL",
            "PAK",
            "CRO",
            "BRA",
            "DEN",
            "LTU",
            "PRK",
            "NGR",
            "KEN",
            "SUI",
            "TUR",
            "SLO",
            "INA",
            "JAM",
            "IOA",
            "LAT",
            "BEL",
            "MAR",
            "EST",
            "IRI",
            "RSA",
            "ETH",
            "GRE",
            "LUX",
            "NAM",
            "ALG",
            "MGL",
            "ARG",
            "MAS",
            "ISR",
            "IRL",
            "BAH",
            "THA",
            "PHI",
            "PER",
            "QAT",
            "PUR",
            "MEX",
            "SUR",
            "COL"
           ],
           "name": "",
           "type": "choropleth",
           "z": [
            279,
            238,
            236,
            85,
            80,
            70,
            69,
            69,
            66,
            59,
            57,
            56,
            53,
            50,
            47,
            46,
            45,
            42,
            37,
            35,
            35,
            20,
            20,
            20,
            17,
            16,
            16,
            15,
            14,
            14,
            13,
            11,
            11,
            8,
            8,
            6,
            6,
            6,
            4,
            3,
            3,
            3,
            3,
            3,
            3,
            3,
            3,
            2,
            2,
            2,
            2,
            2,
            2,
            2,
            2,
            2,
            1,
            1,
            1,
            1,
            1,
            1,
            1,
            1,
            1
           ]
          }
         ],
         "name": "1992"
        },
        {
         "data": [
          {
           "coloraxis": "coloraxis",
           "geo": "geo",
           "hovertemplate": "<b>%{hovertext}</b><br><br>Year=2016<br>NOC=%{location}<br>Total=%{z}<extra></extra>",
           "hovertext": [
            264,
            159,
            145,
            115,
            113,
            96,
            82,
            72,
            69,
            64,
            54,
            50,
            47,
            45,
            41,
            36,
            30,
            28,
            26,
            24,
            23,
            22,
            22,
            21,
            19,
            18,
            18,
            18,
            16,
            16,
            15,
            15,
            13,
            13,
            13,
            12,
            11,
            11,
            8,
            8,
            8,
            8,
            8,
            8,
            7,
            7,
            7,
            7,
            7,
            6,
            6,
            5,
            5,
            4,
            4,
            4,
            4,
            3,
            3,
            3,
            3,
            2,
            2,
            2,
            2,
            2,
            2,
            2,
            2,
            2,
            1,
            1,
            1,
            1,
            1,
            1,
            1,
            1,
            1,
            1,
            1,
            1,
            1,
            1,
            1,
            1
           ],
           "locations": [
            "USA",
            "GER",
            "GBR",
            "RUS",
            "CHN",
            "FRA",
            "AUS",
            "ITA",
            "CAN",
            "JPN",
            "SRB",
            "BRA",
            "NED",
            "ESP",
            "DEN",
            "NZL",
            "JAM",
            "SWE",
            "KOR",
            "CRO",
            "RSA",
            "HUN",
            "ARG",
            "BEL",
            "NOR",
            "NGR",
            "KAZ",
            "AZE",
            "ROU",
            "POL",
            "CZE",
            "UKR",
            "KEN",
            "UZB",
            "FIJ",
            "BLR",
            "CUB",
            "SUI",
            "COL",
            "SVK",
            "TUR",
            "IRI",
            "MAS",
            "ETH",
            "LTU",
            "GRE",
            "GEO",
            "BUL",
            "PRK",
            "THA",
            "BAH",
            "TPE",
            "MEX",
            "SLO",
            "EST",
            "ARM",
            "INA",
            "IRL",
            "VEN",
            "EGY",
            "TUN",
            "BRN",
            "IOA",
            "IND",
            "CIV",
            "AUT",
            "MGL",
            "ALG",
            "VIE",
            "ISR",
            "TJK",
            "BDI",
            "UAE",
            "TTO",
            "KOS",
            "PHI",
            "QAT",
            "PUR",
            "JOR",
            "POR",
            "NIG",
            "MAR",
            "FIN",
            "DOM",
            "GRN",
            "SGP"
           ],
           "name": "",
           "type": "choropleth",
           "z": [
            264,
            159,
            145,
            115,
            113,
            96,
            82,
            72,
            69,
            64,
            54,
            50,
            47,
            45,
            41,
            36,
            30,
            28,
            26,
            24,
            23,
            22,
            22,
            21,
            19,
            18,
            18,
            18,
            16,
            16,
            15,
            15,
            13,
            13,
            13,
            12,
            11,
            11,
            8,
            8,
            8,
            8,
            8,
            8,
            7,
            7,
            7,
            7,
            7,
            6,
            6,
            5,
            5,
            4,
            4,
            4,
            4,
            3,
            3,
            3,
            3,
            2,
            2,
            2,
            2,
            2,
            2,
            2,
            2,
            2,
            1,
            1,
            1,
            1,
            1,
            1,
            1,
            1,
            1,
            1,
            1,
            1,
            1,
            1,
            1,
            1
           ]
          }
         ],
         "name": "2016"
        },
        {
         "data": [
          {
           "coloraxis": "coloraxis",
           "geo": "geo",
           "hovertemplate": "<b>%{hovertext}</b><br><br>Year=2004<br>NOC=%{location}<br>Total=%{z}<extra></extra>",
           "hovertext": [
            263,
            189,
            157,
            149,
            104,
            94,
            93,
            77,
            62,
            57,
            53,
            52,
            49,
            47,
            40,
            40,
            39,
            31,
            30,
            29,
            21,
            17,
            17,
            17,
            15,
            13,
            13,
            13,
            12,
            12,
            11,
            10,
            10,
            9,
            8,
            8,
            8,
            8,
            7,
            7,
            7,
            7,
            6,
            6,
            5,
            5,
            5,
            5,
            5,
            5,
            4,
            4,
            4,
            4,
            3,
            3,
            3,
            3,
            3,
            3,
            2,
            2,
            2,
            2,
            2,
            2,
            1,
            1,
            1,
            1,
            1,
            1,
            1,
            1
           ],
           "locations": [
            "USA",
            "RUS",
            "AUS",
            "GER",
            "ITA",
            "CHN",
            "JPN",
            "NED",
            "CUB",
            "GBR",
            "FRA",
            "KOR",
            "ARG",
            "UKR",
            "BRA",
            "HUN",
            "ROU",
            "GRE",
            "ESP",
            "DEN",
            "CRO",
            "BUL",
            "CAN",
            "PAR",
            "BLR",
            "CZE",
            "SCG",
            "JAM",
            "POL",
            "SWE",
            "TUR",
            "SVK",
            "RSA",
            "TPE",
            "KAZ",
            "THA",
            "AUT",
            "NGR",
            "NOR",
            "KEN",
            "SUI",
            "ETH",
            "IRI",
            "NZL",
            "AZE",
            "EGY",
            "UZB",
            "SLO",
            "PRK",
            "INA",
            "LAT",
            "GEO",
            "CHI",
            "MEX",
            "POR",
            "BEL",
            "ZIM",
            "EST",
            "MAR",
            "LTU",
            "COL",
            "FIN",
            "HKG",
            "VEN",
            "ISR",
            "BAH",
            "CMR",
            "TTO",
            "UAE",
            "MGL",
            "ERI",
            "DOM",
            "SYR",
            "IND"
           ],
           "name": "",
           "type": "choropleth",
           "z": [
            263,
            189,
            157,
            149,
            104,
            94,
            93,
            77,
            62,
            57,
            53,
            52,
            49,
            47,
            40,
            40,
            39,
            31,
            30,
            29,
            21,
            17,
            17,
            17,
            15,
            13,
            13,
            13,
            12,
            12,
            11,
            10,
            10,
            9,
            8,
            8,
            8,
            8,
            7,
            7,
            7,
            7,
            6,
            6,
            5,
            5,
            5,
            5,
            5,
            5,
            4,
            4,
            4,
            4,
            3,
            3,
            3,
            3,
            3,
            3,
            2,
            2,
            2,
            2,
            2,
            2,
            1,
            1,
            1,
            1,
            1,
            1,
            1,
            1
           ]
          }
         ],
         "name": "2004"
        },
        {
         "data": [
          {
           "coloraxis": "coloraxis",
           "geo": "geo",
           "hovertemplate": "<b>%{hovertext}</b><br><br>Year=1972<br>NOC=%{location}<br>Total=%{z}<extra></extra>",
           "hovertext": [
            259,
            195,
            171,
            112,
            81,
            59,
            49,
            47,
            40,
            34,
            29,
            26,
            25,
            25,
            25,
            22,
            22,
            20,
            20,
            18,
            15,
            15,
            15,
            14,
            14,
            12,
            12,
            8,
            3,
            3,
            2,
            2,
            2,
            2,
            2,
            2,
            1,
            1,
            1,
            1,
            1,
            1,
            1,
            1,
            1,
            1,
            1,
            1
           ],
           "locations": [
            "URS",
            "USA",
            "GDR",
            "FRG",
            "HUN",
            "JPN",
            "TCH",
            "POL",
            "ROU",
            "ITA",
            "GBR",
            "SWE",
            "FRA",
            "SUI",
            "NOR",
            "BUL",
            "CUB",
            "AUS",
            "FIN",
            "YUG",
            "PAK",
            "NED",
            "PRK",
            "IND",
            "NZL",
            "KEN",
            "CAN",
            "AUT",
            "COL",
            "IRI",
            "BRA",
            "ETH",
            "ESP",
            "UGA",
            "GRE",
            "BEL",
            "ARG",
            "TUR",
            "TUN",
            "KOR",
            "JAM",
            "LIB",
            "MGL",
            "NIG",
            "NGR",
            "MEX",
            "DEN",
            "GHA"
           ],
           "name": "",
           "type": "choropleth",
           "z": [
            259,
            195,
            171,
            112,
            81,
            59,
            49,
            47,
            40,
            34,
            29,
            26,
            25,
            25,
            25,
            22,
            22,
            20,
            20,
            18,
            15,
            15,
            15,
            14,
            14,
            12,
            12,
            8,
            3,
            3,
            2,
            2,
            2,
            2,
            2,
            2,
            1,
            1,
            1,
            1,
            1,
            1,
            1,
            1,
            1,
            1,
            1,
            1
           ]
          }
         ],
         "name": "1972"
        },
        {
         "data": [
          {
           "coloraxis": "coloraxis",
           "geo": "geo",
           "hovertemplate": "<b>%{hovertext}</b><br><br>Year=1996<br>NOC=%{location}<br>Total=%{z}<extra></extra>",
           "hovertext": [
            259,
            132,
            124,
            115,
            106,
            73,
            71,
            66,
            66,
            63,
            55,
            51,
            50,
            43,
            42,
            38,
            34,
            31,
            28,
            26,
            26,
            24,
            23,
            23,
            23,
            22,
            21,
            20,
            16,
            13,
            11,
            11,
            11,
            9,
            8,
            8,
            6,
            6,
            6,
            5,
            5,
            5,
            4,
            4,
            3,
            3,
            3,
            3,
            3,
            3,
            3,
            3,
            2,
            2,
            2,
            2,
            2,
            2,
            2,
            2,
            1,
            1,
            1,
            1,
            1,
            1,
            1,
            1,
            1,
            1,
            1,
            1,
            1,
            1,
            1,
            1,
            1,
            1,
            1
           ],
           "locations": [
            "USA",
            "AUS",
            "GER",
            "RUS",
            "CHN",
            "NED",
            "ITA",
            "KOR",
            "ESP",
            "BRA",
            "CUB",
            "FRA",
            "CAN",
            "HUN",
            "JPN",
            "ROU",
            "UKR",
            "SWE",
            "CRO",
            "SCG",
            "GBR",
            "NGR",
            "NOR",
            "DEN",
            "BLR",
            "POL",
            "BUL",
            "ARG",
            "JAM",
            "CZE",
            "KAZ",
            "SUI",
            "LTU",
            "NZL",
            "KEN",
            "GRE",
            "TUR",
            "BEL",
            "INA",
            "RSA",
            "BAH",
            "PRK",
            "FIN",
            "IRL",
            "IRI",
            "AUT",
            "POR",
            "ALG",
            "MAS",
            "MDA",
            "ETH",
            "SVK",
            "SLO",
            "TTO",
            "NAM",
            "GEO",
            "ARM",
            "UZB",
            "MAR",
            "THA",
            "TPE",
            "ZAM",
            "BDI",
            "AZE",
            "TUN",
            "UGA",
            "PHI",
            "LAT",
            "PUR",
            "MEX",
            "MGL",
            "MOZ",
            "ECU",
            "TGA",
            "CRC",
            "SYR",
            "ISR",
            "IND",
            "HKG"
           ],
           "name": "",
           "type": "choropleth",
           "z": [
            259,
            132,
            124,
            115,
            106,
            73,
            71,
            66,
            66,
            63,
            55,
            51,
            50,
            43,
            42,
            38,
            34,
            31,
            28,
            26,
            26,
            24,
            23,
            23,
            23,
            22,
            21,
            20,
            16,
            13,
            11,
            11,
            11,
            9,
            8,
            8,
            6,
            6,
            6,
            5,
            5,
            5,
            4,
            4,
            3,
            3,
            3,
            3,
            3,
            3,
            3,
            3,
            2,
            2,
            2,
            2,
            2,
            2,
            2,
            2,
            1,
            1,
            1,
            1,
            1,
            1,
            1,
            1,
            1,
            1,
            1,
            1,
            1,
            1,
            1,
            1,
            1,
            1,
            1
           ]
          }
         ],
         "name": "1996"
        },
        {
         "data": [
          {
           "coloraxis": "coloraxis",
           "geo": "geo",
           "hovertemplate": "<b>%{hovertext}</b><br><br>Year=2012<br>NOC=%{location}<br>Total=%{z}<extra></extra>",
           "hovertext": [
            248,
            140,
            126,
            125,
            114,
            94,
            84,
            82,
            69,
            68,
            63,
            61,
            59,
            55,
            35,
            27,
            26,
            26,
            25,
            24,
            23,
            22,
            19,
            17,
            16,
            16,
            16,
            14,
            14,
            14,
            13,
            12,
            12,
            11,
            10,
            10,
            9,
            8,
            7,
            7,
            6,
            6,
            5,
            5,
            5,
            5,
            5,
            5,
            5,
            4,
            4,
            4,
            4,
            3,
            3,
            3,
            3,
            3,
            3,
            3,
            2,
            2,
            2,
            2,
            2,
            2,
            2,
            2,
            2,
            2,
            2,
            1,
            1,
            1,
            1,
            1,
            1,
            1,
            1,
            1,
            1,
            1,
            1,
            1,
            1
           ],
           "locations": [
            "USA",
            "RUS",
            "GBR",
            "CHN",
            "AUS",
            "GER",
            "JPN",
            "FRA",
            "NED",
            "ITA",
            "ESP",
            "KOR",
            "BRA",
            "CAN",
            "CRO",
            "NZL",
            "HUN",
            "UKR",
            "JAM",
            "MEX",
            "BLR",
            "SWE",
            "ARG",
            "NOR",
            "DEN",
            "ROU",
            "SRB",
            "MNE",
            "CZE",
            "CUB",
            "KAZ",
            "POL",
            "IRI",
            "KEN",
            "TTO",
            "AZE",
            "RSA",
            "COL",
            "GEO",
            "ETH",
            "PRK",
            "IND",
            "MGL",
            "SVK",
            "IRL",
            "FIN",
            "SLO",
            "TUR",
            "LTU",
            "SGP",
            "SUI",
            "KSA",
            "BAH",
            "BEL",
            "GRE",
            "THA",
            "LAT",
            "ARM",
            "TUN",
            "UZB",
            "INA",
            "TPE",
            "EST",
            "EGY",
            "DOM",
            "BUL",
            "MDA",
            "MAS",
            "QAT",
            "PUR",
            "POR",
            "TJK",
            "BRN",
            "BOT",
            "ALG",
            "VEN",
            "UGA",
            "KUW",
            "MAR",
            "AFG",
            "GAB",
            "CYP",
            "GRN",
            "GUA",
            "HKG"
           ],
           "name": "",
           "type": "choropleth",
           "z": [
            248,
            140,
            126,
            125,
            114,
            94,
            84,
            82,
            69,
            68,
            63,
            61,
            59,
            55,
            35,
            27,
            26,
            26,
            25,
            24,
            23,
            22,
            19,
            17,
            16,
            16,
            16,
            14,
            14,
            14,
            13,
            12,
            12,
            11,
            10,
            10,
            9,
            8,
            7,
            7,
            6,
            6,
            5,
            5,
            5,
            5,
            5,
            5,
            5,
            4,
            4,
            4,
            4,
            3,
            3,
            3,
            3,
            3,
            3,
            3,
            2,
            2,
            2,
            2,
            2,
            2,
            2,
            2,
            2,
            2,
            2,
            1,
            1,
            1,
            1,
            1,
            1,
            1,
            1,
            1,
            1,
            1,
            1,
            1,
            1
           ]
          }
         ],
         "name": "2012"
        },
        {
         "data": [
          {
           "coloraxis": "coloraxis",
           "geo": "geo",
           "hovertemplate": "<b>%{hovertext}</b><br><br>Year=2000<br>NOC=%{location}<br>Total=%{z}<extra></extra>",
           "hovertext": [
            242,
            187,
            183,
            118,
            79,
            79,
            73,
            66,
            65,
            65,
            54,
            53,
            48,
            46,
            44,
            43,
            42,
            35,
            32,
            31,
            25,
            25,
            24,
            23,
            22,
            20,
            18,
            18,
            17,
            17,
            14,
            13,
            11,
            10,
            9,
            8,
            8,
            8,
            7,
            7,
            7,
            6,
            6,
            6,
            5,
            5,
            5,
            5,
            5,
            5,
            4,
            4,
            4,
            4,
            4,
            3,
            3,
            3,
            3,
            3,
            2,
            2,
            2,
            2,
            2,
            1,
            1,
            1,
            1,
            1,
            1,
            1,
            1,
            1,
            1,
            1,
            1,
            1,
            1,
            1
           ],
           "locations": [
            "USA",
            "RUS",
            "AUS",
            "GER",
            "NED",
            "CHN",
            "KOR",
            "FRA",
            "CUB",
            "ITA",
            "GBR",
            "HUN",
            "BRA",
            "ROU",
            "JPN",
            "NOR",
            "ESP",
            "UKR",
            "SWE",
            "CAN",
            "SCG",
            "DEN",
            "POL",
            "JAM",
            "BLR",
            "ARG",
            "GRE",
            "CMR",
            "LTU",
            "CHI",
            "SUI",
            "BUL",
            "BAH",
            "CRO",
            "CZE",
            "INA",
            "ETH",
            "NGR",
            "KEN",
            "BEL",
            "KAZ",
            "MEX",
            "GEO",
            "SVK",
            "TPE",
            "RSA",
            "FIN",
            "ALG",
            "TUR",
            "MAR",
            "UZB",
            "PRK",
            "NZL",
            "AUT",
            "IRI",
            "THA",
            "AZE",
            "SLO",
            "EST",
            "LAT",
            "CRC",
            "TTO",
            "KSA",
            "MDA",
            "POR",
            "ARM",
            "BAR",
            "VIE",
            "URU",
            "KGZ",
            "KUW",
            "QAT",
            "MKD",
            "MOZ",
            "COL",
            "IRL",
            "ISL",
            "ISR",
            "IND",
            "SRI"
           ],
           "name": "",
           "type": "choropleth",
           "z": [
            242,
            187,
            183,
            118,
            79,
            79,
            73,
            66,
            65,
            65,
            54,
            53,
            48,
            46,
            44,
            43,
            42,
            35,
            32,
            31,
            25,
            25,
            24,
            23,
            22,
            20,
            18,
            18,
            17,
            17,
            14,
            13,
            11,
            10,
            9,
            8,
            8,
            8,
            7,
            7,
            7,
            6,
            6,
            6,
            5,
            5,
            5,
            5,
            5,
            5,
            4,
            4,
            4,
            4,
            4,
            3,
            3,
            3,
            3,
            3,
            2,
            2,
            2,
            2,
            2,
            1,
            1,
            1,
            1,
            1,
            1,
            1,
            1,
            1,
            1,
            1,
            1,
            1,
            1,
            1
           ]
          }
         ],
         "name": "2000"
        },
        {
         "data": [
          {
           "coloraxis": "coloraxis",
           "geo": "geo",
           "hovertemplate": "<b>%{hovertext}</b><br><br>Year=1900<br>NOC=%{location}<br>Total=%{z}<extra></extra>",
           "hovertext": [
            235,
            108,
            63,
            45,
            43,
            27,
            21,
            9,
            9,
            6,
            6,
            5,
            5,
            4,
            3,
            3,
            2,
            2,
            2,
            2,
            1,
            1,
            1,
            1
           ],
           "locations": [
            "FRA",
            "GBR",
            "USA",
            "GER",
            "BEL",
            "NED",
            "SUI",
            "DEN",
            "NOR",
            "AUS",
            "AUT",
            "ITA",
            "HUN",
            "SWE",
            "BOH",
            "MEX",
            "IND",
            "ESP",
            "CUB",
            "CAN",
            "COL",
            "LUX",
            "NZL",
            "HAI"
           ],
           "name": "",
           "type": "choropleth",
           "z": [
            235,
            108,
            63,
            45,
            43,
            27,
            21,
            9,
            9,
            6,
            6,
            5,
            5,
            4,
            3,
            3,
            2,
            2,
            2,
            2,
            1,
            1,
            1,
            1
           ]
          }
         ],
         "name": "1900"
        },
        {
         "data": [
          {
           "coloraxis": "coloraxis",
           "geo": "geo",
           "hovertemplate": "<b>%{hovertext}</b><br><br>Year=1936<br>NOC=%{location}<br>Total=%{z}<extra></extra>",
           "hovertext": [
            231,
            112,
            76,
            62,
            60,
            53,
            46,
            45,
            45,
            43,
            37,
            36,
            35,
            23,
            19,
            18,
            16,
            14,
            12,
            11,
            7,
            6,
            5,
            3,
            2,
            2,
            1,
            1,
            1,
            1,
            1,
            1
           ],
           "locations": [
            "GER",
            "USA",
            "ITA",
            "SUI",
            "AUT",
            "GBR",
            "NOR",
            "SWE",
            "FRA",
            "HUN",
            "NED",
            "FIN",
            "CAN",
            "JPN",
            "IND",
            "TCH",
            "MEX",
            "BEL",
            "POL",
            "ARG",
            "EST",
            "DEN",
            "EGY",
            "POR",
            "TUR",
            "LAT",
            "YUG",
            "AUS",
            "PHI",
            "ROU",
            "NZL",
            "RSA"
           ],
           "name": "",
           "type": "choropleth",
           "z": [
            231,
            112,
            76,
            62,
            60,
            53,
            46,
            45,
            45,
            43,
            37,
            36,
            35,
            23,
            19,
            18,
            16,
            14,
            12,
            11,
            7,
            6,
            5,
            3,
            2,
            2,
            1,
            1,
            1,
            1,
            1,
            1
           ]
          }
         ],
         "name": "1936"
        },
        {
         "data": [
          {
           "coloraxis": "coloraxis",
           "geo": "geo",
           "hovertemplate": "<b>%{hovertext}</b><br><br>Year=1968<br>NOC=%{location}<br>Total=%{z}<extra></extra>",
           "hovertext": [
            229,
            173,
            81,
            63,
            61,
            58,
            51,
            50,
            41,
            37,
            36,
            30,
            29,
            28,
            26,
            25,
            25,
            23,
            22,
            20,
            19,
            17,
            16,
            13,
            12,
            12,
            10,
            9,
            7,
            5,
            4,
            4,
            3,
            2,
            2,
            2,
            2,
            2,
            2,
            1,
            1,
            1,
            1,
            1
           ],
           "locations": [
            "URS",
            "USA",
            "HUN",
            "JPN",
            "FRG",
            "GDR",
            "AUS",
            "TCH",
            "ITA",
            "POL",
            "FRA",
            "CAN",
            "YUG",
            "NOR",
            "BUL",
            "SWE",
            "ROU",
            "NED",
            "SUI",
            "AUT",
            "GBR",
            "DEN",
            "IND",
            "PAK",
            "KEN",
            "FIN",
            "CUB",
            "MEX",
            "NZL",
            "IRI",
            "BRA",
            "MGL",
            "BEL",
            "ETH",
            "TUN",
            "UGA",
            "TUR",
            "KOR",
            "ARG",
            "CMR",
            "TPE",
            "VEN",
            "JAM",
            "GRE"
           ],
           "name": "",
           "type": "choropleth",
           "z": [
            229,
            173,
            81,
            63,
            61,
            58,
            51,
            50,
            41,
            37,
            36,
            30,
            29,
            28,
            26,
            25,
            25,
            23,
            22,
            20,
            19,
            17,
            16,
            13,
            12,
            12,
            10,
            9,
            7,
            5,
            4,
            4,
            3,
            2,
            2,
            2,
            2,
            2,
            2,
            1,
            1,
            1,
            1,
            1
           ]
          }
         ],
         "name": "1968"
        },
        {
         "data": [
          {
           "coloraxis": "coloraxis",
           "geo": "geo",
           "hovertemplate": "<b>%{hovertext}</b><br><br>Year=1932<br>NOC=%{location}<br>Total=%{z}<extra></extra>",
           "hovertext": [
            223,
            77,
            59,
            57,
            42,
            35,
            35,
            35,
            32,
            31,
            21,
            15,
            13,
            11,
            10,
            7,
            6,
            5,
            5,
            4,
            3,
            3,
            2,
            2,
            2,
            1,
            1,
            1,
            1
           ],
           "locations": [
            "USA",
            "ITA",
            "CAN",
            "GER",
            "FRA",
            "SWE",
            "GBR",
            "HUN",
            "FIN",
            "JPN",
            "POL",
            "IND",
            "NED",
            "DEN",
            "NOR",
            "AUT",
            "TCH",
            "RSA",
            "AUS",
            "ARG",
            "PHI",
            "SUI",
            "NZL",
            "MEX",
            "IRL",
            "BEL",
            "URU",
            "LAT",
            "ESP"
           ],
           "name": "",
           "type": "choropleth",
           "z": [
            223,
            77,
            59,
            57,
            42,
            35,
            35,
            35,
            32,
            31,
            21,
            15,
            13,
            11,
            10,
            7,
            6,
            5,
            5,
            4,
            3,
            3,
            2,
            2,
            2,
            1,
            1,
            1,
            1
           ]
          }
         ],
         "name": "1932"
        },
        {
         "data": [
          {
           "coloraxis": "coloraxis",
           "geo": "geo",
           "hovertemplate": "<b>%{hovertext}</b><br><br>Year=1964<br>NOC=%{location}<br>Total=%{z}<extra></extra>",
           "hovertext": [
            221,
            177,
            126,
            71,
            62,
            61,
            56,
            46,
            44,
            43,
            38,
            33,
            30,
            20,
            17,
            16,
            16,
            15,
            15,
            15,
            12,
            12,
            12,
            10,
            6,
            6,
            6,
            6,
            3,
            3,
            2,
            2,
            2,
            1,
            1,
            1,
            1,
            1,
            1,
            1,
            1,
            1,
            1,
            1
           ],
           "locations": [
            "URS",
            "USA",
            "GER",
            "TCH",
            "JPN",
            "ITA",
            "HUN",
            "POL",
            "AUS",
            "SWE",
            "FRA",
            "NED",
            "GBR",
            "FIN",
            "AUT",
            "PAK",
            "ROU",
            "IND",
            "YUG",
            "NOR",
            "BRA",
            "CAN",
            "DEN",
            "BUL",
            "TUR",
            "SUI",
            "TTO",
            "NZL",
            "KOR",
            "BEL",
            "IRI",
            "TUN",
            "BAH",
            "ARG",
            "URU",
            "GHA",
            "PHI",
            "KEN",
            "PRK",
            "NGR",
            "MEX",
            "ETH",
            "CUB",
            "IRL"
           ],
           "name": "",
           "type": "choropleth",
           "z": [
            221,
            177,
            126,
            71,
            62,
            61,
            56,
            46,
            44,
            43,
            38,
            33,
            30,
            20,
            17,
            16,
            16,
            15,
            15,
            15,
            12,
            12,
            12,
            10,
            6,
            6,
            6,
            6,
            3,
            3,
            2,
            2,
            2,
            1,
            1,
            1,
            1,
            1,
            1,
            1,
            1,
            1,
            1,
            1
           ]
          }
         ],
         "name": "1964"
        },
        {
         "data": [
          {
           "coloraxis": "coloraxis",
           "geo": "geo",
           "hovertemplate": "<b>%{hovertext}</b><br><br>Year=1960<br>NOC=%{location}<br>Total=%{z}<extra></extra>",
           "hovertext": [
            211,
            152,
            98,
            89,
            66,
            46,
            32,
            31,
            30,
            28,
            23,
            23,
            19,
            17,
            16,
            15,
            15,
            14,
            14,
            14,
            13,
            13,
            11,
            9,
            9,
            7,
            5,
            5,
            4,
            4,
            4,
            3,
            3,
            3,
            2,
            2,
            1,
            1,
            1,
            1,
            1,
            1,
            1,
            1
           ],
           "locations": [
            "URS",
            "USA",
            "GER",
            "ITA",
            "HUN",
            "AUS",
            "POL",
            "JPN",
            "CAN",
            "GBR",
            "DEN",
            "TCH",
            "FIN",
            "YUG",
            "SWE",
            "FRA",
            "ROU",
            "SUI",
            "PAK",
            "ESP",
            "BRA",
            "IND",
            "NOR",
            "AUT",
            "TUR",
            "BUL",
            "NED",
            "WIF",
            "BEL",
            "IRI",
            "ARG",
            "GRE",
            "RSA",
            "NZL",
            "UAR",
            "POR",
            "TPE",
            "VEN",
            "MEX",
            "MAR",
            "ETH",
            "GHA",
            "IRQ",
            "SGP"
           ],
           "name": "",
           "type": "choropleth",
           "z": [
            211,
            152,
            98,
            89,
            66,
            46,
            32,
            31,
            30,
            28,
            23,
            23,
            19,
            17,
            16,
            15,
            15,
            14,
            14,
            14,
            13,
            13,
            11,
            9,
            9,
            7,
            5,
            5,
            4,
            4,
            4,
            3,
            3,
            3,
            2,
            2,
            1,
            1,
            1,
            1,
            1,
            1,
            1,
            1
           ]
          }
         ],
         "name": "1960"
        },
        {
         "data": [
          {
           "coloraxis": "coloraxis",
           "geo": "geo",
           "hovertemplate": "<b>%{hovertext}</b><br><br>Year=1956<br>NOC=%{location}<br>Total=%{z}<extra></extra>",
           "hovertext": [
            206,
            149,
            67,
            66,
            55,
            54,
            49,
            46,
            39,
            38,
            33,
            25,
            23,
            20,
            19,
            18,
            17,
            16,
            14,
            13,
            12,
            7,
            7,
            7,
            7,
            6,
            5,
            5,
            4,
            3,
            2,
            2,
            2,
            2,
            2,
            1,
            1,
            1
           ],
           "locations": [
            "URS",
            "USA",
            "AUS",
            "HUN",
            "ITA",
            "GER",
            "SWE",
            "GBR",
            "CAN",
            "FIN",
            "FRA",
            "JPN",
            "YUG",
            "POL",
            "ROU",
            "BUL",
            "IND",
            "AUT",
            "PAK",
            "SUI",
            "URU",
            "NOR",
            "TUR",
            "TCH",
            "RSA",
            "DEN",
            "IRI",
            "IRL",
            "CHI",
            "NZL",
            "KOR",
            "ARG",
            "MEX",
            "BAH",
            "BEL",
            "BRA",
            "ISL",
            "GRE"
           ],
           "name": "",
           "type": "choropleth",
           "z": [
            206,
            149,
            67,
            66,
            55,
            54,
            49,
            46,
            39,
            38,
            33,
            25,
            23,
            20,
            19,
            18,
            17,
            16,
            14,
            13,
            12,
            7,
            7,
            7,
            7,
            6,
            5,
            5,
            4,
            3,
            2,
            2,
            2,
            2,
            2,
            1,
            1,
            1
           ]
          }
         ],
         "name": "1956"
        },
        {
         "data": [
          {
           "coloraxis": "coloraxis",
           "geo": "geo",
           "hovertemplate": "<b>%{hovertext}</b><br><br>Year=1920<br>NOC=%{location}<br>Total=%{z}<extra></extra>",
           "hovertext": [
            194,
            188,
            154,
            141,
            137,
            111,
            84,
            71,
            52,
            50,
            29,
            23,
            21,
            16,
            10,
            7,
            7,
            5,
            3,
            3,
            1,
            1
           ],
           "locations": [
            "USA",
            "BEL",
            "SWE",
            "FRA",
            "NOR",
            "GBR",
            "ITA",
            "DEN",
            "FIN",
            "NED",
            "SUI",
            "ESP",
            "RSA",
            "CAN",
            "TCH",
            "BRA",
            "AUS",
            "GRE",
            "JPN",
            "EST",
            "LUX",
            "NZL"
           ],
           "name": "",
           "type": "choropleth",
           "z": [
            194,
            188,
            154,
            141,
            137,
            111,
            84,
            71,
            52,
            50,
            29,
            23,
            21,
            16,
            10,
            7,
            7,
            5,
            3,
            3,
            1,
            1
           ]
          }
         ],
         "name": "1920"
        },
        {
         "data": [
          {
           "coloraxis": "coloraxis",
           "geo": "geo",
           "hovertemplate": "<b>%{hovertext}</b><br><br>Year=1924<br>NOC=%{location}<br>Total=%{z}<extra></extra>",
           "hovertext": [
            194,
            120,
            95,
            81,
            69,
            67,
            51,
            44,
            39,
            29,
            27,
            22,
            16,
            14,
            14,
            11,
            10,
            10,
            8,
            7,
            6,
            5,
            5,
            4,
            3,
            2,
            2,
            2,
            1,
            1,
            1,
            1,
            1
           ],
           "locations": [
            "USA",
            "FRA",
            "GBR",
            "SWE",
            "SUI",
            "FIN",
            "ITA",
            "BEL",
            "NOR",
            "CAN",
            "NED",
            "HUN",
            "ROU",
            "URU",
            "DEN",
            "AUS",
            "ARG",
            "TCH",
            "AUT",
            "IND",
            "EST",
            "POL",
            "HAI",
            "POR",
            "RSA",
            "LUX",
            "IRL",
            "YUG",
            "JPN",
            "MON",
            "NEP",
            "NZL",
            "GRE"
           ],
           "name": "",
           "type": "choropleth",
           "z": [
            194,
            120,
            95,
            81,
            69,
            67,
            51,
            44,
            39,
            29,
            27,
            22,
            16,
            14,
            14,
            11,
            10,
            10,
            8,
            7,
            6,
            5,
            5,
            4,
            3,
            2,
            2,
            2,
            1,
            1,
            1,
            1,
            1
           ]
          }
         ],
         "name": "1924"
        },
        {
         "data": [
          {
           "coloraxis": "coloraxis",
           "geo": "geo",
           "hovertemplate": "<b>%{hovertext}</b><br><br>Year=1912<br>NOC=%{location}<br>Total=%{z}<extra></extra>",
           "hovertext": [
            190,
            170,
            107,
            87,
            80,
            71,
            53,
            30,
            26,
            26,
            25,
            19,
            14,
            14,
            10,
            8,
            7,
            2,
            2
           ],
           "locations": [
            "SWE",
            "GBR",
            "USA",
            "DEN",
            "NOR",
            "FIN",
            "GER",
            "HUN",
            "FRA",
            "NED",
            "ITA",
            "BEL",
            "RUS",
            "AUT",
            "ANZ",
            "CAN",
            "RSA",
            "SUI",
            "GRE"
           ],
           "name": "",
           "type": "choropleth",
           "z": [
            190,
            170,
            107,
            87,
            80,
            71,
            53,
            30,
            26,
            26,
            25,
            19,
            14,
            14,
            10,
            8,
            7,
            2,
            2
           ]
          }
         ],
         "name": "1912"
        },
        {
         "data": [
          {
           "coloraxis": "coloraxis",
           "geo": "geo",
           "hovertemplate": "<b>%{hovertext}</b><br><br>Year=1948<br>NOC=%{location}<br>Total=%{z}<extra></extra>",
           "hovertext": [
            168,
            88,
            77,
            68,
            64,
            64,
            63,
            51,
            42,
            42,
            37,
            31,
            22,
            21,
            20,
            16,
            16,
            16,
            12,
            11,
            10,
            9,
            6,
            5,
            5,
            3,
            3,
            3,
            2,
            2,
            2,
            2,
            1,
            1,
            1,
            1,
            1,
            1
           ],
           "locations": [
            "USA",
            "SWE",
            "FRA",
            "ITA",
            "HUN",
            "SUI",
            "GBR",
            "DEN",
            "FIN",
            "NED",
            "TCH",
            "NOR",
            "CAN",
            "BEL",
            "IND",
            "AUS",
            "YUG",
            "AUT",
            "TUR",
            "ARG",
            "BRA",
            "MEX",
            "RSA",
            "EGY",
            "POR",
            "JAM",
            "URU",
            "ESP",
            "CUB",
            "PAN",
            "POL",
            "KOR",
            "TTO",
            "PER",
            "PUR",
            "IRI",
            "IRL",
            "SRI"
           ],
           "name": "",
           "type": "choropleth",
           "z": [
            168,
            88,
            77,
            68,
            64,
            64,
            63,
            51,
            42,
            42,
            37,
            31,
            22,
            21,
            20,
            16,
            16,
            16,
            12,
            11,
            10,
            9,
            6,
            5,
            5,
            3,
            3,
            3,
            2,
            2,
            2,
            2,
            1,
            1,
            1,
            1,
            1,
            1
           ]
          }
         ],
         "name": "1948"
        },
        {
         "data": [
          {
           "coloraxis": "coloraxis",
           "geo": "geo",
           "hovertemplate": "<b>%{hovertext}</b><br><br>Year=1952<br>NOC=%{location}<br>Total=%{z}<extra></extra>",
           "hovertext": [
            164,
            117,
            104,
            93,
            56,
            52,
            52,
            41,
            39,
            32,
            32,
            25,
            24,
            21,
            21,
            20,
            15,
            14,
            14,
            12,
            11,
            9,
            8,
            8,
            7,
            6,
            4,
            4,
            4,
            3,
            3,
            3,
            2,
            2,
            2,
            2,
            1,
            1,
            1,
            1,
            1,
            1,
            1
           ],
           "locations": [
            "USA",
            "URS",
            "HUN",
            "SWE",
            "ITA",
            "FIN",
            "GER",
            "FRA",
            "SUI",
            "NOR",
            "GBR",
            "TCH",
            "YUG",
            "CAN",
            "NED",
            "AUS",
            "IND",
            "RSA",
            "URU",
            "JPN",
            "AUT",
            "DEN",
            "BEL",
            "JAM",
            "IRI",
            "ARG",
            "ROU",
            "POL",
            "CHI",
            "TUR",
            "BRA",
            "NZL",
            "TTO",
            "LIB",
            "KOR",
            "POR",
            "BUL",
            "VEN",
            "LUX",
            "MEX",
            "EGY",
            "ESP",
            "IRL"
           ],
           "name": "",
           "type": "choropleth",
           "z": [
            164,
            117,
            104,
            93,
            56,
            52,
            52,
            41,
            39,
            32,
            32,
            25,
            24,
            21,
            21,
            20,
            15,
            14,
            14,
            12,
            11,
            9,
            8,
            8,
            7,
            6,
            4,
            4,
            4,
            3,
            3,
            3,
            2,
            2,
            2,
            2,
            1,
            1,
            1,
            1,
            1,
            1,
            1
           ]
          }
         ],
         "name": "1952"
        },
        {
         "data": [
          {
           "coloraxis": "coloraxis",
           "geo": "geo",
           "hovertemplate": "<b>%{hovertext}</b><br><br>Year=1906<br>NOC=%{location}<br>Total=%{z}<extra></extra>",
           "hovertext": [
            102,
            64,
            56,
            39,
            34,
            30,
            25,
            24,
            21,
            13,
            12,
            11,
            9,
            6,
            4,
            3,
            3,
            2
           ],
           "locations": [
            "GRE",
            "FRA",
            "ITA",
            "GBR",
            "DEN",
            "GER",
            "NOR",
            "USA",
            "SWE",
            "HUN",
            "SUI",
            "BEL",
            "AUT",
            "NED",
            "FIN",
            "AUS",
            "BOH",
            "CAN"
           ],
           "name": "",
           "type": "choropleth",
           "z": [
            102,
            64,
            56,
            39,
            34,
            30,
            25,
            24,
            21,
            13,
            12,
            11,
            9,
            6,
            4,
            3,
            3,
            2
           ]
          }
         ],
         "name": "1906"
        },
        {
         "data": [
          {
           "coloraxis": "coloraxis",
           "geo": "geo",
           "hovertemplate": "<b>%{hovertext}</b><br><br>Year=1928<br>NOC=%{location}<br>Total=%{z}<extra></extra>",
           "hovertext": [
            102,
            82,
            72,
            59,
            57,
            53,
            52,
            45,
            42,
            29,
            26,
            24,
            21,
            20,
            17,
            17,
            15,
            14,
            12,
            11,
            9,
            9,
            6,
            6,
            6,
            4,
            4,
            3,
            1,
            1,
            1,
            1,
            1,
            1
           ],
           "locations": [
            "USA",
            "GER",
            "ITA",
            "GBR",
            "NED",
            "SWE",
            "FRA",
            "CAN",
            "SUI",
            "FIN",
            "ARG",
            "NOR",
            "HUN",
            "POL",
            "URU",
            "TCH",
            "DEN",
            "IND",
            "YUG",
            "AUT",
            "EST",
            "JPN",
            "POR",
            "BEL",
            "RSA",
            "AUS",
            "EGY",
            "ESP",
            "CHI",
            "PHI",
            "LUX",
            "NZL",
            "IRL",
            "HAI"
           ],
           "name": "",
           "type": "choropleth",
           "z": [
            102,
            82,
            72,
            59,
            57,
            53,
            52,
            45,
            42,
            29,
            26,
            24,
            21,
            20,
            17,
            17,
            15,
            14,
            12,
            11,
            9,
            9,
            6,
            6,
            6,
            4,
            4,
            3,
            1,
            1,
            1,
            1,
            1,
            1
           ]
          }
         ],
         "name": "1928"
        },
        {
         "data": [
          {
           "coloraxis": "coloraxis",
           "geo": "geo",
           "hovertemplate": "<b>%{hovertext}</b><br><br>Year=2010<br>NOC=%{location}<br>Total=%{z}<extra></extra>",
           "hovertext": [
            97,
            90,
            54,
            47,
            39,
            26,
            25,
            19,
            18,
            18,
            14,
            12,
            11,
            9,
            8,
            7,
            5,
            3,
            3,
            3,
            3,
            3,
            3,
            1,
            1,
            1
           ],
           "locations": [
            "USA",
            "CAN",
            "GER",
            "FIN",
            "NOR",
            "AUT",
            "RUS",
            "CHN",
            "KOR",
            "SWE",
            "FRA",
            "SUI",
            "NED",
            "CZE",
            "POL",
            "JPN",
            "ITA",
            "BLR",
            "AUS",
            "CRO",
            "SLO",
            "LAT",
            "SVK",
            "KAZ",
            "GBR",
            "EST"
           ],
           "name": "",
           "type": "choropleth",
           "z": [
            97,
            90,
            54,
            47,
            39,
            26,
            25,
            19,
            18,
            18,
            14,
            12,
            11,
            9,
            8,
            7,
            5,
            3,
            3,
            3,
            3,
            3,
            3,
            1,
            1,
            1
           ]
          }
         ],
         "name": "2010"
        },
        {
         "data": [
          {
           "coloraxis": "coloraxis",
           "geo": "geo",
           "hovertemplate": "<b>%{hovertext}</b><br><br>Year=2014<br>NOC=%{location}<br>Total=%{z}<extra></extra>",
           "hovertext": [
            86,
            68,
            64,
            51,
            36,
            36,
            33,
            30,
            29,
            27,
            18,
            14,
            14,
            12,
            11,
            11,
            11,
            11,
            10,
            8,
            6,
            5,
            3,
            1,
            1,
            1
           ],
           "locations": [
            "CAN",
            "RUS",
            "USA",
            "SWE",
            "NOR",
            "GER",
            "FIN",
            "SUI",
            "NED",
            "AUT",
            "FRA",
            "ITA",
            "KOR",
            "CHN",
            "JPN",
            "POL",
            "CZE",
            "LAT",
            "GBR",
            "SLO",
            "BLR",
            "UKR",
            "AUS",
            "KAZ",
            "SVK",
            "CRO"
           ],
           "name": "",
           "type": "choropleth",
           "z": [
            86,
            68,
            64,
            51,
            36,
            36,
            33,
            30,
            29,
            27,
            18,
            14,
            14,
            12,
            11,
            11,
            11,
            11,
            10,
            8,
            6,
            5,
            3,
            1,
            1,
            1
           ]
          }
         ],
         "name": "2014"
        },
        {
         "data": [
          {
           "coloraxis": "coloraxis",
           "geo": "geo",
           "hovertemplate": "<b>%{hovertext}</b><br><br>Year=2002<br>NOC=%{location}<br>Total=%{z}<extra></extra>",
           "hovertext": [
            84,
            74,
            61,
            41,
            38,
            26,
            24,
            21,
            20,
            16,
            15,
            13,
            8,
            7,
            6,
            4,
            4,
            3,
            3,
            3,
            2,
            2,
            2,
            1
           ],
           "locations": [
            "USA",
            "CAN",
            "GER",
            "NOR",
            "RUS",
            "SWE",
            "SUI",
            "ITA",
            "AUT",
            "CHN",
            "FRA",
            "FIN",
            "NED",
            "KOR",
            "GBR",
            "SLO",
            "CRO",
            "BUL",
            "EST",
            "CZE",
            "AUS",
            "POL",
            "JPN",
            "BLR"
           ],
           "name": "",
           "type": "choropleth",
           "z": [
            84,
            74,
            61,
            41,
            38,
            26,
            24,
            21,
            20,
            16,
            15,
            13,
            8,
            7,
            6,
            4,
            4,
            3,
            3,
            3,
            2,
            2,
            2,
            1
           ]
          }
         ],
         "name": "2002"
        },
        {
         "data": [
          {
           "coloraxis": "coloraxis",
           "geo": "geo",
           "hovertemplate": "<b>%{hovertext}</b><br><br>Year=2006<br>NOC=%{location}<br>Total=%{z}<extra></extra>",
           "hovertext": [
            69,
            64,
            54,
            52,
            41,
            41,
            30,
            27,
            25,
            23,
            21,
            19,
            15,
            13,
            13,
            3,
            3,
            3,
            2,
            2,
            1,
            1,
            1,
            1,
            1,
            1
           ],
           "locations": [
            "CAN",
            "SWE",
            "GER",
            "USA",
            "FIN",
            "RUS",
            "AUT",
            "CZE",
            "ITA",
            "NOR",
            "SUI",
            "KOR",
            "FRA",
            "NED",
            "CHN",
            "CRO",
            "EST",
            "UKR",
            "AUS",
            "POL",
            "BLR",
            "BUL",
            "JPN",
            "LAT",
            "SVK",
            "GBR"
           ],
           "name": "",
           "type": "choropleth",
           "z": [
            69,
            64,
            54,
            52,
            41,
            41,
            30,
            27,
            25,
            23,
            21,
            19,
            15,
            13,
            13,
            3,
            3,
            3,
            2,
            2,
            1,
            1,
            1,
            1,
            1,
            1
           ]
          }
         ],
         "name": "2006"
        },
        {
         "data": [
          {
           "coloraxis": "coloraxis",
           "geo": "geo",
           "hovertemplate": "<b>%{hovertext}</b><br><br>Year=1998<br>NOC=%{location}<br>Total=%{z}<extra></extra>",
           "hovertext": [
            58,
            52,
            49,
            44,
            40,
            34,
            23,
            20,
            17,
            15,
            14,
            14,
            13,
            12,
            11,
            7,
            5,
            4,
            2,
            2,
            1,
            1,
            1,
            1
           ],
           "locations": [
            "FIN",
            "RUS",
            "CAN",
            "GER",
            "NOR",
            "USA",
            "CZE",
            "AUT",
            "ITA",
            "FRA",
            "SUI",
            "CHN",
            "JPN",
            "KOR",
            "NED",
            "SWE",
            "DEN",
            "GBR",
            "BLR",
            "KAZ",
            "UKR",
            "BEL",
            "AUS",
            "BUL"
           ],
           "name": "",
           "type": "choropleth",
           "z": [
            58,
            52,
            49,
            44,
            40,
            34,
            23,
            20,
            17,
            15,
            14,
            14,
            13,
            12,
            11,
            7,
            5,
            4,
            2,
            2,
            1,
            1,
            1,
            1
           ]
          }
         ],
         "name": "1998"
        },
        {
         "data": [
          {
           "coloraxis": "coloraxis",
           "geo": "geo",
           "hovertemplate": "<b>%{hovertext}</b><br><br>Year=1896<br>NOC=%{location}<br>Total=%{z}<extra></extra>",
           "hovertext": [
            48,
            32,
            20,
            11,
            9,
            6,
            6,
            5,
            3,
            3
           ],
           "locations": [
            "GRE",
            "GER",
            "USA",
            "FRA",
            "GBR",
            "DEN",
            "HUN",
            "AUT",
            "SUI",
            "AUS"
           ],
           "name": "",
           "type": "choropleth",
           "z": [
            48,
            32,
            20,
            11,
            9,
            6,
            6,
            5,
            3,
            3
           ]
          }
         ],
         "name": "1896"
        },
        {
         "data": [
          {
           "coloraxis": "coloraxis",
           "geo": "geo",
           "hovertemplate": "<b>%{hovertext}</b><br><br>Year=1994<br>NOC=%{location}<br>Total=%{z}<extra></extra>",
           "hovertext": [
            40,
            37,
            36,
            32,
            30,
            30,
            24,
            19,
            16,
            12,
            11,
            10,
            9,
            4,
            4,
            3,
            3,
            3,
            3,
            2,
            2,
            1
           ],
           "locations": [
            "GER",
            "CAN",
            "RUS",
            "ITA",
            "FIN",
            "NOR",
            "SWE",
            "USA",
            "SUI",
            "AUT",
            "FRA",
            "JPN",
            "KOR",
            "NED",
            "AUS",
            "GBR",
            "SLO",
            "KAZ",
            "CHN",
            "UKR",
            "BLR",
            "UZB"
           ],
           "name": "",
           "type": "choropleth",
           "z": [
            40,
            37,
            36,
            32,
            30,
            30,
            24,
            19,
            16,
            12,
            11,
            10,
            9,
            4,
            4,
            3,
            3,
            3,
            3,
            2,
            2,
            1
           ]
          }
         ],
         "name": "1994"
        }
       ],
       "layout": {
        "coloraxis": {
         "cmax": 68,
         "cmin": 0,
         "colorbar": {
          "title": {
           "text": "Total"
          }
         },
         "colorscale": [
          [
           0,
           "#0d0887"
          ],
          [
           0.1111111111111111,
           "#46039f"
          ],
          [
           0.2222222222222222,
           "#7201a8"
          ],
          [
           0.3333333333333333,
           "#9c179e"
          ],
          [
           0.4444444444444444,
           "#bd3786"
          ],
          [
           0.5555555555555556,
           "#d8576b"
          ],
          [
           0.6666666666666666,
           "#ed7953"
          ],
          [
           0.7777777777777778,
           "#fb9f3a"
          ],
          [
           0.8888888888888888,
           "#fdca26"
          ],
          [
           1,
           "#f0f921"
          ]
         ]
        },
        "geo": {
         "center": {},
         "domain": {
          "x": [
           0,
           1
          ],
          "y": [
           0,
           1
          ]
         }
        },
        "legend": {
         "tracegroupgap": 0
        },
        "margin": {
         "t": 60
        },
        "sliders": [
         {
          "active": 0,
          "currentvalue": {
           "prefix": "Year="
          },
          "len": 0.9,
          "pad": {
           "b": 10,
           "t": 60
          },
          "steps": [
           {
            "args": [
             [
              "1980"
             ],
             {
              "frame": {
               "duration": 0,
               "redraw": true
              },
              "fromcurrent": true,
              "mode": "immediate",
              "transition": {
               "duration": 0,
               "easing": "linear"
              }
             }
            ],
            "label": "1980",
            "method": "animate"
           },
           {
            "args": [
             [
              "1904"
             ],
             {
              "frame": {
               "duration": 0,
               "redraw": true
              },
              "fromcurrent": true,
              "mode": "immediate",
              "transition": {
               "duration": 0,
               "easing": "linear"
              }
             }
            ],
            "label": "1904",
            "method": "animate"
           },
           {
            "args": [
             [
              "1908"
             ],
             {
              "frame": {
               "duration": 0,
               "redraw": true
              },
              "fromcurrent": true,
              "mode": "immediate",
              "transition": {
               "duration": 0,
               "easing": "linear"
              }
             }
            ],
            "label": "1908",
            "method": "animate"
           },
           {
            "args": [
             [
              "1988"
             ],
             {
              "frame": {
               "duration": 0,
               "redraw": true
              },
              "fromcurrent": true,
              "mode": "immediate",
              "transition": {
               "duration": 0,
               "easing": "linear"
              }
             }
            ],
            "label": "1988",
            "method": "animate"
           },
           {
            "args": [
             [
              "1984"
             ],
             {
              "frame": {
               "duration": 0,
               "redraw": true
              },
              "fromcurrent": true,
              "mode": "immediate",
              "transition": {
               "duration": 0,
               "easing": "linear"
              }
             }
            ],
            "label": "1984",
            "method": "animate"
           },
           {
            "args": [
             [
              "1976"
             ],
             {
              "frame": {
               "duration": 0,
               "redraw": true
              },
              "fromcurrent": true,
              "mode": "immediate",
              "transition": {
               "duration": 0,
               "easing": "linear"
              }
             }
            ],
            "label": "1976",
            "method": "animate"
           },
           {
            "args": [
             [
              "2008"
             ],
             {
              "frame": {
               "duration": 0,
               "redraw": true
              },
              "fromcurrent": true,
              "mode": "immediate",
              "transition": {
               "duration": 0,
               "easing": "linear"
              }
             }
            ],
            "label": "2008",
            "method": "animate"
           },
           {
            "args": [
             [
              "1992"
             ],
             {
              "frame": {
               "duration": 0,
               "redraw": true
              },
              "fromcurrent": true,
              "mode": "immediate",
              "transition": {
               "duration": 0,
               "easing": "linear"
              }
             }
            ],
            "label": "1992",
            "method": "animate"
           },
           {
            "args": [
             [
              "2016"
             ],
             {
              "frame": {
               "duration": 0,
               "redraw": true
              },
              "fromcurrent": true,
              "mode": "immediate",
              "transition": {
               "duration": 0,
               "easing": "linear"
              }
             }
            ],
            "label": "2016",
            "method": "animate"
           },
           {
            "args": [
             [
              "2004"
             ],
             {
              "frame": {
               "duration": 0,
               "redraw": true
              },
              "fromcurrent": true,
              "mode": "immediate",
              "transition": {
               "duration": 0,
               "easing": "linear"
              }
             }
            ],
            "label": "2004",
            "method": "animate"
           },
           {
            "args": [
             [
              "1972"
             ],
             {
              "frame": {
               "duration": 0,
               "redraw": true
              },
              "fromcurrent": true,
              "mode": "immediate",
              "transition": {
               "duration": 0,
               "easing": "linear"
              }
             }
            ],
            "label": "1972",
            "method": "animate"
           },
           {
            "args": [
             [
              "1996"
             ],
             {
              "frame": {
               "duration": 0,
               "redraw": true
              },
              "fromcurrent": true,
              "mode": "immediate",
              "transition": {
               "duration": 0,
               "easing": "linear"
              }
             }
            ],
            "label": "1996",
            "method": "animate"
           },
           {
            "args": [
             [
              "2012"
             ],
             {
              "frame": {
               "duration": 0,
               "redraw": true
              },
              "fromcurrent": true,
              "mode": "immediate",
              "transition": {
               "duration": 0,
               "easing": "linear"
              }
             }
            ],
            "label": "2012",
            "method": "animate"
           },
           {
            "args": [
             [
              "2000"
             ],
             {
              "frame": {
               "duration": 0,
               "redraw": true
              },
              "fromcurrent": true,
              "mode": "immediate",
              "transition": {
               "duration": 0,
               "easing": "linear"
              }
             }
            ],
            "label": "2000",
            "method": "animate"
           },
           {
            "args": [
             [
              "1900"
             ],
             {
              "frame": {
               "duration": 0,
               "redraw": true
              },
              "fromcurrent": true,
              "mode": "immediate",
              "transition": {
               "duration": 0,
               "easing": "linear"
              }
             }
            ],
            "label": "1900",
            "method": "animate"
           },
           {
            "args": [
             [
              "1936"
             ],
             {
              "frame": {
               "duration": 0,
               "redraw": true
              },
              "fromcurrent": true,
              "mode": "immediate",
              "transition": {
               "duration": 0,
               "easing": "linear"
              }
             }
            ],
            "label": "1936",
            "method": "animate"
           },
           {
            "args": [
             [
              "1968"
             ],
             {
              "frame": {
               "duration": 0,
               "redraw": true
              },
              "fromcurrent": true,
              "mode": "immediate",
              "transition": {
               "duration": 0,
               "easing": "linear"
              }
             }
            ],
            "label": "1968",
            "method": "animate"
           },
           {
            "args": [
             [
              "1932"
             ],
             {
              "frame": {
               "duration": 0,
               "redraw": true
              },
              "fromcurrent": true,
              "mode": "immediate",
              "transition": {
               "duration": 0,
               "easing": "linear"
              }
             }
            ],
            "label": "1932",
            "method": "animate"
           },
           {
            "args": [
             [
              "1964"
             ],
             {
              "frame": {
               "duration": 0,
               "redraw": true
              },
              "fromcurrent": true,
              "mode": "immediate",
              "transition": {
               "duration": 0,
               "easing": "linear"
              }
             }
            ],
            "label": "1964",
            "method": "animate"
           },
           {
            "args": [
             [
              "1960"
             ],
             {
              "frame": {
               "duration": 0,
               "redraw": true
              },
              "fromcurrent": true,
              "mode": "immediate",
              "transition": {
               "duration": 0,
               "easing": "linear"
              }
             }
            ],
            "label": "1960",
            "method": "animate"
           },
           {
            "args": [
             [
              "1956"
             ],
             {
              "frame": {
               "duration": 0,
               "redraw": true
              },
              "fromcurrent": true,
              "mode": "immediate",
              "transition": {
               "duration": 0,
               "easing": "linear"
              }
             }
            ],
            "label": "1956",
            "method": "animate"
           },
           {
            "args": [
             [
              "1920"
             ],
             {
              "frame": {
               "duration": 0,
               "redraw": true
              },
              "fromcurrent": true,
              "mode": "immediate",
              "transition": {
               "duration": 0,
               "easing": "linear"
              }
             }
            ],
            "label": "1920",
            "method": "animate"
           },
           {
            "args": [
             [
              "1924"
             ],
             {
              "frame": {
               "duration": 0,
               "redraw": true
              },
              "fromcurrent": true,
              "mode": "immediate",
              "transition": {
               "duration": 0,
               "easing": "linear"
              }
             }
            ],
            "label": "1924",
            "method": "animate"
           },
           {
            "args": [
             [
              "1912"
             ],
             {
              "frame": {
               "duration": 0,
               "redraw": true
              },
              "fromcurrent": true,
              "mode": "immediate",
              "transition": {
               "duration": 0,
               "easing": "linear"
              }
             }
            ],
            "label": "1912",
            "method": "animate"
           },
           {
            "args": [
             [
              "1948"
             ],
             {
              "frame": {
               "duration": 0,
               "redraw": true
              },
              "fromcurrent": true,
              "mode": "immediate",
              "transition": {
               "duration": 0,
               "easing": "linear"
              }
             }
            ],
            "label": "1948",
            "method": "animate"
           },
           {
            "args": [
             [
              "1952"
             ],
             {
              "frame": {
               "duration": 0,
               "redraw": true
              },
              "fromcurrent": true,
              "mode": "immediate",
              "transition": {
               "duration": 0,
               "easing": "linear"
              }
             }
            ],
            "label": "1952",
            "method": "animate"
           },
           {
            "args": [
             [
              "1906"
             ],
             {
              "frame": {
               "duration": 0,
               "redraw": true
              },
              "fromcurrent": true,
              "mode": "immediate",
              "transition": {
               "duration": 0,
               "easing": "linear"
              }
             }
            ],
            "label": "1906",
            "method": "animate"
           },
           {
            "args": [
             [
              "1928"
             ],
             {
              "frame": {
               "duration": 0,
               "redraw": true
              },
              "fromcurrent": true,
              "mode": "immediate",
              "transition": {
               "duration": 0,
               "easing": "linear"
              }
             }
            ],
            "label": "1928",
            "method": "animate"
           },
           {
            "args": [
             [
              "2010"
             ],
             {
              "frame": {
               "duration": 0,
               "redraw": true
              },
              "fromcurrent": true,
              "mode": "immediate",
              "transition": {
               "duration": 0,
               "easing": "linear"
              }
             }
            ],
            "label": "2010",
            "method": "animate"
           },
           {
            "args": [
             [
              "2014"
             ],
             {
              "frame": {
               "duration": 0,
               "redraw": true
              },
              "fromcurrent": true,
              "mode": "immediate",
              "transition": {
               "duration": 0,
               "easing": "linear"
              }
             }
            ],
            "label": "2014",
            "method": "animate"
           },
           {
            "args": [
             [
              "2002"
             ],
             {
              "frame": {
               "duration": 0,
               "redraw": true
              },
              "fromcurrent": true,
              "mode": "immediate",
              "transition": {
               "duration": 0,
               "easing": "linear"
              }
             }
            ],
            "label": "2002",
            "method": "animate"
           },
           {
            "args": [
             [
              "2006"
             ],
             {
              "frame": {
               "duration": 0,
               "redraw": true
              },
              "fromcurrent": true,
              "mode": "immediate",
              "transition": {
               "duration": 0,
               "easing": "linear"
              }
             }
            ],
            "label": "2006",
            "method": "animate"
           },
           {
            "args": [
             [
              "1998"
             ],
             {
              "frame": {
               "duration": 0,
               "redraw": true
              },
              "fromcurrent": true,
              "mode": "immediate",
              "transition": {
               "duration": 0,
               "easing": "linear"
              }
             }
            ],
            "label": "1998",
            "method": "animate"
           },
           {
            "args": [
             [
              "1896"
             ],
             {
              "frame": {
               "duration": 0,
               "redraw": true
              },
              "fromcurrent": true,
              "mode": "immediate",
              "transition": {
               "duration": 0,
               "easing": "linear"
              }
             }
            ],
            "label": "1896",
            "method": "animate"
           },
           {
            "args": [
             [
              "1994"
             ],
             {
              "frame": {
               "duration": 0,
               "redraw": true
              },
              "fromcurrent": true,
              "mode": "immediate",
              "transition": {
               "duration": 0,
               "easing": "linear"
              }
             }
            ],
            "label": "1994",
            "method": "animate"
           }
          ],
          "x": 0.1,
          "xanchor": "left",
          "y": 0,
          "yanchor": "top"
         }
        ],
        "template": {
         "data": {
          "bar": [
           {
            "error_x": {
             "color": "#2a3f5f"
            },
            "error_y": {
             "color": "#2a3f5f"
            },
            "marker": {
             "line": {
              "color": "#E5ECF6",
              "width": 0.5
             },
             "pattern": {
              "fillmode": "overlay",
              "size": 10,
              "solidity": 0.2
             }
            },
            "type": "bar"
           }
          ],
          "barpolar": [
           {
            "marker": {
             "line": {
              "color": "#E5ECF6",
              "width": 0.5
             },
             "pattern": {
              "fillmode": "overlay",
              "size": 10,
              "solidity": 0.2
             }
            },
            "type": "barpolar"
           }
          ],
          "carpet": [
           {
            "aaxis": {
             "endlinecolor": "#2a3f5f",
             "gridcolor": "white",
             "linecolor": "white",
             "minorgridcolor": "white",
             "startlinecolor": "#2a3f5f"
            },
            "baxis": {
             "endlinecolor": "#2a3f5f",
             "gridcolor": "white",
             "linecolor": "white",
             "minorgridcolor": "white",
             "startlinecolor": "#2a3f5f"
            },
            "type": "carpet"
           }
          ],
          "choropleth": [
           {
            "colorbar": {
             "outlinewidth": 0,
             "ticks": ""
            },
            "type": "choropleth"
           }
          ],
          "contour": [
           {
            "colorbar": {
             "outlinewidth": 0,
             "ticks": ""
            },
            "colorscale": [
             [
              0,
              "#0d0887"
             ],
             [
              0.1111111111111111,
              "#46039f"
             ],
             [
              0.2222222222222222,
              "#7201a8"
             ],
             [
              0.3333333333333333,
              "#9c179e"
             ],
             [
              0.4444444444444444,
              "#bd3786"
             ],
             [
              0.5555555555555556,
              "#d8576b"
             ],
             [
              0.6666666666666666,
              "#ed7953"
             ],
             [
              0.7777777777777778,
              "#fb9f3a"
             ],
             [
              0.8888888888888888,
              "#fdca26"
             ],
             [
              1,
              "#f0f921"
             ]
            ],
            "type": "contour"
           }
          ],
          "contourcarpet": [
           {
            "colorbar": {
             "outlinewidth": 0,
             "ticks": ""
            },
            "type": "contourcarpet"
           }
          ],
          "heatmap": [
           {
            "colorbar": {
             "outlinewidth": 0,
             "ticks": ""
            },
            "colorscale": [
             [
              0,
              "#0d0887"
             ],
             [
              0.1111111111111111,
              "#46039f"
             ],
             [
              0.2222222222222222,
              "#7201a8"
             ],
             [
              0.3333333333333333,
              "#9c179e"
             ],
             [
              0.4444444444444444,
              "#bd3786"
             ],
             [
              0.5555555555555556,
              "#d8576b"
             ],
             [
              0.6666666666666666,
              "#ed7953"
             ],
             [
              0.7777777777777778,
              "#fb9f3a"
             ],
             [
              0.8888888888888888,
              "#fdca26"
             ],
             [
              1,
              "#f0f921"
             ]
            ],
            "type": "heatmap"
           }
          ],
          "heatmapgl": [
           {
            "colorbar": {
             "outlinewidth": 0,
             "ticks": ""
            },
            "colorscale": [
             [
              0,
              "#0d0887"
             ],
             [
              0.1111111111111111,
              "#46039f"
             ],
             [
              0.2222222222222222,
              "#7201a8"
             ],
             [
              0.3333333333333333,
              "#9c179e"
             ],
             [
              0.4444444444444444,
              "#bd3786"
             ],
             [
              0.5555555555555556,
              "#d8576b"
             ],
             [
              0.6666666666666666,
              "#ed7953"
             ],
             [
              0.7777777777777778,
              "#fb9f3a"
             ],
             [
              0.8888888888888888,
              "#fdca26"
             ],
             [
              1,
              "#f0f921"
             ]
            ],
            "type": "heatmapgl"
           }
          ],
          "histogram": [
           {
            "marker": {
             "pattern": {
              "fillmode": "overlay",
              "size": 10,
              "solidity": 0.2
             }
            },
            "type": "histogram"
           }
          ],
          "histogram2d": [
           {
            "colorbar": {
             "outlinewidth": 0,
             "ticks": ""
            },
            "colorscale": [
             [
              0,
              "#0d0887"
             ],
             [
              0.1111111111111111,
              "#46039f"
             ],
             [
              0.2222222222222222,
              "#7201a8"
             ],
             [
              0.3333333333333333,
              "#9c179e"
             ],
             [
              0.4444444444444444,
              "#bd3786"
             ],
             [
              0.5555555555555556,
              "#d8576b"
             ],
             [
              0.6666666666666666,
              "#ed7953"
             ],
             [
              0.7777777777777778,
              "#fb9f3a"
             ],
             [
              0.8888888888888888,
              "#fdca26"
             ],
             [
              1,
              "#f0f921"
             ]
            ],
            "type": "histogram2d"
           }
          ],
          "histogram2dcontour": [
           {
            "colorbar": {
             "outlinewidth": 0,
             "ticks": ""
            },
            "colorscale": [
             [
              0,
              "#0d0887"
             ],
             [
              0.1111111111111111,
              "#46039f"
             ],
             [
              0.2222222222222222,
              "#7201a8"
             ],
             [
              0.3333333333333333,
              "#9c179e"
             ],
             [
              0.4444444444444444,
              "#bd3786"
             ],
             [
              0.5555555555555556,
              "#d8576b"
             ],
             [
              0.6666666666666666,
              "#ed7953"
             ],
             [
              0.7777777777777778,
              "#fb9f3a"
             ],
             [
              0.8888888888888888,
              "#fdca26"
             ],
             [
              1,
              "#f0f921"
             ]
            ],
            "type": "histogram2dcontour"
           }
          ],
          "mesh3d": [
           {
            "colorbar": {
             "outlinewidth": 0,
             "ticks": ""
            },
            "type": "mesh3d"
           }
          ],
          "parcoords": [
           {
            "line": {
             "colorbar": {
              "outlinewidth": 0,
              "ticks": ""
             }
            },
            "type": "parcoords"
           }
          ],
          "pie": [
           {
            "automargin": true,
            "type": "pie"
           }
          ],
          "scatter": [
           {
            "marker": {
             "colorbar": {
              "outlinewidth": 0,
              "ticks": ""
             }
            },
            "type": "scatter"
           }
          ],
          "scatter3d": [
           {
            "line": {
             "colorbar": {
              "outlinewidth": 0,
              "ticks": ""
             }
            },
            "marker": {
             "colorbar": {
              "outlinewidth": 0,
              "ticks": ""
             }
            },
            "type": "scatter3d"
           }
          ],
          "scattercarpet": [
           {
            "marker": {
             "colorbar": {
              "outlinewidth": 0,
              "ticks": ""
             }
            },
            "type": "scattercarpet"
           }
          ],
          "scattergeo": [
           {
            "marker": {
             "colorbar": {
              "outlinewidth": 0,
              "ticks": ""
             }
            },
            "type": "scattergeo"
           }
          ],
          "scattergl": [
           {
            "marker": {
             "colorbar": {
              "outlinewidth": 0,
              "ticks": ""
             }
            },
            "type": "scattergl"
           }
          ],
          "scattermapbox": [
           {
            "marker": {
             "colorbar": {
              "outlinewidth": 0,
              "ticks": ""
             }
            },
            "type": "scattermapbox"
           }
          ],
          "scatterpolar": [
           {
            "marker": {
             "colorbar": {
              "outlinewidth": 0,
              "ticks": ""
             }
            },
            "type": "scatterpolar"
           }
          ],
          "scatterpolargl": [
           {
            "marker": {
             "colorbar": {
              "outlinewidth": 0,
              "ticks": ""
             }
            },
            "type": "scatterpolargl"
           }
          ],
          "scatterternary": [
           {
            "marker": {
             "colorbar": {
              "outlinewidth": 0,
              "ticks": ""
             }
            },
            "type": "scatterternary"
           }
          ],
          "surface": [
           {
            "colorbar": {
             "outlinewidth": 0,
             "ticks": ""
            },
            "colorscale": [
             [
              0,
              "#0d0887"
             ],
             [
              0.1111111111111111,
              "#46039f"
             ],
             [
              0.2222222222222222,
              "#7201a8"
             ],
             [
              0.3333333333333333,
              "#9c179e"
             ],
             [
              0.4444444444444444,
              "#bd3786"
             ],
             [
              0.5555555555555556,
              "#d8576b"
             ],
             [
              0.6666666666666666,
              "#ed7953"
             ],
             [
              0.7777777777777778,
              "#fb9f3a"
             ],
             [
              0.8888888888888888,
              "#fdca26"
             ],
             [
              1,
              "#f0f921"
             ]
            ],
            "type": "surface"
           }
          ],
          "table": [
           {
            "cells": {
             "fill": {
              "color": "#EBF0F8"
             },
             "line": {
              "color": "white"
             }
            },
            "header": {
             "fill": {
              "color": "#C8D4E3"
             },
             "line": {
              "color": "white"
             }
            },
            "type": "table"
           }
          ]
         },
         "layout": {
          "annotationdefaults": {
           "arrowcolor": "#2a3f5f",
           "arrowhead": 0,
           "arrowwidth": 1
          },
          "autotypenumbers": "strict",
          "coloraxis": {
           "colorbar": {
            "outlinewidth": 0,
            "ticks": ""
           }
          },
          "colorscale": {
           "diverging": [
            [
             0,
             "#8e0152"
            ],
            [
             0.1,
             "#c51b7d"
            ],
            [
             0.2,
             "#de77ae"
            ],
            [
             0.3,
             "#f1b6da"
            ],
            [
             0.4,
             "#fde0ef"
            ],
            [
             0.5,
             "#f7f7f7"
            ],
            [
             0.6,
             "#e6f5d0"
            ],
            [
             0.7,
             "#b8e186"
            ],
            [
             0.8,
             "#7fbc41"
            ],
            [
             0.9,
             "#4d9221"
            ],
            [
             1,
             "#276419"
            ]
           ],
           "sequential": [
            [
             0,
             "#0d0887"
            ],
            [
             0.1111111111111111,
             "#46039f"
            ],
            [
             0.2222222222222222,
             "#7201a8"
            ],
            [
             0.3333333333333333,
             "#9c179e"
            ],
            [
             0.4444444444444444,
             "#bd3786"
            ],
            [
             0.5555555555555556,
             "#d8576b"
            ],
            [
             0.6666666666666666,
             "#ed7953"
            ],
            [
             0.7777777777777778,
             "#fb9f3a"
            ],
            [
             0.8888888888888888,
             "#fdca26"
            ],
            [
             1,
             "#f0f921"
            ]
           ],
           "sequentialminus": [
            [
             0,
             "#0d0887"
            ],
            [
             0.1111111111111111,
             "#46039f"
            ],
            [
             0.2222222222222222,
             "#7201a8"
            ],
            [
             0.3333333333333333,
             "#9c179e"
            ],
            [
             0.4444444444444444,
             "#bd3786"
            ],
            [
             0.5555555555555556,
             "#d8576b"
            ],
            [
             0.6666666666666666,
             "#ed7953"
            ],
            [
             0.7777777777777778,
             "#fb9f3a"
            ],
            [
             0.8888888888888888,
             "#fdca26"
            ],
            [
             1,
             "#f0f921"
            ]
           ]
          },
          "colorway": [
           "#636efa",
           "#EF553B",
           "#00cc96",
           "#ab63fa",
           "#FFA15A",
           "#19d3f3",
           "#FF6692",
           "#B6E880",
           "#FF97FF",
           "#FECB52"
          ],
          "font": {
           "color": "#2a3f5f"
          },
          "geo": {
           "bgcolor": "white",
           "lakecolor": "white",
           "landcolor": "#E5ECF6",
           "showlakes": true,
           "showland": true,
           "subunitcolor": "white"
          },
          "hoverlabel": {
           "align": "left"
          },
          "hovermode": "closest",
          "mapbox": {
           "style": "light"
          },
          "paper_bgcolor": "white",
          "plot_bgcolor": "#E5ECF6",
          "polar": {
           "angularaxis": {
            "gridcolor": "white",
            "linecolor": "white",
            "ticks": ""
           },
           "bgcolor": "#E5ECF6",
           "radialaxis": {
            "gridcolor": "white",
            "linecolor": "white",
            "ticks": ""
           }
          },
          "scene": {
           "xaxis": {
            "backgroundcolor": "#E5ECF6",
            "gridcolor": "white",
            "gridwidth": 2,
            "linecolor": "white",
            "showbackground": true,
            "ticks": "",
            "zerolinecolor": "white"
           },
           "yaxis": {
            "backgroundcolor": "#E5ECF6",
            "gridcolor": "white",
            "gridwidth": 2,
            "linecolor": "white",
            "showbackground": true,
            "ticks": "",
            "zerolinecolor": "white"
           },
           "zaxis": {
            "backgroundcolor": "#E5ECF6",
            "gridcolor": "white",
            "gridwidth": 2,
            "linecolor": "white",
            "showbackground": true,
            "ticks": "",
            "zerolinecolor": "white"
           }
          },
          "shapedefaults": {
           "line": {
            "color": "#2a3f5f"
           }
          },
          "ternary": {
           "aaxis": {
            "gridcolor": "white",
            "linecolor": "white",
            "ticks": ""
           },
           "baxis": {
            "gridcolor": "white",
            "linecolor": "white",
            "ticks": ""
           },
           "bgcolor": "#E5ECF6",
           "caxis": {
            "gridcolor": "white",
            "linecolor": "white",
            "ticks": ""
           }
          },
          "title": {
           "x": 0.05
          },
          "xaxis": {
           "automargin": true,
           "gridcolor": "white",
           "linecolor": "white",
           "ticks": "",
           "title": {
            "standoff": 15
           },
           "zerolinecolor": "white",
           "zerolinewidth": 2
          },
          "yaxis": {
           "automargin": true,
           "gridcolor": "white",
           "linecolor": "white",
           "ticks": "",
           "title": {
            "standoff": 15
           },
           "zerolinecolor": "white",
           "zerolinewidth": 2
          }
         }
        }
       }
      }
     },
     "metadata": {},
     "output_type": "display_data"
    }
   ],
   "source": [
    "fig = px.choropleth(df, locations=\"NOC\",\n",
    "                        color=\"Total\",\n",
    "                        scope=None,\n",
    "                        hover_name=\"Total\",\n",
    "                        animation_frame=\"Year\",\n",
    "                        #title = f\"Geographic map: {chosen_sport} {medal} medals\", \n",
    "                        range_color=[0,df[\"Total\"].quantile(0.9)],\n",
    "                        color_continuous_scale=px.colors.sequential.Plasma)\n",
    "      \n",
    "fig[\"layout\"].pop(\"updatemenus\")\n",
    "fig.show()"
   ]
  },
  {
   "cell_type": "code",
   "execution_count": 5,
   "metadata": {},
   "outputs": [
    {
     "data": {
      "text/html": [
       "<div>\n",
       "<style scoped>\n",
       "    .dataframe tbody tr th:only-of-type {\n",
       "        vertical-align: middle;\n",
       "    }\n",
       "\n",
       "    .dataframe tbody tr th {\n",
       "        vertical-align: top;\n",
       "    }\n",
       "\n",
       "    .dataframe thead th {\n",
       "        text-align: right;\n",
       "    }\n",
       "</style>\n",
       "<table border=\"1\" class=\"dataframe\">\n",
       "  <thead>\n",
       "    <tr style=\"text-align: right;\">\n",
       "      <th></th>\n",
       "      <th>ID</th>\n",
       "      <th>Name</th>\n",
       "      <th>Sex</th>\n",
       "      <th>Age</th>\n",
       "      <th>Height</th>\n",
       "      <th>Weight</th>\n",
       "      <th>Team</th>\n",
       "      <th>NOC</th>\n",
       "      <th>Games</th>\n",
       "      <th>Year</th>\n",
       "      <th>Season</th>\n",
       "      <th>City</th>\n",
       "      <th>Sport</th>\n",
       "      <th>Event</th>\n",
       "      <th>Medal</th>\n",
       "      <th>region</th>\n",
       "      <th>notes</th>\n",
       "      <th>_merge</th>\n",
       "    </tr>\n",
       "  </thead>\n",
       "  <tbody>\n",
       "    <tr>\n",
       "      <th>620</th>\n",
       "      <td>359</td>\n",
       "      <td>Andrey Khakimovich Abduvaliyev</td>\n",
       "      <td>M</td>\n",
       "      <td>26.0</td>\n",
       "      <td>190.0</td>\n",
       "      <td>125.0</td>\n",
       "      <td>Unified Team</td>\n",
       "      <td>EUN</td>\n",
       "      <td>1992 Summer</td>\n",
       "      <td>1992</td>\n",
       "      <td>Summer</td>\n",
       "      <td>Barcelona</td>\n",
       "      <td>Athletics</td>\n",
       "      <td>Athletics Men's Hammer Throw</td>\n",
       "      <td>Gold</td>\n",
       "      <td>Russia</td>\n",
       "      <td>NaN</td>\n",
       "      <td>both</td>\n",
       "    </tr>\n",
       "    <tr>\n",
       "      <th>1972</th>\n",
       "      <td>1090</td>\n",
       "      <td>Inha Mykolavna Afonina</td>\n",
       "      <td>F</td>\n",
       "      <td>22.0</td>\n",
       "      <td>NaN</td>\n",
       "      <td>NaN</td>\n",
       "      <td>Unified Team</td>\n",
       "      <td>EUN</td>\n",
       "      <td>1992 Summer</td>\n",
       "      <td>1992</td>\n",
       "      <td>Summer</td>\n",
       "      <td>Barcelona</td>\n",
       "      <td>Diving</td>\n",
       "      <td>Diving Women's Platform</td>\n",
       "      <td>NaN</td>\n",
       "      <td>Russia</td>\n",
       "      <td>NaN</td>\n",
       "      <td>both</td>\n",
       "    </tr>\n",
       "    <tr>\n",
       "      <th>3067</th>\n",
       "      <td>1713</td>\n",
       "      <td>Artur Vladimirovich Akoyev</td>\n",
       "      <td>M</td>\n",
       "      <td>26.0</td>\n",
       "      <td>NaN</td>\n",
       "      <td>109.0</td>\n",
       "      <td>Unified Team</td>\n",
       "      <td>EUN</td>\n",
       "      <td>1992 Summer</td>\n",
       "      <td>1992</td>\n",
       "      <td>Summer</td>\n",
       "      <td>Barcelona</td>\n",
       "      <td>Weightlifting</td>\n",
       "      <td>Weightlifting Men's Heavyweight II</td>\n",
       "      <td>Silver</td>\n",
       "      <td>Russia</td>\n",
       "      <td>NaN</td>\n",
       "      <td>both</td>\n",
       "    </tr>\n",
       "    <tr>\n",
       "      <th>4839</th>\n",
       "      <td>2764</td>\n",
       "      <td>Magomedbek Daitbekovich Aliyev</td>\n",
       "      <td>M</td>\n",
       "      <td>25.0</td>\n",
       "      <td>NaN</td>\n",
       "      <td>NaN</td>\n",
       "      <td>Unified Team</td>\n",
       "      <td>EUN</td>\n",
       "      <td>1992 Summer</td>\n",
       "      <td>1992</td>\n",
       "      <td>Summer</td>\n",
       "      <td>Barcelona</td>\n",
       "      <td>Judo</td>\n",
       "      <td>Judo Men's Lightweight</td>\n",
       "      <td>NaN</td>\n",
       "      <td>Russia</td>\n",
       "      <td>NaN</td>\n",
       "      <td>both</td>\n",
       "    </tr>\n",
       "    <tr>\n",
       "      <th>4880</th>\n",
       "      <td>2786</td>\n",
       "      <td>Yuliya Yakunovna Allagulova</td>\n",
       "      <td>F</td>\n",
       "      <td>19.0</td>\n",
       "      <td>176.0</td>\n",
       "      <td>54.0</td>\n",
       "      <td>Unified Team</td>\n",
       "      <td>EUN</td>\n",
       "      <td>1992 Winter</td>\n",
       "      <td>1992</td>\n",
       "      <td>Winter</td>\n",
       "      <td>Albertville</td>\n",
       "      <td>Short Track Speed Skating</td>\n",
       "      <td>Short Track Speed Skating Women's 3,000 metres...</td>\n",
       "      <td>Bronze</td>\n",
       "      <td>Russia</td>\n",
       "      <td>NaN</td>\n",
       "      <td>both</td>\n",
       "    </tr>\n",
       "    <tr>\n",
       "      <th>...</th>\n",
       "      <td>...</td>\n",
       "      <td>...</td>\n",
       "      <td>...</td>\n",
       "      <td>...</td>\n",
       "      <td>...</td>\n",
       "      <td>...</td>\n",
       "      <td>...</td>\n",
       "      <td>...</td>\n",
       "      <td>...</td>\n",
       "      <td>...</td>\n",
       "      <td>...</td>\n",
       "      <td>...</td>\n",
       "      <td>...</td>\n",
       "      <td>...</td>\n",
       "      <td>...</td>\n",
       "      <td>...</td>\n",
       "      <td>...</td>\n",
       "      <td>...</td>\n",
       "    </tr>\n",
       "    <tr>\n",
       "      <th>270641</th>\n",
       "      <td>135355</td>\n",
       "      <td>Sergey Mikhaylovich Zubov</td>\n",
       "      <td>M</td>\n",
       "      <td>21.0</td>\n",
       "      <td>186.0</td>\n",
       "      <td>91.0</td>\n",
       "      <td>Unified Team</td>\n",
       "      <td>EUN</td>\n",
       "      <td>1992 Winter</td>\n",
       "      <td>1992</td>\n",
       "      <td>Winter</td>\n",
       "      <td>Albertville</td>\n",
       "      <td>Ice Hockey</td>\n",
       "      <td>Ice Hockey Men's Ice Hockey</td>\n",
       "      <td>Gold</td>\n",
       "      <td>Russia</td>\n",
       "      <td>NaN</td>\n",
       "      <td>both</td>\n",
       "    </tr>\n",
       "    <tr>\n",
       "      <th>270944</th>\n",
       "      <td>135490</td>\n",
       "      <td>Irina Lvovna Zuykova</td>\n",
       "      <td>F</td>\n",
       "      <td>34.0</td>\n",
       "      <td>NaN</td>\n",
       "      <td>NaN</td>\n",
       "      <td>Unified Team</td>\n",
       "      <td>EUN</td>\n",
       "      <td>1992 Summer</td>\n",
       "      <td>1992</td>\n",
       "      <td>Summer</td>\n",
       "      <td>Barcelona</td>\n",
       "      <td>Equestrianism</td>\n",
       "      <td>Equestrianism Mixed Dressage, Individual</td>\n",
       "      <td>NaN</td>\n",
       "      <td>Russia</td>\n",
       "      <td>NaN</td>\n",
       "      <td>both</td>\n",
       "    </tr>\n",
       "    <tr>\n",
       "      <th>270945</th>\n",
       "      <td>135490</td>\n",
       "      <td>Irina Lvovna Zuykova</td>\n",
       "      <td>F</td>\n",
       "      <td>34.0</td>\n",
       "      <td>NaN</td>\n",
       "      <td>NaN</td>\n",
       "      <td>Unified Team</td>\n",
       "      <td>EUN</td>\n",
       "      <td>1992 Summer</td>\n",
       "      <td>1992</td>\n",
       "      <td>Summer</td>\n",
       "      <td>Barcelona</td>\n",
       "      <td>Equestrianism</td>\n",
       "      <td>Equestrianism Mixed Dressage, Team</td>\n",
       "      <td>NaN</td>\n",
       "      <td>Russia</td>\n",
       "      <td>NaN</td>\n",
       "      <td>both</td>\n",
       "    </tr>\n",
       "    <tr>\n",
       "      <th>270975</th>\n",
       "      <td>135502</td>\n",
       "      <td>Nataliya Maratovna \"Natasha\" Zvereva</td>\n",
       "      <td>F</td>\n",
       "      <td>21.0</td>\n",
       "      <td>172.0</td>\n",
       "      <td>60.0</td>\n",
       "      <td>Unified Team</td>\n",
       "      <td>EUN</td>\n",
       "      <td>1992 Summer</td>\n",
       "      <td>1992</td>\n",
       "      <td>Summer</td>\n",
       "      <td>Barcelona</td>\n",
       "      <td>Tennis</td>\n",
       "      <td>Tennis Women's Singles</td>\n",
       "      <td>NaN</td>\n",
       "      <td>Russia</td>\n",
       "      <td>NaN</td>\n",
       "      <td>both</td>\n",
       "    </tr>\n",
       "    <tr>\n",
       "      <th>270976</th>\n",
       "      <td>135502</td>\n",
       "      <td>Nataliya Maratovna \"Natasha\" Zvereva</td>\n",
       "      <td>F</td>\n",
       "      <td>21.0</td>\n",
       "      <td>172.0</td>\n",
       "      <td>60.0</td>\n",
       "      <td>Unified Team</td>\n",
       "      <td>EUN</td>\n",
       "      <td>1992 Summer</td>\n",
       "      <td>1992</td>\n",
       "      <td>Summer</td>\n",
       "      <td>Barcelona</td>\n",
       "      <td>Tennis</td>\n",
       "      <td>Tennis Women's Doubles</td>\n",
       "      <td>Bronze</td>\n",
       "      <td>Russia</td>\n",
       "      <td>NaN</td>\n",
       "      <td>both</td>\n",
       "    </tr>\n",
       "  </tbody>\n",
       "</table>\n",
       "<p>864 rows × 18 columns</p>\n",
       "</div>"
      ],
      "text/plain": [
       "            ID                                  Name Sex   Age  Height  \\\n",
       "620        359        Andrey Khakimovich Abduvaliyev   M  26.0   190.0   \n",
       "1972      1090                Inha Mykolavna Afonina   F  22.0     NaN   \n",
       "3067      1713            Artur Vladimirovich Akoyev   M  26.0     NaN   \n",
       "4839      2764        Magomedbek Daitbekovich Aliyev   M  25.0     NaN   \n",
       "4880      2786           Yuliya Yakunovna Allagulova   F  19.0   176.0   \n",
       "...        ...                                   ...  ..   ...     ...   \n",
       "270641  135355             Sergey Mikhaylovich Zubov   M  21.0   186.0   \n",
       "270944  135490                  Irina Lvovna Zuykova   F  34.0     NaN   \n",
       "270945  135490                  Irina Lvovna Zuykova   F  34.0     NaN   \n",
       "270975  135502  Nataliya Maratovna \"Natasha\" Zvereva   F  21.0   172.0   \n",
       "270976  135502  Nataliya Maratovna \"Natasha\" Zvereva   F  21.0   172.0   \n",
       "\n",
       "        Weight          Team  NOC        Games  Year  Season         City  \\\n",
       "620      125.0  Unified Team  EUN  1992 Summer  1992  Summer    Barcelona   \n",
       "1972       NaN  Unified Team  EUN  1992 Summer  1992  Summer    Barcelona   \n",
       "3067     109.0  Unified Team  EUN  1992 Summer  1992  Summer    Barcelona   \n",
       "4839       NaN  Unified Team  EUN  1992 Summer  1992  Summer    Barcelona   \n",
       "4880      54.0  Unified Team  EUN  1992 Winter  1992  Winter  Albertville   \n",
       "...        ...           ...  ...          ...   ...     ...          ...   \n",
       "270641    91.0  Unified Team  EUN  1992 Winter  1992  Winter  Albertville   \n",
       "270944     NaN  Unified Team  EUN  1992 Summer  1992  Summer    Barcelona   \n",
       "270945     NaN  Unified Team  EUN  1992 Summer  1992  Summer    Barcelona   \n",
       "270975    60.0  Unified Team  EUN  1992 Summer  1992  Summer    Barcelona   \n",
       "270976    60.0  Unified Team  EUN  1992 Summer  1992  Summer    Barcelona   \n",
       "\n",
       "                            Sport  \\\n",
       "620                     Athletics   \n",
       "1972                       Diving   \n",
       "3067                Weightlifting   \n",
       "4839                         Judo   \n",
       "4880    Short Track Speed Skating   \n",
       "...                           ...   \n",
       "270641                 Ice Hockey   \n",
       "270944              Equestrianism   \n",
       "270945              Equestrianism   \n",
       "270975                     Tennis   \n",
       "270976                     Tennis   \n",
       "\n",
       "                                                    Event   Medal  region  \\\n",
       "620                          Athletics Men's Hammer Throw    Gold  Russia   \n",
       "1972                              Diving Women's Platform     NaN  Russia   \n",
       "3067                   Weightlifting Men's Heavyweight II  Silver  Russia   \n",
       "4839                               Judo Men's Lightweight     NaN  Russia   \n",
       "4880    Short Track Speed Skating Women's 3,000 metres...  Bronze  Russia   \n",
       "...                                                   ...     ...     ...   \n",
       "270641                        Ice Hockey Men's Ice Hockey    Gold  Russia   \n",
       "270944           Equestrianism Mixed Dressage, Individual     NaN  Russia   \n",
       "270945                 Equestrianism Mixed Dressage, Team     NaN  Russia   \n",
       "270975                             Tennis Women's Singles     NaN  Russia   \n",
       "270976                             Tennis Women's Doubles  Bronze  Russia   \n",
       "\n",
       "       notes _merge  \n",
       "620      NaN   both  \n",
       "1972     NaN   both  \n",
       "3067     NaN   both  \n",
       "4839     NaN   both  \n",
       "4880     NaN   both  \n",
       "...      ...    ...  \n",
       "270641   NaN   both  \n",
       "270944   NaN   both  \n",
       "270945   NaN   both  \n",
       "270975   NaN   both  \n",
       "270976   NaN   both  \n",
       "\n",
       "[864 rows x 18 columns]"
      ]
     },
     "execution_count": 5,
     "metadata": {},
     "output_type": "execute_result"
    }
   ],
   "source": [
    "athlete_regions[athlete_regions[\"NOC\"] == \"EUN\"]"
   ]
  },
  {
   "cell_type": "code",
   "execution_count": 6,
   "metadata": {},
   "outputs": [
    {
     "data": {
      "text/html": [
       "<div>\n",
       "<style scoped>\n",
       "    .dataframe tbody tr th:only-of-type {\n",
       "        vertical-align: middle;\n",
       "    }\n",
       "\n",
       "    .dataframe tbody tr th {\n",
       "        vertical-align: top;\n",
       "    }\n",
       "\n",
       "    .dataframe thead th {\n",
       "        text-align: right;\n",
       "    }\n",
       "</style>\n",
       "<table border=\"1\" class=\"dataframe\">\n",
       "  <thead>\n",
       "    <tr style=\"text-align: right;\">\n",
       "      <th></th>\n",
       "      <th>Country</th>\n",
       "      <th>NOC</th>\n",
       "      <th>ISO</th>\n",
       "    </tr>\n",
       "  </thead>\n",
       "  <tbody>\n",
       "    <tr>\n",
       "      <th>0</th>\n",
       "      <td>Afghanistan</td>\n",
       "      <td>AFG</td>\n",
       "      <td>AFG</td>\n",
       "    </tr>\n",
       "    <tr>\n",
       "      <th>1</th>\n",
       "      <td>Albania</td>\n",
       "      <td>ALB</td>\n",
       "      <td>ALB</td>\n",
       "    </tr>\n",
       "    <tr>\n",
       "      <th>2</th>\n",
       "      <td>Algeria</td>\n",
       "      <td>ALG</td>\n",
       "      <td>DZA</td>\n",
       "    </tr>\n",
       "    <tr>\n",
       "      <th>3</th>\n",
       "      <td>American Samoa</td>\n",
       "      <td>ASA</td>\n",
       "      <td>ASM</td>\n",
       "    </tr>\n",
       "    <tr>\n",
       "      <th>4</th>\n",
       "      <td>Andorra</td>\n",
       "      <td>AND</td>\n",
       "      <td>AND</td>\n",
       "    </tr>\n",
       "    <tr>\n",
       "      <th>...</th>\n",
       "      <td>...</td>\n",
       "      <td>...</td>\n",
       "      <td>...</td>\n",
       "    </tr>\n",
       "    <tr>\n",
       "      <th>202</th>\n",
       "      <td>Yemen</td>\n",
       "      <td>YEM</td>\n",
       "      <td>YEM</td>\n",
       "    </tr>\n",
       "    <tr>\n",
       "      <th>203</th>\n",
       "      <td>Zambia</td>\n",
       "      <td>ZAM</td>\n",
       "      <td>ZMB</td>\n",
       "    </tr>\n",
       "    <tr>\n",
       "      <th>204</th>\n",
       "      <td>Zimbabwe</td>\n",
       "      <td>ZIM</td>\n",
       "      <td>ZWE</td>\n",
       "    </tr>\n",
       "    <tr>\n",
       "      <th>205</th>\n",
       "      <td>Russia</td>\n",
       "      <td>URS</td>\n",
       "      <td>RUS</td>\n",
       "    </tr>\n",
       "    <tr>\n",
       "      <th>206</th>\n",
       "      <td>Russia</td>\n",
       "      <td>EUN</td>\n",
       "      <td>RUS</td>\n",
       "    </tr>\n",
       "  </tbody>\n",
       "</table>\n",
       "<p>207 rows × 3 columns</p>\n",
       "</div>"
      ],
      "text/plain": [
       "            Country  NOC  ISO\n",
       "0       Afghanistan  AFG  AFG\n",
       "1           Albania  ALB  ALB\n",
       "2           Algeria  ALG  DZA\n",
       "3    American Samoa  ASA  ASM\n",
       "4           Andorra  AND  AND\n",
       "..              ...  ...  ...\n",
       "202           Yemen  YEM  YEM\n",
       "203          Zambia  ZAM  ZMB\n",
       "204        Zimbabwe  ZIM  ZWE\n",
       "205          Russia  URS  RUS\n",
       "206          Russia  EUN  RUS\n",
       "\n",
       "[207 rows x 3 columns]"
      ]
     },
     "execution_count": 6,
     "metadata": {},
     "output_type": "execute_result"
    }
   ],
   "source": [
    "noc_iso"
   ]
  },
  {
   "cell_type": "code",
   "execution_count": 7,
   "metadata": {},
   "outputs": [],
   "source": [
    "import numpy as np\n",
    "import pandas as pd\n",
    "import matplotlib.pyplot as plt\n",
    "import seaborn as sns\n",
    "import plotly_express as px\n",
    "import plotly.graph_objects as go\n",
    "from datetime import datetime\n",
    "from load_data import ShowMeData\n",
    "import analyze_functions as af"
   ]
  },
  {
   "cell_type": "code",
   "execution_count": 8,
   "metadata": {},
   "outputs": [],
   "source": [
    "athlete_regions = pd.read_csv(\"data/athlete_regions.csv\")\n",
    "noc_iso = pd.read_csv(\"data/noc_iso.csv\")\n",
    "noc_iso = noc_iso.iloc[:, 1:]\n",
    "sport =\"Tennis\""
   ]
  },
  {
   "cell_type": "code",
   "execution_count": 9,
   "metadata": {},
   "outputs": [],
   "source": [
    "# Dropdown options\n",
    "# Sport dropdown\n",
    "sport_list = athlete_regions['Sport'].unique().tolist()\n",
    "sport_list.append(\"All Sports\")\n",
    "sport_list.sort()\n",
    "sport_options_dropdown = [\n",
    "    {'label':sport, 'value': sport} \n",
    "    for sport in sport_list\n",
    "]"
   ]
  },
  {
   "cell_type": "code",
   "execution_count": 10,
   "metadata": {},
   "outputs": [],
   "source": [
    "# Data for all sports\n",
    "df = af.count_medals(athlete_regions, \"NOC\", \"Year\")\n",
    "df = df.reset_index()\n",
    "df_iso = df.merge(noc_iso, on=\"NOC\", how=\"left\")\n",
    "df_iso = df_iso.sort_values(by=[\"Year\", \"NOC\"])"
   ]
  },
  {
   "cell_type": "code",
   "execution_count": 11,
   "metadata": {},
   "outputs": [
    {
     "data": {
      "text/html": [
       "<div>\n",
       "<style scoped>\n",
       "    .dataframe tbody tr th:only-of-type {\n",
       "        vertical-align: middle;\n",
       "    }\n",
       "\n",
       "    .dataframe tbody tr th {\n",
       "        vertical-align: top;\n",
       "    }\n",
       "\n",
       "    .dataframe thead th {\n",
       "        text-align: right;\n",
       "    }\n",
       "</style>\n",
       "<table border=\"1\" class=\"dataframe\">\n",
       "  <thead>\n",
       "    <tr style=\"text-align: right;\">\n",
       "      <th>Medal</th>\n",
       "      <th>NOC</th>\n",
       "      <th>Year</th>\n",
       "      <th>Bronze</th>\n",
       "      <th>Gold</th>\n",
       "      <th>Silver</th>\n",
       "      <th>Total</th>\n",
       "    </tr>\n",
       "  </thead>\n",
       "  <tbody>\n",
       "    <tr>\n",
       "      <th>0</th>\n",
       "      <td>URS</td>\n",
       "      <td>1980</td>\n",
       "      <td>133</td>\n",
       "      <td>205</td>\n",
       "      <td>158</td>\n",
       "      <td>496</td>\n",
       "    </tr>\n",
       "    <tr>\n",
       "      <th>1</th>\n",
       "      <td>USA</td>\n",
       "      <td>1904</td>\n",
       "      <td>125</td>\n",
       "      <td>128</td>\n",
       "      <td>141</td>\n",
       "      <td>394</td>\n",
       "    </tr>\n",
       "    <tr>\n",
       "      <th>2</th>\n",
       "      <td>GBR</td>\n",
       "      <td>1908</td>\n",
       "      <td>90</td>\n",
       "      <td>147</td>\n",
       "      <td>131</td>\n",
       "      <td>368</td>\n",
       "    </tr>\n",
       "    <tr>\n",
       "      <th>3</th>\n",
       "      <td>URS</td>\n",
       "      <td>1988</td>\n",
       "      <td>111</td>\n",
       "      <td>174</td>\n",
       "      <td>81</td>\n",
       "      <td>366</td>\n",
       "    </tr>\n",
       "    <tr>\n",
       "      <th>4</th>\n",
       "      <td>USA</td>\n",
       "      <td>1984</td>\n",
       "      <td>50</td>\n",
       "      <td>190</td>\n",
       "      <td>121</td>\n",
       "      <td>361</td>\n",
       "    </tr>\n",
       "  </tbody>\n",
       "</table>\n",
       "</div>"
      ],
      "text/plain": [
       "Medal  NOC  Year  Bronze  Gold  Silver  Total\n",
       "0      URS  1980     133   205     158    496\n",
       "1      USA  1904     125   128     141    394\n",
       "2      GBR  1908      90   147     131    368\n",
       "3      URS  1988     111   174      81    366\n",
       "4      USA  1984      50   190     121    361"
      ]
     },
     "execution_count": 11,
     "metadata": {},
     "output_type": "execute_result"
    }
   ],
   "source": [
    "df.head()"
   ]
  },
  {
   "cell_type": "markdown",
   "metadata": {},
   "source": [
    "    # Data for all sports\n",
    "    if sport==\"All Sports\":\n",
    "        dff = df_iso"
   ]
  },
  {
   "cell_type": "code",
   "execution_count": 12,
   "metadata": {},
   "outputs": [
    {
     "data": {
      "text/html": [
       "<div>\n",
       "<style scoped>\n",
       "    .dataframe tbody tr th:only-of-type {\n",
       "        vertical-align: middle;\n",
       "    }\n",
       "\n",
       "    .dataframe tbody tr th {\n",
       "        vertical-align: top;\n",
       "    }\n",
       "\n",
       "    .dataframe thead th {\n",
       "        text-align: right;\n",
       "    }\n",
       "</style>\n",
       "<table border=\"1\" class=\"dataframe\">\n",
       "  <thead>\n",
       "    <tr style=\"text-align: right;\">\n",
       "      <th></th>\n",
       "      <th>NOC</th>\n",
       "      <th>Year</th>\n",
       "      <th>Bronze</th>\n",
       "      <th>Gold</th>\n",
       "      <th>Silver</th>\n",
       "      <th>Total</th>\n",
       "      <th>Country</th>\n",
       "      <th>ISO</th>\n",
       "    </tr>\n",
       "  </thead>\n",
       "  <tbody>\n",
       "    <tr>\n",
       "      <th>1059</th>\n",
       "      <td>AUS</td>\n",
       "      <td>1896</td>\n",
       "      <td>1</td>\n",
       "      <td>2</td>\n",
       "      <td>0</td>\n",
       "      <td>3</td>\n",
       "      <td>Australia</td>\n",
       "      <td>AUS</td>\n",
       "    </tr>\n",
       "    <tr>\n",
       "      <th>869</th>\n",
       "      <td>AUT</td>\n",
       "      <td>1896</td>\n",
       "      <td>2</td>\n",
       "      <td>2</td>\n",
       "      <td>1</td>\n",
       "      <td>5</td>\n",
       "      <td>Austria</td>\n",
       "      <td>AUT</td>\n",
       "    </tr>\n",
       "    <tr>\n",
       "      <th>852</th>\n",
       "      <td>DEN</td>\n",
       "      <td>1896</td>\n",
       "      <td>3</td>\n",
       "      <td>1</td>\n",
       "      <td>2</td>\n",
       "      <td>6</td>\n",
       "      <td>Denmark</td>\n",
       "      <td>DNK</td>\n",
       "    </tr>\n",
       "    <tr>\n",
       "      <th>696</th>\n",
       "      <td>FRA</td>\n",
       "      <td>1896</td>\n",
       "      <td>2</td>\n",
       "      <td>5</td>\n",
       "      <td>4</td>\n",
       "      <td>11</td>\n",
       "      <td>France</td>\n",
       "      <td>FRA</td>\n",
       "    </tr>\n",
       "    <tr>\n",
       "      <th>751</th>\n",
       "      <td>GBR</td>\n",
       "      <td>1896</td>\n",
       "      <td>3</td>\n",
       "      <td>3</td>\n",
       "      <td>3</td>\n",
       "      <td>9</td>\n",
       "      <td>United Kingdom</td>\n",
       "      <td>GBR</td>\n",
       "    </tr>\n",
       "  </tbody>\n",
       "</table>\n",
       "</div>"
      ],
      "text/plain": [
       "      NOC  Year  Bronze  Gold  Silver  Total         Country  ISO\n",
       "1059  AUS  1896       1     2       0      3       Australia  AUS\n",
       "869   AUT  1896       2     2       1      5         Austria  AUT\n",
       "852   DEN  1896       3     1       2      6         Denmark  DNK\n",
       "696   FRA  1896       2     5       4     11          France  FRA\n",
       "751   GBR  1896       3     3       3      9  United Kingdom  GBR"
      ]
     },
     "execution_count": 12,
     "metadata": {},
     "output_type": "execute_result"
    }
   ],
   "source": [
    "df_iso.head()"
   ]
  },
  {
   "cell_type": "code",
   "execution_count": 13,
   "metadata": {},
   "outputs": [
    {
     "data": {
      "text/html": [
       "<div>\n",
       "<style scoped>\n",
       "    .dataframe tbody tr th:only-of-type {\n",
       "        vertical-align: middle;\n",
       "    }\n",
       "\n",
       "    .dataframe tbody tr th {\n",
       "        vertical-align: top;\n",
       "    }\n",
       "\n",
       "    .dataframe thead th {\n",
       "        text-align: right;\n",
       "    }\n",
       "</style>\n",
       "<table border=\"1\" class=\"dataframe\">\n",
       "  <thead>\n",
       "    <tr style=\"text-align: right;\">\n",
       "      <th></th>\n",
       "      <th>NOC</th>\n",
       "      <th>Year</th>\n",
       "      <th>Bronze</th>\n",
       "      <th>Gold</th>\n",
       "      <th>Silver</th>\n",
       "      <th>Total</th>\n",
       "      <th>Country</th>\n",
       "      <th>ISO</th>\n",
       "    </tr>\n",
       "  </thead>\n",
       "  <tbody>\n",
       "    <tr>\n",
       "      <th>83</th>\n",
       "      <td>AUS</td>\n",
       "      <td>1896</td>\n",
       "      <td>1</td>\n",
       "      <td>0</td>\n",
       "      <td>0</td>\n",
       "      <td>1</td>\n",
       "      <td>Australia</td>\n",
       "      <td>AUS</td>\n",
       "    </tr>\n",
       "    <tr>\n",
       "      <th>33</th>\n",
       "      <td>GBR</td>\n",
       "      <td>1896</td>\n",
       "      <td>1</td>\n",
       "      <td>2</td>\n",
       "      <td>0</td>\n",
       "      <td>3</td>\n",
       "      <td>United Kingdom</td>\n",
       "      <td>GBR</td>\n",
       "    </tr>\n",
       "    <tr>\n",
       "      <th>95</th>\n",
       "      <td>GER</td>\n",
       "      <td>1896</td>\n",
       "      <td>0</td>\n",
       "      <td>1</td>\n",
       "      <td>0</td>\n",
       "      <td>1</td>\n",
       "      <td>Germany</td>\n",
       "      <td>DEU</td>\n",
       "    </tr>\n",
       "    <tr>\n",
       "      <th>19</th>\n",
       "      <td>GRE</td>\n",
       "      <td>1896</td>\n",
       "      <td>1</td>\n",
       "      <td>0</td>\n",
       "      <td>3</td>\n",
       "      <td>4</td>\n",
       "      <td>Greece</td>\n",
       "      <td>GRC</td>\n",
       "    </tr>\n",
       "    <tr>\n",
       "      <th>90</th>\n",
       "      <td>HUN</td>\n",
       "      <td>1896</td>\n",
       "      <td>1</td>\n",
       "      <td>0</td>\n",
       "      <td>0</td>\n",
       "      <td>1</td>\n",
       "      <td>Hungary</td>\n",
       "      <td>HUN</td>\n",
       "    </tr>\n",
       "  </tbody>\n",
       "</table>\n",
       "</div>"
      ],
      "text/plain": [
       "    NOC  Year  Bronze  Gold  Silver  Total         Country  ISO\n",
       "83  AUS  1896       1     0       0      1       Australia  AUS\n",
       "33  GBR  1896       1     2       0      3  United Kingdom  GBR\n",
       "95  GER  1896       0     1       0      1         Germany  DEU\n",
       "19  GRE  1896       1     0       3      4          Greece  GRC\n",
       "90  HUN  1896       1     0       0      1         Hungary  HUN"
      ]
     },
     "execution_count": 13,
     "metadata": {},
     "output_type": "execute_result"
    }
   ],
   "source": [
    "df_sport = athlete_regions[athlete_regions['Sport']==\"Tennis\"]\n",
    "df_sport = af.count_medals(df_sport, \"NOC\", \"Year\")\n",
    "df_sport = df_sport.reset_index()\n",
    "dff = df_sport.merge(noc_iso, on=\"NOC\", how=\"left\")\n",
    "dff = dff.sort_values(by=[\"Year\", \"NOC\"])\n",
    "dff.head()\n"
   ]
  },
  {
   "cell_type": "code",
   "execution_count": 14,
   "metadata": {},
   "outputs": [
    {
     "data": {
      "text/html": [
       "<div>\n",
       "<style scoped>\n",
       "    .dataframe tbody tr th:only-of-type {\n",
       "        vertical-align: middle;\n",
       "    }\n",
       "\n",
       "    .dataframe tbody tr th {\n",
       "        vertical-align: top;\n",
       "    }\n",
       "\n",
       "    .dataframe thead th {\n",
       "        text-align: right;\n",
       "    }\n",
       "</style>\n",
       "<table border=\"1\" class=\"dataframe\">\n",
       "  <thead>\n",
       "    <tr style=\"text-align: right;\">\n",
       "      <th></th>\n",
       "      <th>NOC</th>\n",
       "      <th>Year</th>\n",
       "      <th>Bronze</th>\n",
       "      <th>Gold</th>\n",
       "      <th>Silver</th>\n",
       "      <th>Total</th>\n",
       "      <th>Country</th>\n",
       "      <th>ISO</th>\n",
       "    </tr>\n",
       "  </thead>\n",
       "  <tbody>\n",
       "    <tr>\n",
       "      <th>0</th>\n",
       "      <td>GBR</td>\n",
       "      <td>1908</td>\n",
       "      <td>5</td>\n",
       "      <td>8</td>\n",
       "      <td>7</td>\n",
       "      <td>20</td>\n",
       "      <td>United Kingdom</td>\n",
       "      <td>GBR</td>\n",
       "    </tr>\n",
       "    <tr>\n",
       "      <th>1</th>\n",
       "      <td>GBR</td>\n",
       "      <td>1900</td>\n",
       "      <td>6</td>\n",
       "      <td>6</td>\n",
       "      <td>2</td>\n",
       "      <td>14</td>\n",
       "      <td>United Kingdom</td>\n",
       "      <td>GBR</td>\n",
       "    </tr>\n",
       "    <tr>\n",
       "      <th>2</th>\n",
       "      <td>USA</td>\n",
       "      <td>1904</td>\n",
       "      <td>6</td>\n",
       "      <td>3</td>\n",
       "      <td>3</td>\n",
       "      <td>12</td>\n",
       "      <td>United States</td>\n",
       "      <td>USA</td>\n",
       "    </tr>\n",
       "    <tr>\n",
       "      <th>4</th>\n",
       "      <td>USA</td>\n",
       "      <td>1924</td>\n",
       "      <td>0</td>\n",
       "      <td>8</td>\n",
       "      <td>2</td>\n",
       "      <td>10</td>\n",
       "      <td>United States</td>\n",
       "      <td>USA</td>\n",
       "    </tr>\n",
       "    <tr>\n",
       "      <th>3</th>\n",
       "      <td>GBR</td>\n",
       "      <td>1920</td>\n",
       "      <td>1</td>\n",
       "      <td>4</td>\n",
       "      <td>5</td>\n",
       "      <td>10</td>\n",
       "      <td>United Kingdom</td>\n",
       "      <td>GBR</td>\n",
       "    </tr>\n",
       "    <tr>\n",
       "      <th>5</th>\n",
       "      <td>GRE</td>\n",
       "      <td>1906</td>\n",
       "      <td>3</td>\n",
       "      <td>1</td>\n",
       "      <td>5</td>\n",
       "      <td>9</td>\n",
       "      <td>Greece</td>\n",
       "      <td>GRC</td>\n",
       "    </tr>\n",
       "    <tr>\n",
       "      <th>6</th>\n",
       "      <td>GBR</td>\n",
       "      <td>1912</td>\n",
       "      <td>3</td>\n",
       "      <td>3</td>\n",
       "      <td>3</td>\n",
       "      <td>9</td>\n",
       "      <td>United Kingdom</td>\n",
       "      <td>GBR</td>\n",
       "    </tr>\n",
       "    <tr>\n",
       "      <th>7</th>\n",
       "      <td>FRA</td>\n",
       "      <td>1912</td>\n",
       "      <td>4</td>\n",
       "      <td>4</td>\n",
       "      <td>0</td>\n",
       "      <td>8</td>\n",
       "      <td>France</td>\n",
       "      <td>FRA</td>\n",
       "    </tr>\n",
       "    <tr>\n",
       "      <th>8</th>\n",
       "      <td>USA</td>\n",
       "      <td>2012</td>\n",
       "      <td>2</td>\n",
       "      <td>5</td>\n",
       "      <td>0</td>\n",
       "      <td>7</td>\n",
       "      <td>United States</td>\n",
       "      <td>USA</td>\n",
       "    </tr>\n",
       "    <tr>\n",
       "      <th>9</th>\n",
       "      <td>USA</td>\n",
       "      <td>1988</td>\n",
       "      <td>2</td>\n",
       "      <td>4</td>\n",
       "      <td>1</td>\n",
       "      <td>7</td>\n",
       "      <td>United States</td>\n",
       "      <td>USA</td>\n",
       "    </tr>\n",
       "  </tbody>\n",
       "</table>\n",
       "</div>"
      ],
      "text/plain": [
       "   NOC  Year  Bronze  Gold  Silver  Total         Country  ISO\n",
       "0  GBR  1908       5     8       7     20  United Kingdom  GBR\n",
       "1  GBR  1900       6     6       2     14  United Kingdom  GBR\n",
       "2  USA  1904       6     3       3     12   United States  USA\n",
       "4  USA  1924       0     8       2     10   United States  USA\n",
       "3  GBR  1920       1     4       5     10  United Kingdom  GBR\n",
       "5  GRE  1906       3     1       5      9          Greece  GRC\n",
       "6  GBR  1912       3     3       3      9  United Kingdom  GBR\n",
       "7  FRA  1912       4     4       0      8          France  FRA\n",
       "8  USA  2012       2     5       0      7   United States  USA\n",
       "9  USA  1988       2     4       1      7   United States  USA"
      ]
     },
     "execution_count": 14,
     "metadata": {},
     "output_type": "execute_result"
    }
   ],
   "source": [
    "medal = \"Total\"\n",
    "dff_sort = dff.sort_values(medal, ascending=False)\n",
    "dff_sort = dff_sort.head(10)\n",
    "dff_sort"
   ]
  },
  {
   "cell_type": "code",
   "execution_count": 15,
   "metadata": {},
   "outputs": [
    {
     "data": {
      "application/vnd.plotly.v1+json": {
       "config": {
        "plotlyServerURL": "https://plot.ly"
       },
       "data": [
        {
         "alignmentgroup": "True",
         "hovertemplate": "Country=%{x}<br>Total=%{y}<br>Year=%{marker.color}<extra></extra>",
         "legendgroup": "",
         "marker": {
          "color": [
           1908,
           1900,
           1904,
           1924,
           1920,
           1906,
           1912,
           1912,
           2012,
           1988
          ],
          "coloraxis": "coloraxis",
          "pattern": {
           "shape": ""
          }
         },
         "name": "",
         "offsetgroup": "",
         "orientation": "v",
         "showlegend": false,
         "textposition": "auto",
         "type": "bar",
         "x": [
          "United Kingdom",
          "United Kingdom",
          "United States",
          "United States",
          "United Kingdom",
          "Greece",
          "United Kingdom",
          "France",
          "United States",
          "United States"
         ],
         "xaxis": "x",
         "y": [
          20,
          14,
          12,
          10,
          10,
          9,
          9,
          8,
          7,
          7
         ],
         "yaxis": "y"
        }
       ],
       "layout": {
        "barmode": "group",
        "coloraxis": {
         "colorbar": {
          "title": {
           "text": "Year"
          }
         },
         "colorscale": [
          [
           0,
           "#0d0887"
          ],
          [
           0.1111111111111111,
           "#46039f"
          ],
          [
           0.2222222222222222,
           "#7201a8"
          ],
          [
           0.3333333333333333,
           "#9c179e"
          ],
          [
           0.4444444444444444,
           "#bd3786"
          ],
          [
           0.5555555555555556,
           "#d8576b"
          ],
          [
           0.6666666666666666,
           "#ed7953"
          ],
          [
           0.7777777777777778,
           "#fb9f3a"
          ],
          [
           0.8888888888888888,
           "#fdca26"
          ],
          [
           1,
           "#f0f921"
          ]
         ]
        },
        "legend": {
         "tracegroupgap": 0
        },
        "template": {
         "data": {
          "bar": [
           {
            "error_x": {
             "color": "#2a3f5f"
            },
            "error_y": {
             "color": "#2a3f5f"
            },
            "marker": {
             "line": {
              "color": "#E5ECF6",
              "width": 0.5
             },
             "pattern": {
              "fillmode": "overlay",
              "size": 10,
              "solidity": 0.2
             }
            },
            "type": "bar"
           }
          ],
          "barpolar": [
           {
            "marker": {
             "line": {
              "color": "#E5ECF6",
              "width": 0.5
             },
             "pattern": {
              "fillmode": "overlay",
              "size": 10,
              "solidity": 0.2
             }
            },
            "type": "barpolar"
           }
          ],
          "carpet": [
           {
            "aaxis": {
             "endlinecolor": "#2a3f5f",
             "gridcolor": "white",
             "linecolor": "white",
             "minorgridcolor": "white",
             "startlinecolor": "#2a3f5f"
            },
            "baxis": {
             "endlinecolor": "#2a3f5f",
             "gridcolor": "white",
             "linecolor": "white",
             "minorgridcolor": "white",
             "startlinecolor": "#2a3f5f"
            },
            "type": "carpet"
           }
          ],
          "choropleth": [
           {
            "colorbar": {
             "outlinewidth": 0,
             "ticks": ""
            },
            "type": "choropleth"
           }
          ],
          "contour": [
           {
            "colorbar": {
             "outlinewidth": 0,
             "ticks": ""
            },
            "colorscale": [
             [
              0,
              "#0d0887"
             ],
             [
              0.1111111111111111,
              "#46039f"
             ],
             [
              0.2222222222222222,
              "#7201a8"
             ],
             [
              0.3333333333333333,
              "#9c179e"
             ],
             [
              0.4444444444444444,
              "#bd3786"
             ],
             [
              0.5555555555555556,
              "#d8576b"
             ],
             [
              0.6666666666666666,
              "#ed7953"
             ],
             [
              0.7777777777777778,
              "#fb9f3a"
             ],
             [
              0.8888888888888888,
              "#fdca26"
             ],
             [
              1,
              "#f0f921"
             ]
            ],
            "type": "contour"
           }
          ],
          "contourcarpet": [
           {
            "colorbar": {
             "outlinewidth": 0,
             "ticks": ""
            },
            "type": "contourcarpet"
           }
          ],
          "heatmap": [
           {
            "colorbar": {
             "outlinewidth": 0,
             "ticks": ""
            },
            "colorscale": [
             [
              0,
              "#0d0887"
             ],
             [
              0.1111111111111111,
              "#46039f"
             ],
             [
              0.2222222222222222,
              "#7201a8"
             ],
             [
              0.3333333333333333,
              "#9c179e"
             ],
             [
              0.4444444444444444,
              "#bd3786"
             ],
             [
              0.5555555555555556,
              "#d8576b"
             ],
             [
              0.6666666666666666,
              "#ed7953"
             ],
             [
              0.7777777777777778,
              "#fb9f3a"
             ],
             [
              0.8888888888888888,
              "#fdca26"
             ],
             [
              1,
              "#f0f921"
             ]
            ],
            "type": "heatmap"
           }
          ],
          "heatmapgl": [
           {
            "colorbar": {
             "outlinewidth": 0,
             "ticks": ""
            },
            "colorscale": [
             [
              0,
              "#0d0887"
             ],
             [
              0.1111111111111111,
              "#46039f"
             ],
             [
              0.2222222222222222,
              "#7201a8"
             ],
             [
              0.3333333333333333,
              "#9c179e"
             ],
             [
              0.4444444444444444,
              "#bd3786"
             ],
             [
              0.5555555555555556,
              "#d8576b"
             ],
             [
              0.6666666666666666,
              "#ed7953"
             ],
             [
              0.7777777777777778,
              "#fb9f3a"
             ],
             [
              0.8888888888888888,
              "#fdca26"
             ],
             [
              1,
              "#f0f921"
             ]
            ],
            "type": "heatmapgl"
           }
          ],
          "histogram": [
           {
            "marker": {
             "pattern": {
              "fillmode": "overlay",
              "size": 10,
              "solidity": 0.2
             }
            },
            "type": "histogram"
           }
          ],
          "histogram2d": [
           {
            "colorbar": {
             "outlinewidth": 0,
             "ticks": ""
            },
            "colorscale": [
             [
              0,
              "#0d0887"
             ],
             [
              0.1111111111111111,
              "#46039f"
             ],
             [
              0.2222222222222222,
              "#7201a8"
             ],
             [
              0.3333333333333333,
              "#9c179e"
             ],
             [
              0.4444444444444444,
              "#bd3786"
             ],
             [
              0.5555555555555556,
              "#d8576b"
             ],
             [
              0.6666666666666666,
              "#ed7953"
             ],
             [
              0.7777777777777778,
              "#fb9f3a"
             ],
             [
              0.8888888888888888,
              "#fdca26"
             ],
             [
              1,
              "#f0f921"
             ]
            ],
            "type": "histogram2d"
           }
          ],
          "histogram2dcontour": [
           {
            "colorbar": {
             "outlinewidth": 0,
             "ticks": ""
            },
            "colorscale": [
             [
              0,
              "#0d0887"
             ],
             [
              0.1111111111111111,
              "#46039f"
             ],
             [
              0.2222222222222222,
              "#7201a8"
             ],
             [
              0.3333333333333333,
              "#9c179e"
             ],
             [
              0.4444444444444444,
              "#bd3786"
             ],
             [
              0.5555555555555556,
              "#d8576b"
             ],
             [
              0.6666666666666666,
              "#ed7953"
             ],
             [
              0.7777777777777778,
              "#fb9f3a"
             ],
             [
              0.8888888888888888,
              "#fdca26"
             ],
             [
              1,
              "#f0f921"
             ]
            ],
            "type": "histogram2dcontour"
           }
          ],
          "mesh3d": [
           {
            "colorbar": {
             "outlinewidth": 0,
             "ticks": ""
            },
            "type": "mesh3d"
           }
          ],
          "parcoords": [
           {
            "line": {
             "colorbar": {
              "outlinewidth": 0,
              "ticks": ""
             }
            },
            "type": "parcoords"
           }
          ],
          "pie": [
           {
            "automargin": true,
            "type": "pie"
           }
          ],
          "scatter": [
           {
            "marker": {
             "colorbar": {
              "outlinewidth": 0,
              "ticks": ""
             }
            },
            "type": "scatter"
           }
          ],
          "scatter3d": [
           {
            "line": {
             "colorbar": {
              "outlinewidth": 0,
              "ticks": ""
             }
            },
            "marker": {
             "colorbar": {
              "outlinewidth": 0,
              "ticks": ""
             }
            },
            "type": "scatter3d"
           }
          ],
          "scattercarpet": [
           {
            "marker": {
             "colorbar": {
              "outlinewidth": 0,
              "ticks": ""
             }
            },
            "type": "scattercarpet"
           }
          ],
          "scattergeo": [
           {
            "marker": {
             "colorbar": {
              "outlinewidth": 0,
              "ticks": ""
             }
            },
            "type": "scattergeo"
           }
          ],
          "scattergl": [
           {
            "marker": {
             "colorbar": {
              "outlinewidth": 0,
              "ticks": ""
             }
            },
            "type": "scattergl"
           }
          ],
          "scattermapbox": [
           {
            "marker": {
             "colorbar": {
              "outlinewidth": 0,
              "ticks": ""
             }
            },
            "type": "scattermapbox"
           }
          ],
          "scatterpolar": [
           {
            "marker": {
             "colorbar": {
              "outlinewidth": 0,
              "ticks": ""
             }
            },
            "type": "scatterpolar"
           }
          ],
          "scatterpolargl": [
           {
            "marker": {
             "colorbar": {
              "outlinewidth": 0,
              "ticks": ""
             }
            },
            "type": "scatterpolargl"
           }
          ],
          "scatterternary": [
           {
            "marker": {
             "colorbar": {
              "outlinewidth": 0,
              "ticks": ""
             }
            },
            "type": "scatterternary"
           }
          ],
          "surface": [
           {
            "colorbar": {
             "outlinewidth": 0,
             "ticks": ""
            },
            "colorscale": [
             [
              0,
              "#0d0887"
             ],
             [
              0.1111111111111111,
              "#46039f"
             ],
             [
              0.2222222222222222,
              "#7201a8"
             ],
             [
              0.3333333333333333,
              "#9c179e"
             ],
             [
              0.4444444444444444,
              "#bd3786"
             ],
             [
              0.5555555555555556,
              "#d8576b"
             ],
             [
              0.6666666666666666,
              "#ed7953"
             ],
             [
              0.7777777777777778,
              "#fb9f3a"
             ],
             [
              0.8888888888888888,
              "#fdca26"
             ],
             [
              1,
              "#f0f921"
             ]
            ],
            "type": "surface"
           }
          ],
          "table": [
           {
            "cells": {
             "fill": {
              "color": "#EBF0F8"
             },
             "line": {
              "color": "white"
             }
            },
            "header": {
             "fill": {
              "color": "#C8D4E3"
             },
             "line": {
              "color": "white"
             }
            },
            "type": "table"
           }
          ]
         },
         "layout": {
          "annotationdefaults": {
           "arrowcolor": "#2a3f5f",
           "arrowhead": 0,
           "arrowwidth": 1
          },
          "autotypenumbers": "strict",
          "coloraxis": {
           "colorbar": {
            "outlinewidth": 0,
            "ticks": ""
           }
          },
          "colorscale": {
           "diverging": [
            [
             0,
             "#8e0152"
            ],
            [
             0.1,
             "#c51b7d"
            ],
            [
             0.2,
             "#de77ae"
            ],
            [
             0.3,
             "#f1b6da"
            ],
            [
             0.4,
             "#fde0ef"
            ],
            [
             0.5,
             "#f7f7f7"
            ],
            [
             0.6,
             "#e6f5d0"
            ],
            [
             0.7,
             "#b8e186"
            ],
            [
             0.8,
             "#7fbc41"
            ],
            [
             0.9,
             "#4d9221"
            ],
            [
             1,
             "#276419"
            ]
           ],
           "sequential": [
            [
             0,
             "#0d0887"
            ],
            [
             0.1111111111111111,
             "#46039f"
            ],
            [
             0.2222222222222222,
             "#7201a8"
            ],
            [
             0.3333333333333333,
             "#9c179e"
            ],
            [
             0.4444444444444444,
             "#bd3786"
            ],
            [
             0.5555555555555556,
             "#d8576b"
            ],
            [
             0.6666666666666666,
             "#ed7953"
            ],
            [
             0.7777777777777778,
             "#fb9f3a"
            ],
            [
             0.8888888888888888,
             "#fdca26"
            ],
            [
             1,
             "#f0f921"
            ]
           ],
           "sequentialminus": [
            [
             0,
             "#0d0887"
            ],
            [
             0.1111111111111111,
             "#46039f"
            ],
            [
             0.2222222222222222,
             "#7201a8"
            ],
            [
             0.3333333333333333,
             "#9c179e"
            ],
            [
             0.4444444444444444,
             "#bd3786"
            ],
            [
             0.5555555555555556,
             "#d8576b"
            ],
            [
             0.6666666666666666,
             "#ed7953"
            ],
            [
             0.7777777777777778,
             "#fb9f3a"
            ],
            [
             0.8888888888888888,
             "#fdca26"
            ],
            [
             1,
             "#f0f921"
            ]
           ]
          },
          "colorway": [
           "#636efa",
           "#EF553B",
           "#00cc96",
           "#ab63fa",
           "#FFA15A",
           "#19d3f3",
           "#FF6692",
           "#B6E880",
           "#FF97FF",
           "#FECB52"
          ],
          "font": {
           "color": "#2a3f5f"
          },
          "geo": {
           "bgcolor": "white",
           "lakecolor": "white",
           "landcolor": "#E5ECF6",
           "showlakes": true,
           "showland": true,
           "subunitcolor": "white"
          },
          "hoverlabel": {
           "align": "left"
          },
          "hovermode": "closest",
          "mapbox": {
           "style": "light"
          },
          "paper_bgcolor": "white",
          "plot_bgcolor": "#E5ECF6",
          "polar": {
           "angularaxis": {
            "gridcolor": "white",
            "linecolor": "white",
            "ticks": ""
           },
           "bgcolor": "#E5ECF6",
           "radialaxis": {
            "gridcolor": "white",
            "linecolor": "white",
            "ticks": ""
           }
          },
          "scene": {
           "xaxis": {
            "backgroundcolor": "#E5ECF6",
            "gridcolor": "white",
            "gridwidth": 2,
            "linecolor": "white",
            "showbackground": true,
            "ticks": "",
            "zerolinecolor": "white"
           },
           "yaxis": {
            "backgroundcolor": "#E5ECF6",
            "gridcolor": "white",
            "gridwidth": 2,
            "linecolor": "white",
            "showbackground": true,
            "ticks": "",
            "zerolinecolor": "white"
           },
           "zaxis": {
            "backgroundcolor": "#E5ECF6",
            "gridcolor": "white",
            "gridwidth": 2,
            "linecolor": "white",
            "showbackground": true,
            "ticks": "",
            "zerolinecolor": "white"
           }
          },
          "shapedefaults": {
           "line": {
            "color": "#2a3f5f"
           }
          },
          "ternary": {
           "aaxis": {
            "gridcolor": "white",
            "linecolor": "white",
            "ticks": ""
           },
           "baxis": {
            "gridcolor": "white",
            "linecolor": "white",
            "ticks": ""
           },
           "bgcolor": "#E5ECF6",
           "caxis": {
            "gridcolor": "white",
            "linecolor": "white",
            "ticks": ""
           }
          },
          "title": {
           "x": 0.05
          },
          "xaxis": {
           "automargin": true,
           "gridcolor": "white",
           "linecolor": "white",
           "ticks": "",
           "title": {
            "standoff": 15
           },
           "zerolinecolor": "white",
           "zerolinewidth": 2
          },
          "yaxis": {
           "automargin": true,
           "gridcolor": "white",
           "linecolor": "white",
           "ticks": "",
           "title": {
            "standoff": 15
           },
           "zerolinecolor": "white",
           "zerolinewidth": 2
          }
         }
        },
        "title": {
         "text": "Hightlights in chosen_sport: top 10 {medal} medals"
        },
        "xaxis": {
         "anchor": "y",
         "domain": [
          0,
          1
         ],
         "tickangle": 45,
         "title": {
          "text": "Country"
         }
        },
        "yaxis": {
         "anchor": "x",
         "domain": [
          0,
          1
         ],
         "title": {
          "text": "Total"
         }
        }
       }
      }
     },
     "metadata": {},
     "output_type": "display_data"
    }
   ],
   "source": [
    "fig2 = px.bar(dff_sort, x=dff_sort[\"Country\"], y=medal, color=\"Year\",\n",
    "    title=\"Hightlights in chosen_sport: top 10 {medal} medals\",\n",
    "    labels={\"value\":\"Number of medals\", \"variable\":\"Country\"}\n",
    "    )\n",
    "fig2.update_layout(barmode='group', xaxis_tickangle=45)\n",
    "fig2.show()"
   ]
  },
  {
   "cell_type": "code",
   "execution_count": 16,
   "metadata": {},
   "outputs": [
    {
     "data": {
      "text/plain": [
       "<bound method NDFrame.head of    NOC  Year  Bronze  Gold  Silver  Total         Country  ISO\n",
       "0  URS  1980     133   205     158    496          Russia  RUS\n",
       "1  USA  1904     125   128     141    394   United States  USA\n",
       "2  GBR  1908      90   147     131    368  United Kingdom  GBR\n",
       "3  URS  1988     111   174      81    366          Russia  RUS\n",
       "4  USA  1984      50   190     121    361   United States  USA\n",
       "5  URS  1976      88   152     102    342          Russia  RUS\n",
       "6  USA  2008      80   127     110    317   United States  USA\n",
       "7  GDR  1980      73   131      99    303             NaN  NaN\n",
       "8  EUN  1992      81   127      71    279          Russia  RUS\n",
       "9  USA  2016      71   139      54    264   United States  USA>"
      ]
     },
     "execution_count": 16,
     "metadata": {},
     "output_type": "execute_result"
    }
   ],
   "source": [
    "dff1 = df_iso.sort_values(\"Total\", ascending=False)\n",
    "dff1 = dff1.head(10)\n",
    "dff1.head"
   ]
  },
  {
   "cell_type": "code",
   "execution_count": 17,
   "metadata": {},
   "outputs": [
    {
     "data": {
      "application/vnd.plotly.v1+json": {
       "config": {
        "plotlyServerURL": "https://plot.ly"
       },
       "data": [
        {
         "alignmentgroup": "True",
         "hovertemplate": "Country=%{x}<br>Total=%{y}<br>Year=%{marker.color}<extra></extra>",
         "legendgroup": "",
         "marker": {
          "color": [
           1980,
           1904,
           1908,
           1988,
           1984,
           1976,
           2008,
           1980,
           1992,
           2016
          ],
          "coloraxis": "coloraxis",
          "pattern": {
           "shape": ""
          }
         },
         "name": "",
         "offsetgroup": "",
         "orientation": "v",
         "showlegend": false,
         "textposition": "auto",
         "type": "bar",
         "x": [
          "Russia",
          "United States",
          "United Kingdom",
          "Russia",
          "United States",
          "Russia",
          "United States",
          null,
          "Russia",
          "United States"
         ],
         "xaxis": "x",
         "y": [
          496,
          394,
          368,
          366,
          361,
          342,
          317,
          303,
          279,
          264
         ],
         "yaxis": "y"
        }
       ],
       "layout": {
        "barmode": "group",
        "coloraxis": {
         "colorbar": {
          "title": {
           "text": "Year"
          }
         },
         "colorscale": [
          [
           0,
           "#0d0887"
          ],
          [
           0.1111111111111111,
           "#46039f"
          ],
          [
           0.2222222222222222,
           "#7201a8"
          ],
          [
           0.3333333333333333,
           "#9c179e"
          ],
          [
           0.4444444444444444,
           "#bd3786"
          ],
          [
           0.5555555555555556,
           "#d8576b"
          ],
          [
           0.6666666666666666,
           "#ed7953"
          ],
          [
           0.7777777777777778,
           "#fb9f3a"
          ],
          [
           0.8888888888888888,
           "#fdca26"
          ],
          [
           1,
           "#f0f921"
          ]
         ]
        },
        "legend": {
         "tracegroupgap": 0
        },
        "template": {
         "data": {
          "bar": [
           {
            "error_x": {
             "color": "#2a3f5f"
            },
            "error_y": {
             "color": "#2a3f5f"
            },
            "marker": {
             "line": {
              "color": "#E5ECF6",
              "width": 0.5
             },
             "pattern": {
              "fillmode": "overlay",
              "size": 10,
              "solidity": 0.2
             }
            },
            "type": "bar"
           }
          ],
          "barpolar": [
           {
            "marker": {
             "line": {
              "color": "#E5ECF6",
              "width": 0.5
             },
             "pattern": {
              "fillmode": "overlay",
              "size": 10,
              "solidity": 0.2
             }
            },
            "type": "barpolar"
           }
          ],
          "carpet": [
           {
            "aaxis": {
             "endlinecolor": "#2a3f5f",
             "gridcolor": "white",
             "linecolor": "white",
             "minorgridcolor": "white",
             "startlinecolor": "#2a3f5f"
            },
            "baxis": {
             "endlinecolor": "#2a3f5f",
             "gridcolor": "white",
             "linecolor": "white",
             "minorgridcolor": "white",
             "startlinecolor": "#2a3f5f"
            },
            "type": "carpet"
           }
          ],
          "choropleth": [
           {
            "colorbar": {
             "outlinewidth": 0,
             "ticks": ""
            },
            "type": "choropleth"
           }
          ],
          "contour": [
           {
            "colorbar": {
             "outlinewidth": 0,
             "ticks": ""
            },
            "colorscale": [
             [
              0,
              "#0d0887"
             ],
             [
              0.1111111111111111,
              "#46039f"
             ],
             [
              0.2222222222222222,
              "#7201a8"
             ],
             [
              0.3333333333333333,
              "#9c179e"
             ],
             [
              0.4444444444444444,
              "#bd3786"
             ],
             [
              0.5555555555555556,
              "#d8576b"
             ],
             [
              0.6666666666666666,
              "#ed7953"
             ],
             [
              0.7777777777777778,
              "#fb9f3a"
             ],
             [
              0.8888888888888888,
              "#fdca26"
             ],
             [
              1,
              "#f0f921"
             ]
            ],
            "type": "contour"
           }
          ],
          "contourcarpet": [
           {
            "colorbar": {
             "outlinewidth": 0,
             "ticks": ""
            },
            "type": "contourcarpet"
           }
          ],
          "heatmap": [
           {
            "colorbar": {
             "outlinewidth": 0,
             "ticks": ""
            },
            "colorscale": [
             [
              0,
              "#0d0887"
             ],
             [
              0.1111111111111111,
              "#46039f"
             ],
             [
              0.2222222222222222,
              "#7201a8"
             ],
             [
              0.3333333333333333,
              "#9c179e"
             ],
             [
              0.4444444444444444,
              "#bd3786"
             ],
             [
              0.5555555555555556,
              "#d8576b"
             ],
             [
              0.6666666666666666,
              "#ed7953"
             ],
             [
              0.7777777777777778,
              "#fb9f3a"
             ],
             [
              0.8888888888888888,
              "#fdca26"
             ],
             [
              1,
              "#f0f921"
             ]
            ],
            "type": "heatmap"
           }
          ],
          "heatmapgl": [
           {
            "colorbar": {
             "outlinewidth": 0,
             "ticks": ""
            },
            "colorscale": [
             [
              0,
              "#0d0887"
             ],
             [
              0.1111111111111111,
              "#46039f"
             ],
             [
              0.2222222222222222,
              "#7201a8"
             ],
             [
              0.3333333333333333,
              "#9c179e"
             ],
             [
              0.4444444444444444,
              "#bd3786"
             ],
             [
              0.5555555555555556,
              "#d8576b"
             ],
             [
              0.6666666666666666,
              "#ed7953"
             ],
             [
              0.7777777777777778,
              "#fb9f3a"
             ],
             [
              0.8888888888888888,
              "#fdca26"
             ],
             [
              1,
              "#f0f921"
             ]
            ],
            "type": "heatmapgl"
           }
          ],
          "histogram": [
           {
            "marker": {
             "pattern": {
              "fillmode": "overlay",
              "size": 10,
              "solidity": 0.2
             }
            },
            "type": "histogram"
           }
          ],
          "histogram2d": [
           {
            "colorbar": {
             "outlinewidth": 0,
             "ticks": ""
            },
            "colorscale": [
             [
              0,
              "#0d0887"
             ],
             [
              0.1111111111111111,
              "#46039f"
             ],
             [
              0.2222222222222222,
              "#7201a8"
             ],
             [
              0.3333333333333333,
              "#9c179e"
             ],
             [
              0.4444444444444444,
              "#bd3786"
             ],
             [
              0.5555555555555556,
              "#d8576b"
             ],
             [
              0.6666666666666666,
              "#ed7953"
             ],
             [
              0.7777777777777778,
              "#fb9f3a"
             ],
             [
              0.8888888888888888,
              "#fdca26"
             ],
             [
              1,
              "#f0f921"
             ]
            ],
            "type": "histogram2d"
           }
          ],
          "histogram2dcontour": [
           {
            "colorbar": {
             "outlinewidth": 0,
             "ticks": ""
            },
            "colorscale": [
             [
              0,
              "#0d0887"
             ],
             [
              0.1111111111111111,
              "#46039f"
             ],
             [
              0.2222222222222222,
              "#7201a8"
             ],
             [
              0.3333333333333333,
              "#9c179e"
             ],
             [
              0.4444444444444444,
              "#bd3786"
             ],
             [
              0.5555555555555556,
              "#d8576b"
             ],
             [
              0.6666666666666666,
              "#ed7953"
             ],
             [
              0.7777777777777778,
              "#fb9f3a"
             ],
             [
              0.8888888888888888,
              "#fdca26"
             ],
             [
              1,
              "#f0f921"
             ]
            ],
            "type": "histogram2dcontour"
           }
          ],
          "mesh3d": [
           {
            "colorbar": {
             "outlinewidth": 0,
             "ticks": ""
            },
            "type": "mesh3d"
           }
          ],
          "parcoords": [
           {
            "line": {
             "colorbar": {
              "outlinewidth": 0,
              "ticks": ""
             }
            },
            "type": "parcoords"
           }
          ],
          "pie": [
           {
            "automargin": true,
            "type": "pie"
           }
          ],
          "scatter": [
           {
            "marker": {
             "colorbar": {
              "outlinewidth": 0,
              "ticks": ""
             }
            },
            "type": "scatter"
           }
          ],
          "scatter3d": [
           {
            "line": {
             "colorbar": {
              "outlinewidth": 0,
              "ticks": ""
             }
            },
            "marker": {
             "colorbar": {
              "outlinewidth": 0,
              "ticks": ""
             }
            },
            "type": "scatter3d"
           }
          ],
          "scattercarpet": [
           {
            "marker": {
             "colorbar": {
              "outlinewidth": 0,
              "ticks": ""
             }
            },
            "type": "scattercarpet"
           }
          ],
          "scattergeo": [
           {
            "marker": {
             "colorbar": {
              "outlinewidth": 0,
              "ticks": ""
             }
            },
            "type": "scattergeo"
           }
          ],
          "scattergl": [
           {
            "marker": {
             "colorbar": {
              "outlinewidth": 0,
              "ticks": ""
             }
            },
            "type": "scattergl"
           }
          ],
          "scattermapbox": [
           {
            "marker": {
             "colorbar": {
              "outlinewidth": 0,
              "ticks": ""
             }
            },
            "type": "scattermapbox"
           }
          ],
          "scatterpolar": [
           {
            "marker": {
             "colorbar": {
              "outlinewidth": 0,
              "ticks": ""
             }
            },
            "type": "scatterpolar"
           }
          ],
          "scatterpolargl": [
           {
            "marker": {
             "colorbar": {
              "outlinewidth": 0,
              "ticks": ""
             }
            },
            "type": "scatterpolargl"
           }
          ],
          "scatterternary": [
           {
            "marker": {
             "colorbar": {
              "outlinewidth": 0,
              "ticks": ""
             }
            },
            "type": "scatterternary"
           }
          ],
          "surface": [
           {
            "colorbar": {
             "outlinewidth": 0,
             "ticks": ""
            },
            "colorscale": [
             [
              0,
              "#0d0887"
             ],
             [
              0.1111111111111111,
              "#46039f"
             ],
             [
              0.2222222222222222,
              "#7201a8"
             ],
             [
              0.3333333333333333,
              "#9c179e"
             ],
             [
              0.4444444444444444,
              "#bd3786"
             ],
             [
              0.5555555555555556,
              "#d8576b"
             ],
             [
              0.6666666666666666,
              "#ed7953"
             ],
             [
              0.7777777777777778,
              "#fb9f3a"
             ],
             [
              0.8888888888888888,
              "#fdca26"
             ],
             [
              1,
              "#f0f921"
             ]
            ],
            "type": "surface"
           }
          ],
          "table": [
           {
            "cells": {
             "fill": {
              "color": "#EBF0F8"
             },
             "line": {
              "color": "white"
             }
            },
            "header": {
             "fill": {
              "color": "#C8D4E3"
             },
             "line": {
              "color": "white"
             }
            },
            "type": "table"
           }
          ]
         },
         "layout": {
          "annotationdefaults": {
           "arrowcolor": "#2a3f5f",
           "arrowhead": 0,
           "arrowwidth": 1
          },
          "autotypenumbers": "strict",
          "coloraxis": {
           "colorbar": {
            "outlinewidth": 0,
            "ticks": ""
           }
          },
          "colorscale": {
           "diverging": [
            [
             0,
             "#8e0152"
            ],
            [
             0.1,
             "#c51b7d"
            ],
            [
             0.2,
             "#de77ae"
            ],
            [
             0.3,
             "#f1b6da"
            ],
            [
             0.4,
             "#fde0ef"
            ],
            [
             0.5,
             "#f7f7f7"
            ],
            [
             0.6,
             "#e6f5d0"
            ],
            [
             0.7,
             "#b8e186"
            ],
            [
             0.8,
             "#7fbc41"
            ],
            [
             0.9,
             "#4d9221"
            ],
            [
             1,
             "#276419"
            ]
           ],
           "sequential": [
            [
             0,
             "#0d0887"
            ],
            [
             0.1111111111111111,
             "#46039f"
            ],
            [
             0.2222222222222222,
             "#7201a8"
            ],
            [
             0.3333333333333333,
             "#9c179e"
            ],
            [
             0.4444444444444444,
             "#bd3786"
            ],
            [
             0.5555555555555556,
             "#d8576b"
            ],
            [
             0.6666666666666666,
             "#ed7953"
            ],
            [
             0.7777777777777778,
             "#fb9f3a"
            ],
            [
             0.8888888888888888,
             "#fdca26"
            ],
            [
             1,
             "#f0f921"
            ]
           ],
           "sequentialminus": [
            [
             0,
             "#0d0887"
            ],
            [
             0.1111111111111111,
             "#46039f"
            ],
            [
             0.2222222222222222,
             "#7201a8"
            ],
            [
             0.3333333333333333,
             "#9c179e"
            ],
            [
             0.4444444444444444,
             "#bd3786"
            ],
            [
             0.5555555555555556,
             "#d8576b"
            ],
            [
             0.6666666666666666,
             "#ed7953"
            ],
            [
             0.7777777777777778,
             "#fb9f3a"
            ],
            [
             0.8888888888888888,
             "#fdca26"
            ],
            [
             1,
             "#f0f921"
            ]
           ]
          },
          "colorway": [
           "#636efa",
           "#EF553B",
           "#00cc96",
           "#ab63fa",
           "#FFA15A",
           "#19d3f3",
           "#FF6692",
           "#B6E880",
           "#FF97FF",
           "#FECB52"
          ],
          "font": {
           "color": "#2a3f5f"
          },
          "geo": {
           "bgcolor": "white",
           "lakecolor": "white",
           "landcolor": "#E5ECF6",
           "showlakes": true,
           "showland": true,
           "subunitcolor": "white"
          },
          "hoverlabel": {
           "align": "left"
          },
          "hovermode": "closest",
          "mapbox": {
           "style": "light"
          },
          "paper_bgcolor": "white",
          "plot_bgcolor": "#E5ECF6",
          "polar": {
           "angularaxis": {
            "gridcolor": "white",
            "linecolor": "white",
            "ticks": ""
           },
           "bgcolor": "#E5ECF6",
           "radialaxis": {
            "gridcolor": "white",
            "linecolor": "white",
            "ticks": ""
           }
          },
          "scene": {
           "xaxis": {
            "backgroundcolor": "#E5ECF6",
            "gridcolor": "white",
            "gridwidth": 2,
            "linecolor": "white",
            "showbackground": true,
            "ticks": "",
            "zerolinecolor": "white"
           },
           "yaxis": {
            "backgroundcolor": "#E5ECF6",
            "gridcolor": "white",
            "gridwidth": 2,
            "linecolor": "white",
            "showbackground": true,
            "ticks": "",
            "zerolinecolor": "white"
           },
           "zaxis": {
            "backgroundcolor": "#E5ECF6",
            "gridcolor": "white",
            "gridwidth": 2,
            "linecolor": "white",
            "showbackground": true,
            "ticks": "",
            "zerolinecolor": "white"
           }
          },
          "shapedefaults": {
           "line": {
            "color": "#2a3f5f"
           }
          },
          "ternary": {
           "aaxis": {
            "gridcolor": "white",
            "linecolor": "white",
            "ticks": ""
           },
           "baxis": {
            "gridcolor": "white",
            "linecolor": "white",
            "ticks": ""
           },
           "bgcolor": "#E5ECF6",
           "caxis": {
            "gridcolor": "white",
            "linecolor": "white",
            "ticks": ""
           }
          },
          "title": {
           "x": 0.05
          },
          "xaxis": {
           "automargin": true,
           "gridcolor": "white",
           "linecolor": "white",
           "ticks": "",
           "title": {
            "standoff": 15
           },
           "zerolinecolor": "white",
           "zerolinewidth": 2
          },
          "yaxis": {
           "automargin": true,
           "gridcolor": "white",
           "linecolor": "white",
           "ticks": "",
           "title": {
            "standoff": 15
           },
           "zerolinecolor": "white",
           "zerolinewidth": 2
          }
         }
        },
        "title": {
         "text": "Hightlights in chosen_sport: top 10 {medal} medals"
        },
        "xaxis": {
         "anchor": "y",
         "domain": [
          0,
          1
         ],
         "tickangle": 45,
         "title": {
          "text": "Country"
         }
        },
        "yaxis": {
         "anchor": "x",
         "domain": [
          0,
          1
         ],
         "title": {
          "text": "Total"
         }
        }
       }
      }
     },
     "metadata": {},
     "output_type": "display_data"
    }
   ],
   "source": [
    "fig = px.bar(dff1, x=\"Country\", y=\"Total\", color=\"Year\",\n",
    "    title=\"Hightlights in chosen_sport: top 10 {medal} medals\",\n",
    "    labels={\"value\":\"Number of medals\", \"variable\":\"Country\"}\n",
    "    )\n",
    "fig.update_layout(barmode='group', xaxis_tickangle=45)\n",
    "fig.show()"
   ]
  },
  {
   "cell_type": "code",
   "execution_count": null,
   "metadata": {},
   "outputs": [],
   "source": []
  },
  {
   "cell_type": "code",
   "execution_count": 18,
   "metadata": {},
   "outputs": [
    {
     "data": {
      "text/html": [
       "<div>\n",
       "<style scoped>\n",
       "    .dataframe tbody tr th:only-of-type {\n",
       "        vertical-align: middle;\n",
       "    }\n",
       "\n",
       "    .dataframe tbody tr th {\n",
       "        vertical-align: top;\n",
       "    }\n",
       "\n",
       "    .dataframe thead th {\n",
       "        text-align: right;\n",
       "    }\n",
       "</style>\n",
       "<table border=\"1\" class=\"dataframe\">\n",
       "  <thead>\n",
       "    <tr style=\"text-align: right;\">\n",
       "      <th></th>\n",
       "      <th>ID</th>\n",
       "      <th>Name</th>\n",
       "      <th>Sex</th>\n",
       "      <th>Age</th>\n",
       "      <th>Height</th>\n",
       "      <th>Weight</th>\n",
       "      <th>Team</th>\n",
       "      <th>NOC</th>\n",
       "      <th>Games</th>\n",
       "      <th>Year</th>\n",
       "      <th>Season</th>\n",
       "      <th>City</th>\n",
       "      <th>Sport</th>\n",
       "      <th>Event</th>\n",
       "      <th>Medal</th>\n",
       "      <th>region</th>\n",
       "      <th>notes</th>\n",
       "      <th>_merge</th>\n",
       "    </tr>\n",
       "  </thead>\n",
       "  <tbody>\n",
       "    <tr>\n",
       "      <th>0</th>\n",
       "      <td>1</td>\n",
       "      <td>A Dijiang</td>\n",
       "      <td>M</td>\n",
       "      <td>24.0</td>\n",
       "      <td>180.0</td>\n",
       "      <td>80.0</td>\n",
       "      <td>China</td>\n",
       "      <td>CHN</td>\n",
       "      <td>1992 Summer</td>\n",
       "      <td>1992</td>\n",
       "      <td>Summer</td>\n",
       "      <td>Barcelona</td>\n",
       "      <td>Basketball</td>\n",
       "      <td>Basketball Men's Basketball</td>\n",
       "      <td>NaN</td>\n",
       "      <td>China</td>\n",
       "      <td>NaN</td>\n",
       "      <td>both</td>\n",
       "    </tr>\n",
       "    <tr>\n",
       "      <th>1</th>\n",
       "      <td>2</td>\n",
       "      <td>A Lamusi</td>\n",
       "      <td>M</td>\n",
       "      <td>23.0</td>\n",
       "      <td>170.0</td>\n",
       "      <td>60.0</td>\n",
       "      <td>China</td>\n",
       "      <td>CHN</td>\n",
       "      <td>2012 Summer</td>\n",
       "      <td>2012</td>\n",
       "      <td>Summer</td>\n",
       "      <td>London</td>\n",
       "      <td>Judo</td>\n",
       "      <td>Judo Men's Extra-Lightweight</td>\n",
       "      <td>NaN</td>\n",
       "      <td>China</td>\n",
       "      <td>NaN</td>\n",
       "      <td>both</td>\n",
       "    </tr>\n",
       "    <tr>\n",
       "      <th>2</th>\n",
       "      <td>3</td>\n",
       "      <td>Gunnar Nielsen Aaby</td>\n",
       "      <td>M</td>\n",
       "      <td>24.0</td>\n",
       "      <td>NaN</td>\n",
       "      <td>NaN</td>\n",
       "      <td>Denmark</td>\n",
       "      <td>DEN</td>\n",
       "      <td>1920 Summer</td>\n",
       "      <td>1920</td>\n",
       "      <td>Summer</td>\n",
       "      <td>Antwerpen</td>\n",
       "      <td>Football</td>\n",
       "      <td>Football Men's Football</td>\n",
       "      <td>NaN</td>\n",
       "      <td>Denmark</td>\n",
       "      <td>NaN</td>\n",
       "      <td>both</td>\n",
       "    </tr>\n",
       "    <tr>\n",
       "      <th>3</th>\n",
       "      <td>4</td>\n",
       "      <td>Edgar Lindenau Aabye</td>\n",
       "      <td>M</td>\n",
       "      <td>34.0</td>\n",
       "      <td>NaN</td>\n",
       "      <td>NaN</td>\n",
       "      <td>Denmark/Sweden</td>\n",
       "      <td>DEN</td>\n",
       "      <td>1900 Summer</td>\n",
       "      <td>1900</td>\n",
       "      <td>Summer</td>\n",
       "      <td>Paris</td>\n",
       "      <td>Tug-Of-War</td>\n",
       "      <td>Tug-Of-War Men's Tug-Of-War</td>\n",
       "      <td>Gold</td>\n",
       "      <td>Denmark</td>\n",
       "      <td>NaN</td>\n",
       "      <td>both</td>\n",
       "    </tr>\n",
       "    <tr>\n",
       "      <th>4</th>\n",
       "      <td>5</td>\n",
       "      <td>Christine Jacoba Aaftink</td>\n",
       "      <td>F</td>\n",
       "      <td>21.0</td>\n",
       "      <td>185.0</td>\n",
       "      <td>82.0</td>\n",
       "      <td>Netherlands</td>\n",
       "      <td>NED</td>\n",
       "      <td>1988 Winter</td>\n",
       "      <td>1988</td>\n",
       "      <td>Winter</td>\n",
       "      <td>Calgary</td>\n",
       "      <td>Speed Skating</td>\n",
       "      <td>Speed Skating Women's 500 metres</td>\n",
       "      <td>NaN</td>\n",
       "      <td>Netherlands</td>\n",
       "      <td>NaN</td>\n",
       "      <td>both</td>\n",
       "    </tr>\n",
       "  </tbody>\n",
       "</table>\n",
       "</div>"
      ],
      "text/plain": [
       "   ID                      Name Sex   Age  Height  Weight            Team  \\\n",
       "0   1                 A Dijiang   M  24.0   180.0    80.0           China   \n",
       "1   2                  A Lamusi   M  23.0   170.0    60.0           China   \n",
       "2   3       Gunnar Nielsen Aaby   M  24.0     NaN     NaN         Denmark   \n",
       "3   4      Edgar Lindenau Aabye   M  34.0     NaN     NaN  Denmark/Sweden   \n",
       "4   5  Christine Jacoba Aaftink   F  21.0   185.0    82.0     Netherlands   \n",
       "\n",
       "   NOC        Games  Year  Season       City          Sport  \\\n",
       "0  CHN  1992 Summer  1992  Summer  Barcelona     Basketball   \n",
       "1  CHN  2012 Summer  2012  Summer     London           Judo   \n",
       "2  DEN  1920 Summer  1920  Summer  Antwerpen       Football   \n",
       "3  DEN  1900 Summer  1900  Summer      Paris     Tug-Of-War   \n",
       "4  NED  1988 Winter  1988  Winter    Calgary  Speed Skating   \n",
       "\n",
       "                              Event Medal       region notes _merge  \n",
       "0       Basketball Men's Basketball   NaN        China   NaN   both  \n",
       "1      Judo Men's Extra-Lightweight   NaN        China   NaN   both  \n",
       "2           Football Men's Football   NaN      Denmark   NaN   both  \n",
       "3       Tug-Of-War Men's Tug-Of-War  Gold      Denmark   NaN   both  \n",
       "4  Speed Skating Women's 500 metres   NaN  Netherlands   NaN   both  "
      ]
     },
     "execution_count": 18,
     "metadata": {},
     "output_type": "execute_result"
    }
   ],
   "source": [
    "athlete_regions.head()"
   ]
  },
  {
   "cell_type": "code",
   "execution_count": 19,
   "metadata": {},
   "outputs": [
    {
     "data": {
      "text/html": [
       "<div>\n",
       "<style scoped>\n",
       "    .dataframe tbody tr th:only-of-type {\n",
       "        vertical-align: middle;\n",
       "    }\n",
       "\n",
       "    .dataframe tbody tr th {\n",
       "        vertical-align: top;\n",
       "    }\n",
       "\n",
       "    .dataframe thead th {\n",
       "        text-align: right;\n",
       "    }\n",
       "</style>\n",
       "<table border=\"1\" class=\"dataframe\">\n",
       "  <thead>\n",
       "    <tr style=\"text-align: right;\">\n",
       "      <th></th>\n",
       "      <th>Country</th>\n",
       "      <th>NOC</th>\n",
       "      <th>ISO</th>\n",
       "    </tr>\n",
       "  </thead>\n",
       "  <tbody>\n",
       "    <tr>\n",
       "      <th>0</th>\n",
       "      <td>Afghanistan</td>\n",
       "      <td>AFG</td>\n",
       "      <td>AFG</td>\n",
       "    </tr>\n",
       "    <tr>\n",
       "      <th>1</th>\n",
       "      <td>Albania</td>\n",
       "      <td>ALB</td>\n",
       "      <td>ALB</td>\n",
       "    </tr>\n",
       "    <tr>\n",
       "      <th>2</th>\n",
       "      <td>Algeria</td>\n",
       "      <td>ALG</td>\n",
       "      <td>DZA</td>\n",
       "    </tr>\n",
       "    <tr>\n",
       "      <th>3</th>\n",
       "      <td>American Samoa</td>\n",
       "      <td>ASA</td>\n",
       "      <td>ASM</td>\n",
       "    </tr>\n",
       "    <tr>\n",
       "      <th>4</th>\n",
       "      <td>Andorra</td>\n",
       "      <td>AND</td>\n",
       "      <td>AND</td>\n",
       "    </tr>\n",
       "  </tbody>\n",
       "</table>\n",
       "</div>"
      ],
      "text/plain": [
       "          Country  NOC  ISO\n",
       "0     Afghanistan  AFG  AFG\n",
       "1         Albania  ALB  ALB\n",
       "2         Algeria  ALG  DZA\n",
       "3  American Samoa  ASA  ASM\n",
       "4         Andorra  AND  AND"
      ]
     },
     "execution_count": 19,
     "metadata": {},
     "output_type": "execute_result"
    }
   ],
   "source": [
    "noc_iso.head()"
   ]
  },
  {
   "cell_type": "code",
   "execution_count": 20,
   "metadata": {},
   "outputs": [
    {
     "ename": "NameError",
     "evalue": "name 'af2' is not defined",
     "output_type": "error",
     "traceback": [
      "\u001b[1;31m---------------------------------------------------------------------------\u001b[0m",
      "\u001b[1;31mNameError\u001b[0m                                 Traceback (most recent call last)",
      "\u001b[1;32mC:\\Users\\YUNALI~1\\AppData\\Local\\Temp/ipykernel_444/618996539.py\u001b[0m in \u001b[0;36m<module>\u001b[1;34m\u001b[0m\n\u001b[0;32m      1\u001b[0m \u001b[0mdf_sport\u001b[0m \u001b[1;33m=\u001b[0m \u001b[0mathlete_regions\u001b[0m\u001b[1;33m[\u001b[0m\u001b[0mathlete_regions\u001b[0m\u001b[1;33m[\u001b[0m\u001b[1;34m'Sport'\u001b[0m\u001b[1;33m]\u001b[0m\u001b[1;33m==\u001b[0m\u001b[0msport\u001b[0m\u001b[1;33m]\u001b[0m\u001b[1;33m\u001b[0m\u001b[1;33m\u001b[0m\u001b[0m\n\u001b[1;32m----> 2\u001b[1;33m \u001b[0mdf_sport\u001b[0m \u001b[1;33m=\u001b[0m \u001b[0maf2\u001b[0m\u001b[1;33m.\u001b[0m\u001b[0mcount_medals\u001b[0m\u001b[1;33m(\u001b[0m\u001b[0mdf_sport\u001b[0m\u001b[1;33m,\u001b[0m \u001b[1;34m\"NOC\"\u001b[0m\u001b[1;33m,\u001b[0m \u001b[1;34m\"Year\"\u001b[0m\u001b[1;33m)\u001b[0m\u001b[1;33m\u001b[0m\u001b[1;33m\u001b[0m\u001b[0m\n\u001b[0m\u001b[0;32m      3\u001b[0m \u001b[0mdf_sport\u001b[0m \u001b[1;33m=\u001b[0m \u001b[0mdf_sport\u001b[0m\u001b[1;33m.\u001b[0m\u001b[0mreset_index\u001b[0m\u001b[1;33m(\u001b[0m\u001b[1;33m)\u001b[0m\u001b[1;33m\u001b[0m\u001b[1;33m\u001b[0m\u001b[0m\n\u001b[0;32m      4\u001b[0m \u001b[0mdf_sport_iso\u001b[0m \u001b[1;33m=\u001b[0m \u001b[0mdf_sport\u001b[0m\u001b[1;33m.\u001b[0m\u001b[0mmerge\u001b[0m\u001b[1;33m(\u001b[0m\u001b[0mnoc_iso\u001b[0m\u001b[1;33m,\u001b[0m \u001b[0mon\u001b[0m\u001b[1;33m=\u001b[0m\u001b[1;34m\"NOC\"\u001b[0m\u001b[1;33m,\u001b[0m \u001b[0mhow\u001b[0m\u001b[1;33m=\u001b[0m\u001b[1;34m\"left\"\u001b[0m\u001b[1;33m)\u001b[0m\u001b[1;33m\u001b[0m\u001b[1;33m\u001b[0m\u001b[0m\n\u001b[0;32m      5\u001b[0m \u001b[0mdf_sport_iso\u001b[0m \u001b[1;33m=\u001b[0m \u001b[0mdf_sport_iso\u001b[0m\u001b[1;33m.\u001b[0m\u001b[0msort_values\u001b[0m\u001b[1;33m(\u001b[0m\u001b[0mby\u001b[0m\u001b[1;33m=\u001b[0m\u001b[1;33m[\u001b[0m\u001b[1;34m\"Year\"\u001b[0m\u001b[1;33m,\u001b[0m \u001b[1;34m\"NOC\"\u001b[0m\u001b[1;33m]\u001b[0m\u001b[1;33m)\u001b[0m\u001b[1;33m\u001b[0m\u001b[1;33m\u001b[0m\u001b[0m\n",
      "\u001b[1;31mNameError\u001b[0m: name 'af2' is not defined"
     ]
    }
   ],
   "source": [
    "df_sport = athlete_regions[athlete_regions['Sport']==sport]\n",
    "df_sport = af2.count_medals(df_sport, \"NOC\", \"Year\")\n",
    "df_sport = df_sport.reset_index()\n",
    "df_sport_iso = df_sport.merge(noc_iso, on=\"NOC\", how=\"left\")\n",
    "df_sport_iso = df_sport_iso.sort_values(by=[\"Year\", \"NOC\"])\n",
    "df_sport_iso.head()"
   ]
  },
  {
   "cell_type": "code",
   "execution_count": null,
   "metadata": {},
   "outputs": [
    {
     "data": {
      "text/plain": [
       "['Afghanistan',\n",
       " 'Albania',\n",
       " 'Algeria',\n",
       " 'American Samoa',\n",
       " 'Andorra',\n",
       " 'Angola',\n",
       " 'Antigua',\n",
       " 'Argentina',\n",
       " 'Armenia',\n",
       " 'Aruba',\n",
       " 'Australia',\n",
       " 'Austria',\n",
       " 'Azerbaijan',\n",
       " 'Bahamas',\n",
       " 'Bahrain',\n",
       " 'Bangladesh',\n",
       " 'Barbados',\n",
       " 'Belarus',\n",
       " 'Belgium',\n",
       " 'Belize',\n",
       " 'Benin',\n",
       " 'Bermuda',\n",
       " 'Bhutan',\n",
       " 'Boliva',\n",
       " 'Bosnia and Herzegovina',\n",
       " 'Botswana',\n",
       " 'Brazil',\n",
       " 'Brunei',\n",
       " 'Bulgaria',\n",
       " 'Burkina Faso',\n",
       " 'Burundi',\n",
       " 'Cambodia',\n",
       " 'Cameroon',\n",
       " 'Canada',\n",
       " 'Cape Verde',\n",
       " 'Cayman Islands',\n",
       " 'Central African Republic',\n",
       " 'Chad',\n",
       " 'Chile',\n",
       " 'China',\n",
       " 'Colombia',\n",
       " 'Comoros',\n",
       " 'Cook Islands',\n",
       " 'Costa Rica',\n",
       " 'Croatia',\n",
       " 'Cuba',\n",
       " 'Curacao',\n",
       " 'Cyprus',\n",
       " 'Czech Republic',\n",
       " 'Democratic Republic of the Congo',\n",
       " 'Denmark',\n",
       " 'Djibouti',\n",
       " 'Dominica',\n",
       " 'Dominican Republic',\n",
       " 'Ecuador',\n",
       " 'Egypt',\n",
       " 'El Salvador',\n",
       " 'Equatorial Guinea',\n",
       " 'Eritrea',\n",
       " 'Estonia',\n",
       " 'Ethiopia',\n",
       " 'Fiji',\n",
       " 'Finland',\n",
       " 'France',\n",
       " 'Gabon',\n",
       " 'Gambia',\n",
       " 'Georgia',\n",
       " 'Germany',\n",
       " 'Ghana',\n",
       " 'Greece',\n",
       " 'Grenada',\n",
       " 'Guam',\n",
       " 'Guatemala',\n",
       " 'Guinea',\n",
       " 'Guinea-Bissau',\n",
       " 'Guyana',\n",
       " 'Haiti',\n",
       " 'Honduras',\n",
       " 'Hungary',\n",
       " 'Iceland',\n",
       " 'India',\n",
       " 'Individual Olympic Athletes',\n",
       " 'Indonesia',\n",
       " 'Iran',\n",
       " 'Iraq',\n",
       " 'Ireland',\n",
       " 'Israel',\n",
       " 'Italy',\n",
       " 'Ivory Coast',\n",
       " 'Jamaica',\n",
       " 'Japan',\n",
       " 'Jordan',\n",
       " 'Kazakhstan',\n",
       " 'Kenya',\n",
       " 'Kiribati',\n",
       " 'Kosovo',\n",
       " 'Kuwait',\n",
       " 'Kyrgyzstan',\n",
       " 'Laos',\n",
       " 'Latvia',\n",
       " 'Lebanon',\n",
       " 'Lesotho',\n",
       " 'Liberia',\n",
       " 'Libya',\n",
       " 'Liechtenstein',\n",
       " 'Lithuania',\n",
       " 'Luxembourg',\n",
       " 'Macedonia',\n",
       " 'Madagascar',\n",
       " 'Malawi',\n",
       " 'Malaysia',\n",
       " 'Maldives',\n",
       " 'Mali',\n",
       " 'Malta',\n",
       " 'Marshall Islands',\n",
       " 'Mauritania',\n",
       " 'Mauritius',\n",
       " 'Mexico',\n",
       " 'Micronesia',\n",
       " 'Moldova',\n",
       " 'Monaco',\n",
       " 'Mongolia',\n",
       " 'Montenegro',\n",
       " 'Morocco',\n",
       " 'Mozambique',\n",
       " 'Myanmar',\n",
       " 'Namibia',\n",
       " 'Nauru',\n",
       " 'Nepal',\n",
       " 'Netherlands',\n",
       " 'New Zealand',\n",
       " 'Nicaragua',\n",
       " 'Niger',\n",
       " 'Nigeria',\n",
       " 'North Korea',\n",
       " 'Norway',\n",
       " 'Oman',\n",
       " 'Pakistan',\n",
       " 'Palau',\n",
       " 'Palestine',\n",
       " 'Panama',\n",
       " 'Papua New Guinea',\n",
       " 'Paraguay',\n",
       " 'Peru',\n",
       " 'Philippines',\n",
       " 'Poland',\n",
       " 'Portugal',\n",
       " 'Puerto Rico',\n",
       " 'Qatar',\n",
       " 'Republic of Congo',\n",
       " 'Romania',\n",
       " 'Russia',\n",
       " 'Rwanda',\n",
       " 'Saint Kitts',\n",
       " 'Saint Lucia',\n",
       " 'Saint Vincent',\n",
       " 'Samoa',\n",
       " 'San Marino',\n",
       " 'Sao Tome and Principe',\n",
       " 'Saudi Arabia',\n",
       " 'Senegal',\n",
       " 'Serbia',\n",
       " 'Seychelles',\n",
       " 'Sierra Leone',\n",
       " 'Singapore',\n",
       " 'Slovakia',\n",
       " 'Slovenia',\n",
       " 'Solomon Islands',\n",
       " 'Somalia',\n",
       " 'South Africa',\n",
       " 'South Korea',\n",
       " 'South Sudan',\n",
       " 'Spain',\n",
       " 'Sri Lanka',\n",
       " 'Sudan',\n",
       " 'Suriname',\n",
       " 'Swaziland',\n",
       " 'Sweden',\n",
       " 'Switzerland',\n",
       " 'Syria',\n",
       " 'Taiwan',\n",
       " 'Tajikistan',\n",
       " 'Tanzania',\n",
       " 'Thailand',\n",
       " 'Timor-Leste',\n",
       " 'Togo',\n",
       " 'Tonga',\n",
       " 'Trinidad',\n",
       " 'Tunisia',\n",
       " 'Turkey',\n",
       " 'Turkmenistan',\n",
       " 'UK',\n",
       " 'USA',\n",
       " 'Uganda',\n",
       " 'Ukraine',\n",
       " 'United Arab Emirates',\n",
       " 'Uruguay',\n",
       " 'Uzbekistan',\n",
       " 'Vanuatu',\n",
       " 'Venezuela',\n",
       " 'Vietnam',\n",
       " 'Virgin Islands, British',\n",
       " 'Virgin Islands, US',\n",
       " 'Yemen',\n",
       " 'Zambia',\n",
       " 'Zimbabwe']"
      ]
     },
     "execution_count": 52,
     "metadata": {},
     "output_type": "execute_result"
    }
   ],
   "source": [
    "athlete_regions = athlete_regions[athlete_regions['region'].notna()]\n",
    "region_list = athlete_regions['region'].unique().tolist()\n",
    "region_list.sort()\n",
    "region_list\n",
    "\n"
   ]
  },
  {
   "cell_type": "code",
   "execution_count": null,
   "metadata": {},
   "outputs": [
    {
     "data": {
      "text/html": [
       "<div>\n",
       "<style scoped>\n",
       "    .dataframe tbody tr th:only-of-type {\n",
       "        vertical-align: middle;\n",
       "    }\n",
       "\n",
       "    .dataframe tbody tr th {\n",
       "        vertical-align: top;\n",
       "    }\n",
       "\n",
       "    .dataframe thead th {\n",
       "        text-align: right;\n",
       "    }\n",
       "</style>\n",
       "<table border=\"1\" class=\"dataframe\">\n",
       "  <thead>\n",
       "    <tr style=\"text-align: right;\">\n",
       "      <th>Medal</th>\n",
       "      <th>Bronze</th>\n",
       "      <th>Gold</th>\n",
       "      <th>Silver</th>\n",
       "      <th>Total</th>\n",
       "    </tr>\n",
       "    <tr>\n",
       "      <th>Year</th>\n",
       "      <th></th>\n",
       "      <th></th>\n",
       "      <th></th>\n",
       "      <th></th>\n",
       "    </tr>\n",
       "  </thead>\n",
       "  <tbody>\n",
       "    <tr>\n",
       "      <th>1984</th>\n",
       "      <td>33</td>\n",
       "      <td>21</td>\n",
       "      <td>37</td>\n",
       "      <td>91</td>\n",
       "    </tr>\n",
       "    <tr>\n",
       "      <th>2010</th>\n",
       "      <td>8</td>\n",
       "      <td>67</td>\n",
       "      <td>15</td>\n",
       "      <td>90</td>\n",
       "    </tr>\n",
       "    <tr>\n",
       "      <th>2014</th>\n",
       "      <td>5</td>\n",
       "      <td>59</td>\n",
       "      <td>22</td>\n",
       "      <td>86</td>\n",
       "    </tr>\n",
       "    <tr>\n",
       "      <th>1992</th>\n",
       "      <td>15</td>\n",
       "      <td>32</td>\n",
       "      <td>33</td>\n",
       "      <td>80</td>\n",
       "    </tr>\n",
       "    <tr>\n",
       "      <th>2002</th>\n",
       "      <td>15</td>\n",
       "      <td>52</td>\n",
       "      <td>7</td>\n",
       "      <td>74</td>\n",
       "    </tr>\n",
       "  </tbody>\n",
       "</table>\n",
       "</div>"
      ],
      "text/plain": [
       "Medal  Bronze  Gold  Silver  Total\n",
       "Year                              \n",
       "1984       33    21      37     91\n",
       "2010        8    67      15     90\n",
       "2014        5    59      22     86\n",
       "1992       15    32      33     80\n",
       "2002       15    52       7     74"
      ]
     },
     "execution_count": 53,
     "metadata": {},
     "output_type": "execute_result"
    }
   ],
   "source": [
    "athlete_region = athlete_regions[athlete_regions['region']==\"Canada\"]\n",
    "df_top = af2.count_medals(athlete_region, \"Year\")\n",
    "df_top = df_top.head(10)\n",
    "df_top.head()"
   ]
  },
  {
   "cell_type": "code",
   "execution_count": null,
   "metadata": {},
   "outputs": [
    {
     "ename": "NameError",
     "evalue": "name 'chosen_region' is not defined",
     "output_type": "error",
     "traceback": [
      "\u001b[1;31m---------------------------------------------------------------------------\u001b[0m",
      "\u001b[1;31mNameError\u001b[0m                                 Traceback (most recent call last)",
      "\u001b[1;32mC:\\Users\\YUNALI~1\\AppData\\Local\\Temp/ipykernel_15052/1782526815.py\u001b[0m in \u001b[0;36m<module>\u001b[1;34m\u001b[0m\n\u001b[0;32m      1\u001b[0m fig = px.bar(\n\u001b[0;32m      2\u001b[0m     \u001b[0mdf_top\u001b[0m\u001b[1;33m,\u001b[0m \u001b[0mx\u001b[0m\u001b[1;33m=\u001b[0m\u001b[0mdf_top\u001b[0m\u001b[1;33m.\u001b[0m\u001b[0mindex\u001b[0m\u001b[1;33m,\u001b[0m \u001b[0my\u001b[0m\u001b[1;33m=\u001b[0m\u001b[0mmedal_list\u001b[0m\u001b[1;33m,\u001b[0m\u001b[1;33m\u001b[0m\u001b[1;33m\u001b[0m\u001b[0m\n\u001b[1;32m----> 3\u001b[1;33m     \u001b[0mtitle\u001b[0m\u001b[1;33m=\u001b[0m\u001b[1;34mf\"{chosen_region}: top {attr_dict[chosen_attribute]}\"\u001b[0m\u001b[1;33m,\u001b[0m\u001b[1;33m\u001b[0m\u001b[1;33m\u001b[0m\u001b[0m\n\u001b[0m\u001b[0;32m      4\u001b[0m     \u001b[0mlabels\u001b[0m\u001b[1;33m=\u001b[0m\u001b[1;33m{\u001b[0m\u001b[1;34m\"value\"\u001b[0m\u001b[1;33m:\u001b[0m\u001b[1;34m\"Number medals\"\u001b[0m\u001b[1;33m,\u001b[0m \u001b[1;34m\"variable\"\u001b[0m\u001b[1;33m:\u001b[0m\u001b[1;34m\"Medal\"\u001b[0m\u001b[1;33m}\u001b[0m\u001b[1;33m\u001b[0m\u001b[1;33m\u001b[0m\u001b[0m\n\u001b[0;32m      5\u001b[0m )\n",
      "\u001b[1;31mNameError\u001b[0m: name 'chosen_region' is not defined"
     ]
    }
   ],
   "source": [
    "fig = px.bar(\n",
    "    df_top, x=df_top.index, y=medal_list,\n",
    "    title=f\"{chosen_region}: top {attr_dict[chosen_attribute]}\",\n",
    "    labels={\"value\":\"Number medals\", \"variable\":\"Medal\"}\n",
    ")\n",
    "fig.update_layout(barmode='group', xaxis_tickangle=45)"
   ]
  },
  {
   "cell_type": "code",
   "execution_count": null,
   "metadata": {},
   "outputs": [
    {
     "data": {
      "text/plain": [
       "'{\"NOC\":{\"83\":\"AUS\",\"33\":\"GBR\",\"95\":\"GER\",\"19\":\"GRE\",\"90\":\"HUN\",\"72\":\"BOH\",\"17\":\"FRA\",\"1\":\"GBR\",\"40\":\"USA\",\"2\":\"USA\",\"39\":\"BOH\",\"12\":\"FRA\",\"5\":\"GRE\",\"0\":\"GBR\",\"93\":\"GER\",\"31\":\"SWE\",\"104\":\"ANZ\",\"70\":\"AUT\",\"81\":\"DEN\",\"7\":\"FRA\",\"6\":\"GBR\",\"27\":\"GER\",\"96\":\"NOR\",\"24\":\"RSA\",\"14\":\"SWE\",\"10\":\"FRA\",\"3\":\"GBR\",\"30\":\"JPN\",\"53\":\"RSA\",\"55\":\"TCH\",\"11\":\"FRA\",\"18\":\"GBR\",\"92\":\"ITA\",\"48\":\"NED\",\"4\":\"USA\",\"99\":\"ARG\",\"57\":\"AUS\",\"82\":\"BUL\",\"69\":\"ESP\",\"34\":\"FRG\",\"44\":\"SWE\",\"16\":\"TCH\",\"9\":\"USA\",\"47\":\"ARG\",\"46\":\"AUS\",\"41\":\"CRO\",\"23\":\"ESP\",\"45\":\"EUN\",\"35\":\"GER\",\"52\":\"RSA\",\"87\":\"SUI\",\"20\":\"USA\",\"64\":\"AUS\",\"42\":\"CZE\",\"22\":\"ESP\",\"63\":\"GBR\",\"77\":\"GER\",\"91\":\"IND\",\"26\":\"USA\",\"71\":\"AUS\",\"65\":\"BEL\",\"61\":\"CAN\",\"68\":\"ESP\",\"102\":\"FRA\",\"97\":\"GER\",\"49\":\"NED\",\"54\":\"RUS\",\"28\":\"USA\",\"50\":\"ARG\",\"100\":\"AUS\",\"80\":\"BEL\",\"25\":\"CHI\",\"76\":\"CHN\",\"74\":\"CRO\",\"67\":\"ESP\",\"101\":\"FRA\",\"62\":\"GER\",\"84\":\"USA\",\"85\":\"CHI\",\"75\":\"CHN\",\"43\":\"ESP\",\"32\":\"RUS\",\"103\":\"SRB\",\"59\":\"SUI\",\"56\":\"SWE\",\"29\":\"USA\",\"78\":\"ARG\",\"38\":\"BLR\",\"73\":\"CZE\",\"21\":\"FRA\",\"37\":\"GBR\",\"36\":\"RUS\",\"88\":\"SUI\",\"8\":\"USA\",\"79\":\"ARG\",\"15\":\"CZE\",\"66\":\"ESP\",\"89\":\"GBR\",\"86\":\"GER\",\"94\":\"JPN\",\"98\":\"PUR\",\"51\":\"ROU\",\"58\":\"RUS\",\"60\":\"SUI\",\"13\":\"USA\"},\"Year\":{\"83\":1896,\"33\":1896,\"95\":1896,\"19\":1896,\"90\":1896,\"72\":1900,\"17\":1900,\"1\":1900,\"40\":1900,\"2\":1904,\"39\":1906,\"12\":1906,\"5\":1906,\"0\":1908,\"93\":1908,\"31\":1908,\"104\":1912,\"70\":1912,\"81\":1912,\"7\":1912,\"6\":1912,\"27\":1912,\"96\":1912,\"24\":1912,\"14\":1912,\"10\":1920,\"3\":1920,\"30\":1920,\"53\":1920,\"55\":1920,\"11\":1924,\"18\":1924,\"92\":1924,\"48\":1924,\"4\":1924,\"99\":1988,\"57\":1988,\"82\":1988,\"69\":1988,\"34\":1988,\"44\":1988,\"16\":1988,\"9\":1988,\"47\":1992,\"46\":1992,\"41\":1992,\"23\":1992,\"45\":1992,\"35\":1992,\"52\":1992,\"87\":1992,\"20\":1992,\"64\":1996,\"42\":1996,\"22\":1996,\"63\":1996,\"77\":1996,\"91\":1996,\"26\":1996,\"71\":2000,\"65\":2000,\"61\":2000,\"68\":2000,\"102\":2000,\"97\":2000,\"49\":2000,\"54\":2000,\"28\":2000,\"50\":2004,\"100\":2004,\"80\":2004,\"25\":2004,\"76\":2004,\"74\":2004,\"67\":2004,\"101\":2004,\"62\":2004,\"84\":2004,\"85\":2008,\"75\":2008,\"43\":2008,\"32\":2008,\"103\":2008,\"59\":2008,\"56\":2008,\"29\":2008,\"78\":2012,\"38\":2012,\"73\":2012,\"21\":2012,\"37\":2012,\"36\":2012,\"88\":2012,\"8\":2012,\"79\":2016,\"15\":2016,\"66\":2016,\"89\":2016,\"86\":2016,\"94\":2016,\"98\":2016,\"51\":2016,\"58\":2016,\"60\":2016,\"13\":2016},\"Bronze\":{\"83\":1,\"33\":1,\"95\":0,\"19\":1,\"90\":1,\"72\":2,\"17\":2,\"1\":6,\"40\":2,\"2\":6,\"39\":3,\"12\":0,\"5\":3,\"0\":5,\"93\":0,\"31\":3,\"104\":1,\"70\":0,\"81\":0,\"7\":4,\"6\":3,\"27\":1,\"96\":1,\"24\":0,\"14\":2,\"10\":4,\"3\":1,\"30\":0,\"53\":1,\"55\":2,\"11\":2,\"18\":3,\"92\":1,\"48\":2,\"4\":0,\"99\":0,\"57\":2,\"82\":1,\"69\":0,\"34\":2,\"44\":3,\"16\":2,\"9\":2,\"47\":2,\"46\":2,\"41\":3,\"23\":1,\"45\":3,\"35\":0,\"52\":0,\"87\":0,\"20\":1,\"64\":0,\"42\":1,\"22\":2,\"63\":0,\"77\":2,\"91\":1,\"26\":0,\"71\":0,\"65\":2,\"61\":0,\"68\":2,\"102\":1,\"97\":0,\"49\":0,\"54\":0,\"28\":1,\"50\":2,\"100\":1,\"80\":0,\"25\":1,\"76\":0,\"74\":2,\"67\":0,\"101\":0,\"62\":0,\"84\":0,\"85\":0,\"75\":2,\"43\":0,\"32\":1,\"103\":1,\"59\":0,\"56\":0,\"29\":2,\"78\":1,\"38\":1,\"73\":0,\"21\":2,\"37\":0,\"36\":2,\"88\":0,\"8\":2,\"79\":0,\"15\":5,\"66\":0,\"89\":0,\"86\":0,\"94\":1,\"98\":0,\"51\":0,\"58\":0,\"60\":0,\"13\":2},\"Gold\":{\"83\":0,\"33\":2,\"95\":1,\"19\":0,\"90\":0,\"72\":0,\"17\":0,\"1\":6,\"40\":0,\"2\":3,\"39\":0,\"12\":5,\"5\":1,\"0\":8,\"93\":0,\"31\":0,\"104\":0,\"70\":0,\"81\":0,\"7\":4,\"6\":3,\"27\":2,\"96\":0,\"24\":3,\"14\":0,\"10\":3,\"3\":4,\"30\":0,\"53\":1,\"55\":0,\"11\":0,\"18\":0,\"92\":0,\"48\":0,\"4\":8,\"99\":0,\"57\":0,\"82\":0,\"69\":0,\"34\":1,\"44\":0,\"16\":1,\"9\":4,\"47\":0,\"46\":0,\"41\":0,\"23\":0,\"45\":0,\"35\":2,\"52\":0,\"87\":1,\"20\":3,\"64\":2,\"42\":0,\"22\":0,\"63\":0,\"77\":0,\"91\":0,\"26\":4,\"71\":0,\"65\":0,\"61\":2,\"68\":0,\"102\":0,\"97\":0,\"49\":0,\"54\":1,\"28\":3,\"50\":0,\"100\":0,\"80\":1,\"25\":3,\"76\":2,\"74\":0,\"67\":0,\"101\":0,\"62\":0,\"84\":0,\"85\":0,\"75\":0,\"43\":1,\"32\":1,\"103\":0,\"59\":2,\"56\":0,\"29\":2,\"78\":0,\"38\":2,\"73\":0,\"21\":0,\"37\":1,\"36\":0,\"88\":0,\"8\":5,\"79\":0,\"15\":0,\"66\":2,\"89\":1,\"86\":0,\"94\":0,\"98\":1,\"51\":0,\"58\":2,\"60\":0,\"13\":2},\"Silver\":{\"83\":0,\"33\":0,\"95\":0,\"19\":3,\"90\":0,\"72\":0,\"17\":3,\"1\":2,\"40\":1,\"2\":3,\"39\":0,\"12\":1,\"5\":5,\"0\":7,\"93\":1,\"31\":0,\"104\":0,\"70\":2,\"81\":1,\"7\":0,\"6\":3,\"27\":1,\"96\":0,\"24\":1,\"14\":4,\"10\":0,\"3\":5,\"30\":3,\"53\":0,\"55\":0,\"11\":4,\"18\":2,\"92\":0,\"48\":0,\"4\":2,\"99\":1,\"57\":0,\"82\":0,\"69\":2,\"34\":0,\"44\":0,\"16\":2,\"9\":1,\"47\":0,\"46\":0,\"41\":0,\"23\":3,\"45\":0,\"35\":1,\"52\":2,\"87\":0,\"20\":0,\"64\":0,\"42\":2,\"22\":2,\"63\":2,\"77\":0,\"91\":0,\"26\":0,\"71\":2,\"65\":0,\"61\":0,\"68\":0,\"102\":0,\"97\":1,\"49\":2,\"54\":1,\"28\":0,\"50\":0,\"100\":0,\"80\":0,\"25\":0,\"76\":0,\"74\":0,\"67\":2,\"101\":1,\"62\":2,\"84\":1,\"85\":1,\"75\":0,\"43\":2,\"32\":1,\"103\":0,\"59\":0,\"56\":2,\"29\":0,\"78\":0,\"38\":0,\"73\":2,\"21\":2,\"37\":2,\"36\":1,\"88\":1,\"8\":0,\"79\":1,\"15\":0,\"66\":0,\"89\":0,\"86\":1,\"94\":0,\"98\":0,\"51\":2,\"58\":0,\"60\":2,\"13\":2},\"Total\":{\"83\":1,\"33\":3,\"95\":1,\"19\":4,\"90\":1,\"72\":2,\"17\":5,\"1\":14,\"40\":3,\"2\":12,\"39\":3,\"12\":6,\"5\":9,\"0\":20,\"93\":1,\"31\":3,\"104\":1,\"70\":2,\"81\":1,\"7\":8,\"6\":9,\"27\":4,\"96\":1,\"24\":4,\"14\":6,\"10\":7,\"3\":10,\"30\":3,\"53\":2,\"55\":2,\"11\":6,\"18\":5,\"92\":1,\"48\":2,\"4\":10,\"99\":1,\"57\":2,\"82\":1,\"69\":2,\"34\":3,\"44\":3,\"16\":5,\"9\":7,\"47\":2,\"46\":2,\"41\":3,\"23\":4,\"45\":3,\"35\":3,\"52\":2,\"87\":1,\"20\":4,\"64\":2,\"42\":3,\"22\":4,\"63\":2,\"77\":2,\"91\":1,\"26\":4,\"71\":2,\"65\":2,\"61\":2,\"68\":2,\"102\":1,\"97\":1,\"49\":2,\"54\":2,\"28\":4,\"50\":2,\"100\":1,\"80\":1,\"25\":4,\"76\":2,\"74\":2,\"67\":2,\"101\":1,\"62\":2,\"84\":1,\"85\":1,\"75\":2,\"43\":3,\"32\":3,\"103\":1,\"59\":2,\"56\":2,\"29\":4,\"78\":1,\"38\":3,\"73\":2,\"21\":4,\"37\":3,\"36\":3,\"88\":1,\"8\":7,\"79\":1,\"15\":5,\"66\":2,\"89\":1,\"86\":1,\"94\":1,\"98\":1,\"51\":2,\"58\":2,\"60\":2,\"13\":6},\"Country\":{\"83\":\"Australia\",\"33\":\"United Kingdom[19]\",\"95\":\"Germany\",\"19\":\"Greece\",\"90\":\"Hungary\",\"72\":null,\"17\":\"France\",\"1\":\"United Kingdom[19]\",\"40\":\"United States\",\"2\":\"United States\",\"39\":null,\"12\":\"France\",\"5\":\"Greece\",\"0\":\"United Kingdom[19]\",\"93\":\"Germany\",\"31\":\"Sweden\",\"104\":null,\"70\":\"Austria\",\"81\":\"Denmark\",\"7\":\"France\",\"6\":\"United Kingdom[19]\",\"27\":\"Germany\",\"96\":\"Norway\",\"24\":\"South Africa\",\"14\":\"Sweden\",\"10\":\"France\",\"3\":\"United Kingdom[19]\",\"30\":\"Japan\",\"53\":\"South Africa\",\"55\":null,\"11\":\"France\",\"18\":\"United Kingdom[19]\",\"92\":\"Italy\",\"48\":\"Netherlands\",\"4\":\"United States\",\"99\":\"Argentina\",\"57\":\"Australia\",\"82\":\"Bulgaria\",\"69\":\"Spain\",\"34\":null,\"44\":\"Sweden\",\"16\":null,\"9\":\"United States\",\"47\":\"Argentina\",\"46\":\"Australia\",\"41\":\"Croatia\",\"23\":\"Spain\",\"45\":null,\"35\":\"Germany\",\"52\":\"South Africa\",\"87\":\"Switzerland\",\"20\":\"United States\",\"64\":\"Australia\",\"42\":\"Czech Republic\",\"22\":\"Spain\",\"63\":\"United Kingdom[19]\",\"77\":\"Germany\",\"91\":\"India\",\"26\":\"United States\",\"71\":\"Australia\",\"65\":\"Belgium\",\"61\":\"Canada\",\"68\":\"Spain\",\"102\":\"France\",\"97\":\"Germany\",\"49\":\"Netherlands\",\"54\":\"Russia\",\"28\":\"United States\",\"50\":\"Argentina\",\"100\":\"Australia\",\"80\":\"Belgium\",\"25\":\"Chile\",\"76\":\"China, People\\'s Republic of[3]\",\"74\":\"Croatia\",\"67\":\"Spain\",\"101\":\"France\",\"62\":\"Germany\",\"84\":\"United States\",\"85\":\"Chile\",\"75\":\"China, People\\'s Republic of[3]\",\"43\":\"Spain\",\"32\":\"Russia\",\"103\":\"Serbia\",\"59\":\"Switzerland\",\"56\":\"Sweden\",\"29\":\"United States\",\"78\":\"Argentina\",\"38\":\"Belarus\",\"73\":\"Czech Republic\",\"21\":\"France\",\"37\":\"United Kingdom[19]\",\"36\":\"Russia\",\"88\":\"Switzerland\",\"8\":\"United States\",\"79\":\"Argentina\",\"15\":\"Czech Republic\",\"66\":\"Spain\",\"89\":\"United Kingdom[19]\",\"86\":\"Germany\",\"94\":\"Japan\",\"98\":\"Puerto Rico\",\"51\":\"Romania\",\"58\":\"Russia\",\"60\":\"Switzerland\",\"13\":\"United States\"},\"ISO\":{\"83\":\"AUS\",\"33\":\"GBR\",\"95\":\"DEU\",\"19\":\"GRC\",\"90\":\"HUN\",\"72\":null,\"17\":\"FRA\",\"1\":\"GBR\",\"40\":\"USA\",\"2\":\"USA\",\"39\":null,\"12\":\"FRA\",\"5\":\"GRC\",\"0\":\"GBR\",\"93\":\"DEU\",\"31\":\"SWE\",\"104\":null,\"70\":\"AUT\",\"81\":\"DNK\",\"7\":\"FRA\",\"6\":\"GBR\",\"27\":\"DEU\",\"96\":\"NOR\",\"24\":\"ZAF\",\"14\":\"SWE\",\"10\":\"FRA\",\"3\":\"GBR\",\"30\":\"JPN\",\"53\":\"ZAF\",\"55\":null,\"11\":\"FRA\",\"18\":\"GBR\",\"92\":\"ITA\",\"48\":\"NLD\",\"4\":\"USA\",\"99\":\"ARG\",\"57\":\"AUS\",\"82\":\"BGR\",\"69\":\"ESP\",\"34\":null,\"44\":\"SWE\",\"16\":null,\"9\":\"USA\",\"47\":\"ARG\",\"46\":\"AUS\",\"41\":\"HRV\",\"23\":\"ESP\",\"45\":null,\"35\":\"DEU\",\"52\":\"ZAF\",\"87\":\"CHE\",\"20\":\"USA\",\"64\":\"AUS\",\"42\":\"CZE\",\"22\":\"ESP\",\"63\":\"GBR\",\"77\":\"DEU\",\"91\":\"IND\",\"26\":\"USA\",\"71\":\"AUS\",\"65\":\"BEL\",\"61\":\"CAN\",\"68\":\"ESP\",\"102\":\"FRA\",\"97\":\"DEU\",\"49\":\"NLD\",\"54\":\"RUS\",\"28\":\"USA\",\"50\":\"ARG\",\"100\":\"AUS\",\"80\":\"BEL\",\"25\":\"CHL\",\"76\":\"CHN\",\"74\":\"HRV\",\"67\":\"ESP\",\"101\":\"FRA\",\"62\":\"DEU\",\"84\":\"USA\",\"85\":\"CHL\",\"75\":\"CHN\",\"43\":\"ESP\",\"32\":\"RUS\",\"103\":\"SRB\",\"59\":\"CHE\",\"56\":\"SWE\",\"29\":\"USA\",\"78\":\"ARG\",\"38\":\"BLR\",\"73\":\"CZE\",\"21\":\"FRA\",\"37\":\"GBR\",\"36\":\"RUS\",\"88\":\"CHE\",\"8\":\"USA\",\"79\":\"ARG\",\"15\":\"CZE\",\"66\":\"ESP\",\"89\":\"GBR\",\"86\":\"DEU\",\"94\":\"JPN\",\"98\":\"PRI\",\"51\":\"ROU\",\"58\":\"RUS\",\"60\":\"CHE\",\"13\":\"USA\"}}'"
      ]
     },
     "execution_count": 6,
     "metadata": {},
     "output_type": "execute_result"
    }
   ],
   "source": [
    "df_sport_iso.to_json()"
   ]
  }
 ],
 "metadata": {
  "interpreter": {
   "hash": "45bb4b7b866d2ec3572f76d2a2a21f1d5e37deb521c662aea8884a59b07916c7"
  },
  "kernelspec": {
   "display_name": "Python 3.9.6 64-bit ('Databehandling-OS-Yuna-Joachim-5rMyZ2wT': pipenv)",
   "language": "python",
   "name": "python3"
  },
  "language_info": {
   "codemirror_mode": {
    "name": "ipython",
    "version": 3
   },
   "file_extension": ".py",
   "mimetype": "text/x-python",
   "name": "python",
   "nbconvert_exporter": "python",
   "pygments_lexer": "ipython3",
   "version": "3.9.6"
  },
  "orig_nbformat": 4
 },
 "nbformat": 4,
 "nbformat_minor": 2
}
